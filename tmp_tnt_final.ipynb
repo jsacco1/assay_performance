{
  "nbformat": 4,
  "nbformat_minor": 0,
  "metadata": {
    "colab": {
      "name": "tmp_tnt_final.ipynb",
      "provenance": [],
      "collapsed_sections": [],
      "authorship_tag": "ABX9TyNCzA0Iqd4Lo21mjWoghOQb",
      "include_colab_link": true
    },
    "kernelspec": {
      "name": "python3",
      "display_name": "Python 3"
    }
  },
  "cells": [
    {
      "cell_type": "markdown",
      "metadata": {
        "id": "view-in-github",
        "colab_type": "text"
      },
      "source": [
        "<a href=\"https://colab.research.google.com/github/jsacco1/elispot_assay_performance/blob/master/tmp_tnt_final.ipynb\" target=\"_parent\"><img src=\"https://colab.research.google.com/assets/colab-badge.svg\" alt=\"Open In Colab\"/></a>"
      ]
    },
    {
      "cell_type": "markdown",
      "metadata": {
        "id": "JgpdG02X-8qG",
        "colab_type": "text"
      },
      "source": [
        "# Load modules"
      ]
    },
    {
      "cell_type": "code",
      "metadata": {
        "id": "qlkFnBNVqD_g",
        "colab_type": "code",
        "outputId": "57176fb9-7095-457d-9080-651d00e5e1d0",
        "colab": {
          "base_uri": "https://localhost:8080/",
          "height": 71
        }
      },
      "source": [
        "# load modules\n",
        "import numpy as np \n",
        "import pandas as pd\n",
        "import csv\n",
        "\n",
        "from collections import Counter\n",
        "from numpy import where\n",
        "\n",
        "\n",
        "import seaborn as sns\n",
        "\n",
        "import sklearn as sk\n",
        "from sklearn.impute import SimpleImputer\n",
        "from sklearn.preprocessing import MinMaxScaler\n",
        "from sklearn.model_selection import train_test_split\n",
        "from sklearn.linear_model import LogisticRegression\n",
        "\n",
        "from sklearn.model_selection import KFold\n",
        "from sklearn.model_selection import cross_val_score\n",
        "\n",
        "import statsmodels.api as sm\n",
        "from statsmodels.imputation import mice\n",
        "\n",
        "from scipy import stats\n",
        "\n",
        "from datetime import datetime, date, time, timedelta\n",
        "\n",
        "import warnings\n",
        "warnings.filterwarnings('ignore')"
      ],
      "execution_count": 1,
      "outputs": [
        {
          "output_type": "stream",
          "text": [
            "/usr/local/lib/python3.6/dist-packages/statsmodels/tools/_testing.py:19: FutureWarning: pandas.util.testing is deprecated. Use the functions in the public API at pandas.testing instead.\n",
            "  import pandas.util.testing as tm\n"
          ],
          "name": "stderr"
        }
      ]
    },
    {
      "cell_type": "code",
      "metadata": {
        "id": "7uYMuO_rTq7j",
        "colab_type": "code",
        "colab": {}
      },
      "source": [
        "from pandas.plotting import scatter_matrix\n",
        "from matplotlib import pyplot\n",
        "from sklearn.model_selection import train_test_split\n",
        "from sklearn.model_selection import cross_val_score\n",
        "from sklearn.model_selection import StratifiedKFold\n",
        "from sklearn.metrics import classification_report\n",
        "from sklearn.metrics import confusion_matrix\n",
        "from sklearn.metrics import accuracy_score\n",
        "from sklearn.linear_model import LogisticRegression\n",
        "from sklearn.tree import DecisionTreeClassifier\n",
        "from sklearn.neighbors import KNeighborsClassifier\n",
        "from sklearn.discriminant_analysis import LinearDiscriminantAnalysis\n",
        "from sklearn.naive_bayes import GaussianNB\n",
        "from sklearn.svm import SVC"
      ],
      "execution_count": 0,
      "outputs": []
    },
    {
      "cell_type": "code",
      "metadata": {
        "id": "DrwZRXL8uLpj",
        "colab_type": "code",
        "colab": {}
      },
      "source": [
        "# set vars\n",
        "cellType = 'Bulk PBMC'\n",
        "stim = 'a-CD3' # Stimulus.in.Readout"
      ],
      "execution_count": 0,
      "outputs": []
    },
    {
      "cell_type": "code",
      "metadata": {
        "id": "RiwCA9BMqN9z",
        "colab_type": "code",
        "colab": {}
      },
      "source": [
        "# mnf1 = pd.read_csv(AAA, parse_dates=['MNFD','MNF01', 'MNFTM'], infer_datetime_format=['MNFTM'])\n",
        "# mnf2 = pd.read_csv(BBB, parse_dates=['MNFD','MNF01', 'MNFTM'], infer_datetime_format=['MNFTM'])\n",
        "# cd3 =  pd.read_csv(igs, index_col=False, infer_datetime_format=['Sample.Date'])\n",
        "\n",
        "\n",
        "mnf1 = pd.read_csv('/content/sample_data/MNF1.csv', parse_dates=['MNFD','MNF01', 'MNFTM'], infer_datetime_format=['MNFTM'])"
      ],
      "execution_count": 0,
      "outputs": []
    },
    {
      "cell_type": "code",
      "metadata": {
        "id": "4pAIf2bwrvEU",
        "colab_type": "code",
        "colab": {}
      },
      "source": [
        "mnf2 = pd.read_csv('/content/sample_data/MNF2.csv', parse_dates=['MNFD','MNF01', 'MNFTM'], infer_datetime_format=['MNFTM'])"
      ],
      "execution_count": 0,
      "outputs": []
    },
    {
      "cell_type": "code",
      "metadata": {
        "id": "3FRLCikZr5cw",
        "colab_type": "code",
        "colab": {}
      },
      "source": [
        "cd3 = pd.read_csv('/content/sample_data/IGS1_.csv', index_col=False, infer_datetime_format=['Sample.Date'])"
      ],
      "execution_count": 0,
      "outputs": []
    },
    {
      "cell_type": "code",
      "metadata": {
        "id": "8MReUfKLr-AR",
        "colab_type": "code",
        "colab": {}
      },
      "source": [
        "# left join mnfs on igs1"
      ],
      "execution_count": 0,
      "outputs": []
    },
    {
      "cell_type": "code",
      "metadata": {
        "id": "tDWnnwZRsEmp",
        "colab_type": "code",
        "outputId": "b5137ff7-0d20-4be0-def0-86b587883326",
        "colab": {
          "base_uri": "https://localhost:8080/",
          "height": 289
        }
      },
      "source": [
        "# inspect cols of mnf1, mnf2\n",
        "\n",
        "print('mnf1 cols: \\n', mnf1.columns)\n",
        "\n",
        "print('mnf2 cols: \\n',mnf2.columns)"
      ],
      "execution_count": 8,
      "outputs": [
        {
          "output_type": "stream",
          "text": [
            "mnf1 cols: \n",
            " Index(['ACCSNM', 'STUDYID', 'PATNUM', 'MNFD', 'MNFTM', 'VISIT', 'MNFTPT',\n",
            "       'MNFFV', 'MNFPVC', 'MNFALID', 'MNFCNTRY', 'MNFSITE', 'MNFINV',\n",
            "       'MNFSCRN', 'MNFSPRDT', 'MNFBIOM', 'MNFTUBEN', 'MNFSSTAT', 'MNFSCOND',\n",
            "       'MNFSCOM', 'MNFSHPST', 'MNFSHPDT', 'MNFRLAB', 'MNFTRKNM', 'MNFPNM',\n",
            "       'MNF01', 'MNF02', 'MNF03', 'MNF04', 'MNF05', 'MNF06', 'MNF07', 'MNF08',\n",
            "       'MNFSPBID', 'MNFREFID', 'MNF11', 'MNF12', 'MNF13', 'MNF14', 'MNF15',\n",
            "       'MNF16', 'MNF17', 'MNF18', 'MNF19', 'SOURCE_FILE_DATETIME'],\n",
            "      dtype='object')\n",
            "mnf2 cols: \n",
            " Index(['PATNUM', 'MNFD', 'MNFTM', 'VISIT', 'MNFTPT', 'MNFALID', 'MNFCNTRY',\n",
            "       'MNFSITE', 'MNFSPRDT', 'MNFBIOM', 'MNFTUBEN', 'MNFSSTAT', 'MNFSCOND',\n",
            "       'MNFSCOM', 'MNFSHPST', 'MNFSHPDT', 'MNF01', 'MNF02', 'MNF03', 'MNF04',\n",
            "       'MNF05', 'MNF06', 'MNF07', 'MNF08', 'MNFSPBID', 'MNFREFID', 'MNF12',\n",
            "       'MNF13', 'MNF14', 'MNF15', 'MNF16', 'MNF17', 'MNF18', 'MNF19'],\n",
            "      dtype='object')\n"
          ],
          "name": "stdout"
        }
      ]
    },
    {
      "cell_type": "code",
      "metadata": {
        "id": "Ex8PoSAqCqkt",
        "colab_type": "code",
        "outputId": "2f457862-65ba-4c7c-dab2-50e170a160c8",
        "colab": {
          "base_uri": "https://localhost:8080/",
          "height": 34
        }
      },
      "source": [
        "mnf1.shape, mnf2.shape"
      ],
      "execution_count": 9,
      "outputs": [
        {
          "output_type": "execute_result",
          "data": {
            "text/plain": [
              "((6260, 45), (1456, 34))"
            ]
          },
          "metadata": {
            "tags": []
          },
          "execution_count": 9
        }
      ]
    },
    {
      "cell_type": "code",
      "metadata": {
        "id": "pDS5qOMGvl9u",
        "colab_type": "code",
        "outputId": "b7a6bd90-7aa8-4aa0-926b-68a377592a60",
        "colab": {
          "base_uri": "https://localhost:8080/",
          "height": 459
        }
      },
      "source": [
        "cd3.columns"
      ],
      "execution_count": 10,
      "outputs": [
        {
          "output_type": "execute_result",
          "data": {
            "text/plain": [
              "Index(['Group', 'Patient.ID', 'MES.Work.Order.ID', 'Study.ID',\n",
              "       'Analytical.Study.ID', 'Sample.ID', 'Sample.Date', 'Visit',\n",
              "       'Type.of.Cells', 'Type.of.Stimulus.in.IVS', 'Stimulus.in.IVS',\n",
              "       'Stimulus.Format.in.IVS', 'Type.of.Stimulus.in.Readout',\n",
              "       'Stimulus.in.Readout', 'Target', 'Unique.Target.ID',\n",
              "       'Stimulus.Format.in.Readout', 'Number.of.Cells', 'Valid.DFR.eq.',\n",
              "       'Valid.DFR.2x.', 'EXR.Valid.DFR.eq.', 'EXR.Valid.DFR.2x.',\n",
              "       'Positive.Mean.Spot.Count.Filter', 'Negative.Mean.Spot.Count.Filter',\n",
              "       'NGT.01.IRV.Filter', 'ASC.Valid.DFR.eq.', 'ASC.Valid.DFR.2x.',\n",
              "       'Mean.Spot.Count', 'Mean.Spot.Count.Filter', 'IRV', 'IRV.Filter',\n",
              "       'Negative.Groups', 'NGT.01.DFR.eq..p.value',\n",
              "       'NGT.01.DFR.eq..p.value.Filter', 'NGT.01.DFR.2x..p.value',\n",
              "       'NGT.01.DFR.2x..p.value.Filter', 'Position.01', 'Position.02',\n",
              "       'Position.03', 'Position.04', 'Plate.Number.01', 'Plate.Number.02',\n",
              "       'Plate.Number.03', 'Plate.Number.04', 'Count.01', 'Count.02',\n",
              "       'Count.03', 'Count.04', 'Exp.was.analyzed.with.original.Negative.Group',\n",
              "       'Original.Negative.Group', 'Associated.Groups', 'Positive.Groups',\n",
              "       'Comparison.Groups', 'Families.for.Negative.Groups',\n",
              "       'Families.for.Comparison.Groups',\n",
              "       'Subfamily.Group.Pair.Size.for.Negative.Groups',\n",
              "       'Subfamily.Group.Pair.Size.for.Comparison.Groups',\n",
              "       'NGT.01.DFR.eq..statistic', 'NGT.01.DFR.2x..statistic',\n",
              "       'Plate.Barcode.01', 'Plate.Barcode.02', 'Plate.Barcode.03',\n",
              "       'Plate.Barcode.04', 'Filename.01', 'Filename.02', 'Filename.03',\n",
              "       'Filename.04'],\n",
              "      dtype='object')"
            ]
          },
          "metadata": {
            "tags": []
          },
          "execution_count": 10
        }
      ]
    },
    {
      "cell_type": "code",
      "metadata": {
        "id": "B3oIyFB5sMJo",
        "colab_type": "code",
        "colab": {}
      },
      "source": [
        "# check that only one col has your stimulus\n",
        "assert(len(cd3.columns[cd3.isin(['a-CD3']).sum() > 0]) == 1)"
      ],
      "execution_count": 0,
      "outputs": []
    },
    {
      "cell_type": "code",
      "metadata": {
        "id": "_sDF4XTXtUpL",
        "colab_type": "code",
        "colab": {}
      },
      "source": [
        "# rename some cols\n",
        "cd3.rename(columns = {'Patient.ID': 'PATNUM', 'Visit': 'VISIT', 'Mean.Spot.Count': 'counts'}, inplace =True)\n"
      ],
      "execution_count": 0,
      "outputs": []
    },
    {
      "cell_type": "code",
      "metadata": {
        "id": "0Gc6Mxp5thL3",
        "colab_type": "code",
        "outputId": "3df3ca51-ebf1-42c3-b79d-7f3bdfbddce1",
        "colab": {
          "base_uri": "https://localhost:8080/",
          "height": 213
        }
      },
      "source": [
        "cd3[0:3]"
      ],
      "execution_count": 13,
      "outputs": [
        {
          "output_type": "execute_result",
          "data": {
            "text/html": [
              "<div>\n",
              "<style scoped>\n",
              "    .dataframe tbody tr th:only-of-type {\n",
              "        vertical-align: middle;\n",
              "    }\n",
              "\n",
              "    .dataframe tbody tr th {\n",
              "        vertical-align: top;\n",
              "    }\n",
              "\n",
              "    .dataframe thead th {\n",
              "        text-align: right;\n",
              "    }\n",
              "</style>\n",
              "<table border=\"1\" class=\"dataframe\">\n",
              "  <thead>\n",
              "    <tr style=\"text-align: right;\">\n",
              "      <th></th>\n",
              "      <th>Group</th>\n",
              "      <th>PATNUM</th>\n",
              "      <th>MES.Work.Order.ID</th>\n",
              "      <th>Study.ID</th>\n",
              "      <th>Analytical.Study.ID</th>\n",
              "      <th>Sample.ID</th>\n",
              "      <th>Sample.Date</th>\n",
              "      <th>VISIT</th>\n",
              "      <th>Type.of.Cells</th>\n",
              "      <th>Type.of.Stimulus.in.IVS</th>\n",
              "      <th>Stimulus.in.IVS</th>\n",
              "      <th>Stimulus.Format.in.IVS</th>\n",
              "      <th>Type.of.Stimulus.in.Readout</th>\n",
              "      <th>Stimulus.in.Readout</th>\n",
              "      <th>Target</th>\n",
              "      <th>Unique.Target.ID</th>\n",
              "      <th>Stimulus.Format.in.Readout</th>\n",
              "      <th>Number.of.Cells</th>\n",
              "      <th>Valid.DFR.eq.</th>\n",
              "      <th>Valid.DFR.2x.</th>\n",
              "      <th>EXR.Valid.DFR.eq.</th>\n",
              "      <th>EXR.Valid.DFR.2x.</th>\n",
              "      <th>Positive.Mean.Spot.Count.Filter</th>\n",
              "      <th>Negative.Mean.Spot.Count.Filter</th>\n",
              "      <th>NGT.01.IRV.Filter</th>\n",
              "      <th>ASC.Valid.DFR.eq.</th>\n",
              "      <th>ASC.Valid.DFR.2x.</th>\n",
              "      <th>counts</th>\n",
              "      <th>Mean.Spot.Count.Filter</th>\n",
              "      <th>IRV</th>\n",
              "      <th>IRV.Filter</th>\n",
              "      <th>Negative.Groups</th>\n",
              "      <th>NGT.01.DFR.eq..p.value</th>\n",
              "      <th>NGT.01.DFR.eq..p.value.Filter</th>\n",
              "      <th>NGT.01.DFR.2x..p.value</th>\n",
              "      <th>NGT.01.DFR.2x..p.value.Filter</th>\n",
              "      <th>Position.01</th>\n",
              "      <th>Position.02</th>\n",
              "      <th>Position.03</th>\n",
              "      <th>Position.04</th>\n",
              "      <th>Plate.Number.01</th>\n",
              "      <th>Plate.Number.02</th>\n",
              "      <th>Plate.Number.03</th>\n",
              "      <th>Plate.Number.04</th>\n",
              "      <th>Count.01</th>\n",
              "      <th>Count.02</th>\n",
              "      <th>Count.03</th>\n",
              "      <th>Count.04</th>\n",
              "      <th>Exp.was.analyzed.with.original.Negative.Group</th>\n",
              "      <th>Original.Negative.Group</th>\n",
              "      <th>Associated.Groups</th>\n",
              "      <th>Positive.Groups</th>\n",
              "      <th>Comparison.Groups</th>\n",
              "      <th>Families.for.Negative.Groups</th>\n",
              "      <th>Families.for.Comparison.Groups</th>\n",
              "      <th>Subfamily.Group.Pair.Size.for.Negative.Groups</th>\n",
              "      <th>Subfamily.Group.Pair.Size.for.Comparison.Groups</th>\n",
              "      <th>NGT.01.DFR.eq..statistic</th>\n",
              "      <th>NGT.01.DFR.2x..statistic</th>\n",
              "      <th>Plate.Barcode.01</th>\n",
              "      <th>Plate.Barcode.02</th>\n",
              "      <th>Plate.Barcode.03</th>\n",
              "      <th>Plate.Barcode.04</th>\n",
              "      <th>Filename.01</th>\n",
              "      <th>Filename.02</th>\n",
              "      <th>Filename.03</th>\n",
              "      <th>Filename.04</th>\n",
              "    </tr>\n",
              "  </thead>\n",
              "  <tbody>\n",
              "    <tr>\n",
              "      <th>0</th>\n",
              "      <td>1</td>\n",
              "      <td>44212</td>\n",
              "      <td>NaN</td>\n",
              "      <td>GO39733</td>\n",
              "      <td>GA-RB-017-01A</td>\n",
              "      <td>6208477593</td>\n",
              "      <td>11FEB2019</td>\n",
              "      <td>DM28</td>\n",
              "      <td>Bulk PBMC</td>\n",
              "      <td>NaN</td>\n",
              "      <td>NaN</td>\n",
              "      <td>NaN</td>\n",
              "      <td>peptides</td>\n",
              "      <td>Peptides A1</td>\n",
              "      <td>79</td>\n",
              "      <td>GO39733_A44212_SAKRKSKKNIRKQQMKILFNVVLEARE</td>\n",
              "      <td>pooled peptides</td>\n",
              "      <td>NaN</td>\n",
              "      <td>NT</td>\n",
              "      <td>0</td>\n",
              "      <td>NT</td>\n",
              "      <td>0</td>\n",
              "      <td>PASS</td>\n",
              "      <td>PASS</td>\n",
              "      <td>PASS</td>\n",
              "      <td>-1</td>\n",
              "      <td>-1</td>\n",
              "      <td>0.0</td>\n",
              "      <td>FAIL</td>\n",
              "      <td>0.000000</td>\n",
              "      <td>PASS</td>\n",
              "      <td>3</td>\n",
              "      <td>NT</td>\n",
              "      <td>NT</td>\n",
              "      <td>1.0</td>\n",
              "      <td>FAIL</td>\n",
              "      <td>B01</td>\n",
              "      <td>B02</td>\n",
              "      <td>NaN</td>\n",
              "      <td>NaN</td>\n",
              "      <td>1</td>\n",
              "      <td>1.0</td>\n",
              "      <td>NaN</td>\n",
              "      <td>NaN</td>\n",
              "      <td>0</td>\n",
              "      <td>0</td>\n",
              "      <td>NaN</td>\n",
              "      <td>NaN</td>\n",
              "      <td>True</td>\n",
              "      <td>-1</td>\n",
              "      <td>0</td>\n",
              "      <td>25</td>\n",
              "      <td>0</td>\n",
              "      <td>3</td>\n",
              "      <td>0</td>\n",
              "      <td>2</td>\n",
              "      <td>4</td>\n",
              "      <td>0.0</td>\n",
              "      <td>NT</td>\n",
              "      <td>-1.1489401715370782</td>\n",
              "      <td>A44212Pl1_291019_10-13-00-count_QC</td>\n",
              "      <td>A44212Pl1_291019_10-13-00-count_QC</td>\n",
              "      <td>NaN</td>\n",
              "      <td>NaN</td>\n",
              "      <td>NaN</td>\n",
              "      <td>NaN</td>\n",
              "      <td>NaN</td>\n",
              "    </tr>\n",
              "    <tr>\n",
              "      <th>1</th>\n",
              "      <td>2</td>\n",
              "      <td>44212</td>\n",
              "      <td>NaN</td>\n",
              "      <td>GO39733</td>\n",
              "      <td>GA-RB-017-01A</td>\n",
              "      <td>6209278307</td>\n",
              "      <td>04JUL2019</td>\n",
              "      <td>EOTBII</td>\n",
              "      <td>Bulk PBMC</td>\n",
              "      <td>NaN</td>\n",
              "      <td>NaN</td>\n",
              "      <td>NaN</td>\n",
              "      <td>peptides</td>\n",
              "      <td>Peptides A1</td>\n",
              "      <td>79</td>\n",
              "      <td>GO39733_A44212_SAKRKSKKNIRKQQMKILFNVVLEARE</td>\n",
              "      <td>pooled peptides</td>\n",
              "      <td>NaN</td>\n",
              "      <td>NT</td>\n",
              "      <td>0</td>\n",
              "      <td>NT</td>\n",
              "      <td>0</td>\n",
              "      <td>PASS</td>\n",
              "      <td>PASS</td>\n",
              "      <td>PASS</td>\n",
              "      <td>-1</td>\n",
              "      <td>-1</td>\n",
              "      <td>0.0</td>\n",
              "      <td>FAIL</td>\n",
              "      <td>0.000000</td>\n",
              "      <td>PASS</td>\n",
              "      <td>4</td>\n",
              "      <td>NT</td>\n",
              "      <td>NT</td>\n",
              "      <td>1.0</td>\n",
              "      <td>FAIL</td>\n",
              "      <td>B03</td>\n",
              "      <td>B04</td>\n",
              "      <td>NaN</td>\n",
              "      <td>NaN</td>\n",
              "      <td>1</td>\n",
              "      <td>1.0</td>\n",
              "      <td>NaN</td>\n",
              "      <td>NaN</td>\n",
              "      <td>0</td>\n",
              "      <td>0</td>\n",
              "      <td>NaN</td>\n",
              "      <td>NaN</td>\n",
              "      <td>True</td>\n",
              "      <td>-1</td>\n",
              "      <td>0</td>\n",
              "      <td>26</td>\n",
              "      <td>0</td>\n",
              "      <td>4</td>\n",
              "      <td>0</td>\n",
              "      <td>2</td>\n",
              "      <td>4</td>\n",
              "      <td>0.0</td>\n",
              "      <td>NT</td>\n",
              "      <td>-0.9568423182634564</td>\n",
              "      <td>A44212Pl1_291019_10-13-00-count_QC</td>\n",
              "      <td>A44212Pl1_291019_10-13-00-count_QC</td>\n",
              "      <td>NaN</td>\n",
              "      <td>NaN</td>\n",
              "      <td>NaN</td>\n",
              "      <td>NaN</td>\n",
              "      <td>NaN</td>\n",
              "    </tr>\n",
              "    <tr>\n",
              "      <th>2</th>\n",
              "      <td>5</td>\n",
              "      <td>44212</td>\n",
              "      <td>NaN</td>\n",
              "      <td>GO39733</td>\n",
              "      <td>GA-RB-017-01A</td>\n",
              "      <td>6208477593</td>\n",
              "      <td>11FEB2019</td>\n",
              "      <td>DM28</td>\n",
              "      <td>Bulk PBMC</td>\n",
              "      <td>NaN</td>\n",
              "      <td>NaN</td>\n",
              "      <td>NaN</td>\n",
              "      <td>peptides</td>\n",
              "      <td>Peptides A2</td>\n",
              "      <td>59</td>\n",
              "      <td>GO39733_A44212_ELLMNGTSSTAEALGLKGSSPTPPCSP</td>\n",
              "      <td>pooled peptides</td>\n",
              "      <td>NaN</td>\n",
              "      <td>NT</td>\n",
              "      <td>0</td>\n",
              "      <td>NT</td>\n",
              "      <td>0</td>\n",
              "      <td>PASS</td>\n",
              "      <td>PASS</td>\n",
              "      <td>PASS</td>\n",
              "      <td>-1</td>\n",
              "      <td>-1</td>\n",
              "      <td>8.5</td>\n",
              "      <td>FAIL</td>\n",
              "      <td>0.052632</td>\n",
              "      <td>PASS</td>\n",
              "      <td>3</td>\n",
              "      <td>NT</td>\n",
              "      <td>NT</td>\n",
              "      <td>1.0</td>\n",
              "      <td>FAIL</td>\n",
              "      <td>B09</td>\n",
              "      <td>B10</td>\n",
              "      <td>NaN</td>\n",
              "      <td>NaN</td>\n",
              "      <td>1</td>\n",
              "      <td>1.0</td>\n",
              "      <td>NaN</td>\n",
              "      <td>NaN</td>\n",
              "      <td>8</td>\n",
              "      <td>9</td>\n",
              "      <td>NaN</td>\n",
              "      <td>NaN</td>\n",
              "      <td>True</td>\n",
              "      <td>-1</td>\n",
              "      <td>0</td>\n",
              "      <td>25</td>\n",
              "      <td>0</td>\n",
              "      <td>3</td>\n",
              "      <td>0</td>\n",
              "      <td>2</td>\n",
              "      <td>4</td>\n",
              "      <td>0.0</td>\n",
              "      <td>NT</td>\n",
              "      <td>-0.14745638372773767</td>\n",
              "      <td>A44212Pl1_291019_10-13-00-count_QC</td>\n",
              "      <td>A44212Pl1_291019_10-13-00-count_QC</td>\n",
              "      <td>NaN</td>\n",
              "      <td>NaN</td>\n",
              "      <td>NaN</td>\n",
              "      <td>NaN</td>\n",
              "      <td>NaN</td>\n",
              "    </tr>\n",
              "  </tbody>\n",
              "</table>\n",
              "</div>"
            ],
            "text/plain": [
              "   Group  PATNUM  MES.Work.Order.ID  ... Filename.02 Filename.03 Filename.04\n",
              "0      1   44212                NaN  ...         NaN         NaN         NaN\n",
              "1      2   44212                NaN  ...         NaN         NaN         NaN\n",
              "2      5   44212                NaN  ...         NaN         NaN         NaN\n",
              "\n",
              "[3 rows x 67 columns]"
            ]
          },
          "metadata": {
            "tags": []
          },
          "execution_count": 13
        }
      ]
    },
    {
      "cell_type": "code",
      "metadata": {
        "id": "HAB5Tffmti_P",
        "colab_type": "code",
        "colab": {}
      },
      "source": [
        "# filter for 'type of cell' column\n",
        "typecell_col = ''.join([col for col in [col for col in cd3.columns if \"Cells\" in col] if \"Type\" in col])  #change index if different"
      ],
      "execution_count": 0,
      "outputs": []
    },
    {
      "cell_type": "code",
      "metadata": {
        "id": "e655FOzNt7HD",
        "colab_type": "code",
        "outputId": "053879d1-dc63-4161-8421-d2575f8f37ca",
        "colab": {
          "base_uri": "https://localhost:8080/",
          "height": 34
        }
      },
      "source": [
        "print(typecell_col)"
      ],
      "execution_count": 15,
      "outputs": [
        {
          "output_type": "stream",
          "text": [
            "Type.of.Cells\n"
          ],
          "name": "stdout"
        }
      ]
    },
    {
      "cell_type": "code",
      "metadata": {
        "id": "KgQ6k9srv0Zx",
        "colab_type": "code",
        "outputId": "a5e486fc-2edd-4a8d-a1d3-fb6e274a46cf",
        "colab": {
          "base_uri": "https://localhost:8080/",
          "height": 85
        }
      },
      "source": [
        "cd3[typecell_col].value_counts()"
      ],
      "execution_count": 16,
      "outputs": [
        {
          "output_type": "execute_result",
          "data": {
            "text/plain": [
              "Bulk PBMC    1250\n",
              "CD4           878\n",
              "CD8           878\n",
              "Name: Type.of.Cells, dtype: int64"
            ]
          },
          "metadata": {
            "tags": []
          },
          "execution_count": 16
        }
      ]
    },
    {
      "cell_type": "code",
      "metadata": {
        "id": "RMd8J2X-t8lq",
        "colab_type": "code",
        "outputId": "8ff28b73-e6be-4ea9-a078-a882bf7d5f17",
        "colab": {
          "base_uri": "https://localhost:8080/",
          "height": 34
        }
      },
      "source": [
        "# find and filter stimulus column. chained conditions\n",
        "stim_col = ''.join(cd3.columns[cd3.isin(['a-CD3']).sum() > 0])\n",
        "print(stim_col)"
      ],
      "execution_count": 17,
      "outputs": [
        {
          "output_type": "stream",
          "text": [
            "Stimulus.in.Readout\n"
          ],
          "name": "stdout"
        }
      ]
    },
    {
      "cell_type": "code",
      "metadata": {
        "id": "_DQiQV8wuExq",
        "colab_type": "code",
        "outputId": "e35b5c8f-054b-4a00-c0c1-85d4cd89b41e",
        "colab": {
          "base_uri": "https://localhost:8080/",
          "height": 34
        }
      },
      "source": [
        "# shape filtered on a-CD3\n",
        "cd3[cd3[stim_col] == stim].shape \n"
      ],
      "execution_count": 18,
      "outputs": [
        {
          "output_type": "execute_result",
          "data": {
            "text/plain": [
              "(259, 67)"
            ]
          },
          "metadata": {
            "tags": []
          },
          "execution_count": 18
        }
      ]
    },
    {
      "cell_type": "code",
      "metadata": {
        "id": "B6QW8aATu_EV",
        "colab_type": "code",
        "outputId": "afbbdcf3-8200-4f68-8aeb-8c1dc550d485",
        "colab": {
          "base_uri": "https://localhost:8080/",
          "height": 34
        }
      },
      "source": [
        "# shape filtered on desired type of cell (Bulk PBMC)\n",
        "cd3[cd3[typecell_col] == cellType].shape "
      ],
      "execution_count": 19,
      "outputs": [
        {
          "output_type": "execute_result",
          "data": {
            "text/plain": [
              "(1250, 67)"
            ]
          },
          "metadata": {
            "tags": []
          },
          "execution_count": 19
        }
      ]
    },
    {
      "cell_type": "code",
      "metadata": {
        "id": "YwN8IZlawrps",
        "colab_type": "code",
        "colab": {}
      },
      "source": [
        "# isolate Bulk PBMC\n",
        "cd3 = cd3[cd3[typecell_col] == cellType]"
      ],
      "execution_count": 0,
      "outputs": []
    },
    {
      "cell_type": "code",
      "metadata": {
        "id": "lsfUBx-rxu6n",
        "colab_type": "code",
        "colab": {}
      },
      "source": [
        "# isolate a-CD3 stimulus from bulk PBMC\n",
        "cd3 = cd3[cd3[stim_col] == stim]"
      ],
      "execution_count": 0,
      "outputs": []
    },
    {
      "cell_type": "code",
      "metadata": {
        "id": "zP8j1w-syNbr",
        "colab_type": "code",
        "outputId": "328509f3-051b-4e84-ba78-fa772ec59008",
        "colab": {
          "base_uri": "https://localhost:8080/",
          "height": 51
        }
      },
      "source": [
        "# check that a-CD3 is only stimulus left\n",
        "cd3['Stimulus.in.Readout'].value_counts()"
      ],
      "execution_count": 22,
      "outputs": [
        {
          "output_type": "execute_result",
          "data": {
            "text/plain": [
              "a-CD3    105\n",
              "Name: Stimulus.in.Readout, dtype: int64"
            ]
          },
          "metadata": {
            "tags": []
          },
          "execution_count": 22
        }
      ]
    },
    {
      "cell_type": "code",
      "metadata": {
        "id": "RJuzPz_FzmjU",
        "colab_type": "code",
        "outputId": "51b3e575-b351-43f0-9de6-86cf99d4b2eb",
        "colab": {
          "base_uri": "https://localhost:8080/",
          "height": 51
        }
      },
      "source": [
        "# check bulk PBMC isolated\n",
        "cd3[typecell_col].value_counts()"
      ],
      "execution_count": 23,
      "outputs": [
        {
          "output_type": "execute_result",
          "data": {
            "text/plain": [
              "Bulk PBMC    105\n",
              "Name: Type.of.Cells, dtype: int64"
            ]
          },
          "metadata": {
            "tags": []
          },
          "execution_count": 23
        }
      ]
    },
    {
      "cell_type": "code",
      "metadata": {
        "id": "4vbfjMyt0BFk",
        "colab_type": "code",
        "outputId": "3f4f4ce7-e30b-4f91-c830-bbecbe28eefa",
        "colab": {
          "base_uri": "https://localhost:8080/",
          "height": 34
        }
      },
      "source": [
        "# drop all from cd3 except stimulus.in.readout, patnum, visit, and sample.id, type of cells, and mean spot count ('counts')\n",
        "cd_keepers = ['PATNUM', 'VISIT', 'Sample.ID', 'Sample.Date', typecell_col, stim_col, 'counts']\n",
        "print(cd_keepers)\n",
        "\n",
        "cd3 = cd3[cd_keepers]"
      ],
      "execution_count": 24,
      "outputs": [
        {
          "output_type": "stream",
          "text": [
            "['PATNUM', 'VISIT', 'Sample.ID', 'Sample.Date', 'Type.of.Cells', 'Stimulus.in.Readout', 'counts']\n"
          ],
          "name": "stdout"
        }
      ]
    },
    {
      "cell_type": "code",
      "metadata": {
        "id": "i89Z8td90gPI",
        "colab_type": "code",
        "outputId": "12c3962e-83c1-420d-b18a-9672f82bb5b3",
        "colab": {
          "base_uri": "https://localhost:8080/",
          "height": 306
        }
      },
      "source": [
        "print(cd3[0:3],\"\\n\" , \"CD3 dataframe, filtered on stimulus and cell type: \\n\", cd3.shape, \" \\n\", \"null values by col: \\n\", cd3.isnull().sum())"
      ],
      "execution_count": 25,
      "outputs": [
        {
          "output_type": "stream",
          "text": [
            "    PATNUM   VISIT   Sample.ID  ... Type.of.Cells Stimulus.in.Readout  counts\n",
            "40   44212    DM28  6208477593  ...     Bulk PBMC               a-CD3  1200.0\n",
            "41   44212  EOTBII  6209278307  ...     Bulk PBMC               a-CD3  1200.0\n",
            "42   44212    DM28  6208477593  ...     Bulk PBMC               a-CD3  1200.0\n",
            "\n",
            "[3 rows x 7 columns] \n",
            " CD3 dataframe, filtered on stimulus and cell type: \n",
            " (105, 7)  \n",
            " null values by col: \n",
            " PATNUM                 0\n",
            "VISIT                  0\n",
            "Sample.ID              0\n",
            "Sample.Date            0\n",
            "Type.of.Cells          0\n",
            "Stimulus.in.Readout    0\n",
            "counts                 0\n",
            "dtype: int64\n"
          ],
          "name": "stdout"
        }
      ]
    },
    {
      "cell_type": "code",
      "metadata": {
        "id": "1gam29ByMwla",
        "colab_type": "code",
        "outputId": "f12f0d34-b608-48f0-e997-1acd4308c49e",
        "colab": {
          "base_uri": "https://localhost:8080/",
          "height": 34
        }
      },
      "source": [
        "len(cd3.PATNUM.unique())"
      ],
      "execution_count": 26,
      "outputs": [
        {
          "output_type": "execute_result",
          "data": {
            "text/plain": [
              "34"
            ]
          },
          "metadata": {
            "tags": []
          },
          "execution_count": 26
        }
      ]
    },
    {
      "cell_type": "code",
      "metadata": {
        "id": "PESZiqjn0drN",
        "colab_type": "code",
        "colab": {}
      },
      "source": [
        ""
      ],
      "execution_count": 0,
      "outputs": []
    },
    {
      "cell_type": "markdown",
      "metadata": {
        "id": "wydJ_IIC-hjz",
        "colab_type": "text"
      },
      "source": [
        "# Merge MNF1 and MNF2 on common columns"
      ]
    },
    {
      "cell_type": "code",
      "metadata": {
        "id": "hU9pN2sb-nIO",
        "colab_type": "code",
        "colab": {}
      },
      "source": [
        "mnf_keepers = ['PATNUM', 'MNFD', 'MNFTM', 'VISIT', 'MNFTPT', 'MNFALID', 'MNFCNTRY',\n",
        "       'MNFSITE', 'MNFSPRDT', 'MNFBIOM', 'MNFTUBEN', 'MNF01', 'MNFREFID', 'MNF06', 'MNF14', 'MNF15', 'MNF16', 'MNF17']"
      ],
      "execution_count": 0,
      "outputs": []
    },
    {
      "cell_type": "code",
      "metadata": {
        "id": "RTntGSy4A2Yx",
        "colab_type": "code",
        "colab": {}
      },
      "source": [
        "# drop cols\n",
        "mnf1_dropped = mnf1[mnf_keepers]\n",
        "mnf2_dropped = mnf2[mnf_keepers]"
      ],
      "execution_count": 0,
      "outputs": []
    },
    {
      "cell_type": "code",
      "metadata": {
        "id": "bT03_FvnAosI",
        "colab_type": "code",
        "colab": {}
      },
      "source": [
        "merged = mnf1_dropped.append(mnf2_dropped, ignore_index=True)"
      ],
      "execution_count": 0,
      "outputs": []
    },
    {
      "cell_type": "code",
      "metadata": {
        "id": "lRGjnW6FBkBY",
        "colab_type": "code",
        "outputId": "4b8dcf63-0b6d-4496-928b-3fea32569797",
        "colab": {
          "base_uri": "https://localhost:8080/",
          "height": 34
        }
      },
      "source": [
        "merged.shape"
      ],
      "execution_count": 30,
      "outputs": [
        {
          "output_type": "execute_result",
          "data": {
            "text/plain": [
              "(7716, 18)"
            ]
          },
          "metadata": {
            "tags": []
          },
          "execution_count": 30
        }
      ]
    },
    {
      "cell_type": "code",
      "metadata": {
        "id": "mN550Tq-CZLc",
        "colab_type": "code",
        "outputId": "25dbe118-0c94-4b35-a137-4718034f2863",
        "colab": {
          "base_uri": "https://localhost:8080/",
          "height": 34
        }
      },
      "source": [
        "# check for dup indices\n",
        "merged.index[merged.index.duplicated()].unique()\n",
        "len(merged[merged.index.duplicated()])"
      ],
      "execution_count": 31,
      "outputs": [
        {
          "output_type": "execute_result",
          "data": {
            "text/plain": [
              "0"
            ]
          },
          "metadata": {
            "tags": []
          },
          "execution_count": 31
        }
      ]
    },
    {
      "cell_type": "markdown",
      "metadata": {
        "id": "hLXO7qNo9taI",
        "colab_type": "text"
      },
      "source": [
        "# Derive Turn-Around Time for Sample Manifests"
      ]
    },
    {
      "cell_type": "code",
      "metadata": {
        "id": "roayDWNC902Z",
        "colab_type": "code",
        "colab": {}
      },
      "source": [
        "# make a collection time column \n",
        "# create collection column and reformat\n",
        "merged['MNFTM']  = merged.MNFTM.dt.time\n",
        "\n",
        "merged['MNFTM'] = pd.to_timedelta(merged['MNFTM'].astype(str))\n",
        "\n",
        "merged[\"Collection\"] = pd.to_datetime(merged.pop('MNFD')) + pd.to_timedelta(merged.pop('MNFTM').astype(str))\n"
      ],
      "execution_count": 0,
      "outputs": []
    },
    {
      "cell_type": "code",
      "metadata": {
        "id": "EryXRLzc-GQD",
        "colab_type": "code",
        "outputId": "0a116cff-77a7-4115-aedb-87161825e8d4",
        "colab": {
          "base_uri": "https://localhost:8080/",
          "height": 85
        }
      },
      "source": [
        "merged.columns"
      ],
      "execution_count": 33,
      "outputs": [
        {
          "output_type": "execute_result",
          "data": {
            "text/plain": [
              "Index(['PATNUM', 'VISIT', 'MNFTPT', 'MNFALID', 'MNFCNTRY', 'MNFSITE',\n",
              "       'MNFSPRDT', 'MNFBIOM', 'MNFTUBEN', 'MNF01', 'MNFREFID', 'MNF06',\n",
              "       'MNF14', 'MNF15', 'MNF16', 'MNF17', 'Collection'],\n",
              "      dtype='object')"
            ]
          },
          "metadata": {
            "tags": []
          },
          "execution_count": 33
        }
      ]
    },
    {
      "cell_type": "code",
      "metadata": {
        "id": "1O53GYfYB11P",
        "colab_type": "code",
        "colab": {}
      },
      "source": [
        "# create TAT column\n",
        "merged[\"TAT\"] = merged[\"MNF01\"] - merged[\"Collection\"]\n",
        "merged['TAT'] = merged['TAT']/np.timedelta64(1,'h')"
      ],
      "execution_count": 0,
      "outputs": []
    },
    {
      "cell_type": "code",
      "metadata": {
        "id": "DMH2Xu4eKCgh",
        "colab_type": "code",
        "colab": {}
      },
      "source": [
        "# filter MNFBIOM\n",
        "merged = merged[merged['MNFBIOM']== 'PBMC']"
      ],
      "execution_count": 0,
      "outputs": []
    },
    {
      "cell_type": "code",
      "metadata": {
        "id": "E8RTcIcDCDmF",
        "colab_type": "code",
        "outputId": "e810d3b5-f26d-49c3-a8df-580479f43071",
        "colab": {
          "base_uri": "https://localhost:8080/",
          "height": 394
        }
      },
      "source": [
        "merged.head()"
      ],
      "execution_count": 36,
      "outputs": [
        {
          "output_type": "execute_result",
          "data": {
            "text/html": [
              "<div>\n",
              "<style scoped>\n",
              "    .dataframe tbody tr th:only-of-type {\n",
              "        vertical-align: middle;\n",
              "    }\n",
              "\n",
              "    .dataframe tbody tr th {\n",
              "        vertical-align: top;\n",
              "    }\n",
              "\n",
              "    .dataframe thead th {\n",
              "        text-align: right;\n",
              "    }\n",
              "</style>\n",
              "<table border=\"1\" class=\"dataframe\">\n",
              "  <thead>\n",
              "    <tr style=\"text-align: right;\">\n",
              "      <th></th>\n",
              "      <th>PATNUM</th>\n",
              "      <th>VISIT</th>\n",
              "      <th>MNFTPT</th>\n",
              "      <th>MNFALID</th>\n",
              "      <th>MNFCNTRY</th>\n",
              "      <th>MNFSITE</th>\n",
              "      <th>MNFSPRDT</th>\n",
              "      <th>MNFBIOM</th>\n",
              "      <th>MNFTUBEN</th>\n",
              "      <th>MNF01</th>\n",
              "      <th>MNFREFID</th>\n",
              "      <th>MNF06</th>\n",
              "      <th>MNF14</th>\n",
              "      <th>MNF15</th>\n",
              "      <th>MNF16</th>\n",
              "      <th>MNF17</th>\n",
              "      <th>Collection</th>\n",
              "      <th>TAT</th>\n",
              "    </tr>\n",
              "  </thead>\n",
              "  <tbody>\n",
              "    <tr>\n",
              "      <th>1</th>\n",
              "      <td>12342</td>\n",
              "      <td>DM28</td>\n",
              "      <td>NaN</td>\n",
              "      <td>1.0</td>\n",
              "      <td>USA</td>\n",
              "      <td>304657</td>\n",
              "      <td>20180102 18:50</td>\n",
              "      <td>PBMC</td>\n",
              "      <td>PBMC-I</td>\n",
              "      <td>2018-01-02 19:05:00</td>\n",
              "      <td>6505898300</td>\n",
              "      <td>94.9</td>\n",
              "      <td>NaN</td>\n",
              "      <td>NaN</td>\n",
              "      <td>NaN</td>\n",
              "      <td>NaN</td>\n",
              "      <td>2018-01-02 08:06:00</td>\n",
              "      <td>10.983333</td>\n",
              "    </tr>\n",
              "    <tr>\n",
              "      <th>2</th>\n",
              "      <td>12342</td>\n",
              "      <td>DM28</td>\n",
              "      <td>NaN</td>\n",
              "      <td>2.0</td>\n",
              "      <td>USA</td>\n",
              "      <td>304657</td>\n",
              "      <td>20180102 18:50</td>\n",
              "      <td>PBMC</td>\n",
              "      <td>PBMC-I</td>\n",
              "      <td>2018-01-02 19:05:00</td>\n",
              "      <td>6505898300</td>\n",
              "      <td>94.9</td>\n",
              "      <td>NaN</td>\n",
              "      <td>NaN</td>\n",
              "      <td>NaN</td>\n",
              "      <td>NaN</td>\n",
              "      <td>2018-01-02 08:06:00</td>\n",
              "      <td>10.983333</td>\n",
              "    </tr>\n",
              "    <tr>\n",
              "      <th>3</th>\n",
              "      <td>12342</td>\n",
              "      <td>DM28</td>\n",
              "      <td>NaN</td>\n",
              "      <td>3.0</td>\n",
              "      <td>USA</td>\n",
              "      <td>304657</td>\n",
              "      <td>20180102 18:50</td>\n",
              "      <td>PBMC</td>\n",
              "      <td>PBMC-I</td>\n",
              "      <td>2018-01-02 19:05:00</td>\n",
              "      <td>6505898300</td>\n",
              "      <td>94.9</td>\n",
              "      <td>NaN</td>\n",
              "      <td>NaN</td>\n",
              "      <td>NaN</td>\n",
              "      <td>NaN</td>\n",
              "      <td>2018-01-02 08:06:00</td>\n",
              "      <td>10.983333</td>\n",
              "    </tr>\n",
              "    <tr>\n",
              "      <th>4</th>\n",
              "      <td>12342</td>\n",
              "      <td>DM28</td>\n",
              "      <td>NaN</td>\n",
              "      <td>4.0</td>\n",
              "      <td>USA</td>\n",
              "      <td>304657</td>\n",
              "      <td>20180102 18:50</td>\n",
              "      <td>PBMC</td>\n",
              "      <td>PBMC-I</td>\n",
              "      <td>2018-01-02 19:05:00</td>\n",
              "      <td>6505898300</td>\n",
              "      <td>94.9</td>\n",
              "      <td>NaN</td>\n",
              "      <td>NaN</td>\n",
              "      <td>NaN</td>\n",
              "      <td>NaN</td>\n",
              "      <td>2018-01-02 08:06:00</td>\n",
              "      <td>10.983333</td>\n",
              "    </tr>\n",
              "    <tr>\n",
              "      <th>6</th>\n",
              "      <td>12716</td>\n",
              "      <td>DM28</td>\n",
              "      <td>NaN</td>\n",
              "      <td>1.0</td>\n",
              "      <td>USA</td>\n",
              "      <td>304657</td>\n",
              "      <td>20180110 17:32</td>\n",
              "      <td>PBMC</td>\n",
              "      <td>PBMC-I</td>\n",
              "      <td>2018-01-10 17:43:00</td>\n",
              "      <td>6505898301</td>\n",
              "      <td>95.2</td>\n",
              "      <td>NaN</td>\n",
              "      <td>NaN</td>\n",
              "      <td>NaN</td>\n",
              "      <td>NaN</td>\n",
              "      <td>2018-01-10 10:20:00</td>\n",
              "      <td>7.383333</td>\n",
              "    </tr>\n",
              "  </tbody>\n",
              "</table>\n",
              "</div>"
            ],
            "text/plain": [
              "   PATNUM VISIT  MNFTPT  MNFALID  ... MNF16  MNF17          Collection        TAT\n",
              "1   12342  DM28     NaN      1.0  ...   NaN    NaN 2018-01-02 08:06:00  10.983333\n",
              "2   12342  DM28     NaN      2.0  ...   NaN    NaN 2018-01-02 08:06:00  10.983333\n",
              "3   12342  DM28     NaN      3.0  ...   NaN    NaN 2018-01-02 08:06:00  10.983333\n",
              "4   12342  DM28     NaN      4.0  ...   NaN    NaN 2018-01-02 08:06:00  10.983333\n",
              "6   12716  DM28     NaN      1.0  ...   NaN    NaN 2018-01-10 10:20:00   7.383333\n",
              "\n",
              "[5 rows x 18 columns]"
            ]
          },
          "metadata": {
            "tags": []
          },
          "execution_count": 36
        }
      ]
    },
    {
      "cell_type": "code",
      "metadata": {
        "id": "kQGP6HJBC7UW",
        "colab_type": "code",
        "outputId": "cd2ec934-a9c1-4c04-a541-21053cbf5e1a",
        "colab": {
          "base_uri": "https://localhost:8080/",
          "height": 34
        }
      },
      "source": [
        "merged.shape"
      ],
      "execution_count": 37,
      "outputs": [
        {
          "output_type": "execute_result",
          "data": {
            "text/plain": [
              "(6558, 18)"
            ]
          },
          "metadata": {
            "tags": []
          },
          "execution_count": 37
        }
      ]
    },
    {
      "cell_type": "markdown",
      "metadata": {
        "id": "dKw0mCc9COdM",
        "colab_type": "text"
      },
      "source": [
        "# Merge Manifest Dataframe with CD3 (assay performance dataframe)"
      ]
    },
    {
      "cell_type": "code",
      "metadata": {
        "id": "JdFGrjv7C_Vr",
        "colab_type": "code",
        "outputId": "bdb0897f-f855-4a1d-ed45-829748da4ddd",
        "colab": {
          "base_uri": "https://localhost:8080/",
          "height": 68
        }
      },
      "source": [
        "merged['PATNUM'].isin(cd3['PATNUM']).value_counts()"
      ],
      "execution_count": 38,
      "outputs": [
        {
          "output_type": "execute_result",
          "data": {
            "text/plain": [
              "False    5172\n",
              "True     1386\n",
              "Name: PATNUM, dtype: int64"
            ]
          },
          "metadata": {
            "tags": []
          },
          "execution_count": 38
        }
      ]
    },
    {
      "cell_type": "code",
      "metadata": {
        "id": "wkYO8u9yMZHN",
        "colab_type": "code",
        "outputId": "ffde66b0-f9cd-4c79-dee6-0b149a227622",
        "colab": {
          "base_uri": "https://localhost:8080/",
          "height": 68
        }
      },
      "source": [
        "merged['VISIT'].isin(cd3['VISIT']).value_counts()"
      ],
      "execution_count": 39,
      "outputs": [
        {
          "output_type": "execute_result",
          "data": {
            "text/plain": [
              "True     5346\n",
              "False    1212\n",
              "Name: VISIT, dtype: int64"
            ]
          },
          "metadata": {
            "tags": []
          },
          "execution_count": 39
        }
      ]
    },
    {
      "cell_type": "code",
      "metadata": {
        "id": "SbWsaF0oKjje",
        "colab_type": "code",
        "outputId": "a3750176-e0a6-44cf-9d0e-e0d8f6de04cc",
        "colab": {
          "base_uri": "https://localhost:8080/",
          "height": 34
        }
      },
      "source": [
        "print(pd.merge(cd3, merged, how = 'left', on=['PATNUM', 'VISIT']).shape)"
      ],
      "execution_count": 40,
      "outputs": [
        {
          "output_type": "stream",
          "text": [
            "(404, 23)\n"
          ],
          "name": "stdout"
        }
      ]
    },
    {
      "cell_type": "code",
      "metadata": {
        "id": "K45qQagPHyR0",
        "colab_type": "code",
        "outputId": "b59c98c5-eadf-45e2-aa68-9d6581d23153",
        "colab": {
          "base_uri": "https://localhost:8080/",
          "height": 425
        }
      },
      "source": [
        "print(pd.merge(cd3, merged, how = 'left', on=['PATNUM', 'VISIT']).isnull().mean() * 100)"
      ],
      "execution_count": 41,
      "outputs": [
        {
          "output_type": "stream",
          "text": [
            "PATNUM                   0.000000\n",
            "VISIT                    0.000000\n",
            "Sample.ID                0.000000\n",
            "Sample.Date              0.000000\n",
            "Type.of.Cells            0.000000\n",
            "Stimulus.in.Readout      0.000000\n",
            "counts                   0.000000\n",
            "MNFTPT                 100.000000\n",
            "MNFALID                 13.366337\n",
            "MNFCNTRY                13.366337\n",
            "MNFSITE                 13.366337\n",
            "MNFSPRDT                19.801980\n",
            "MNFBIOM                 13.366337\n",
            "MNFTUBEN                13.366337\n",
            "MNF01                   13.366337\n",
            "MNFREFID                13.366337\n",
            "MNF06                   13.366337\n",
            "MNF14                   49.504950\n",
            "MNF15                   49.504950\n",
            "MNF16                   92.079208\n",
            "MNF17                   66.336634\n",
            "Collection              13.366337\n",
            "TAT                     13.366337\n",
            "dtype: float64\n"
          ],
          "name": "stdout"
        }
      ]
    },
    {
      "cell_type": "code",
      "metadata": {
        "id": "MR1S95tWM5ns",
        "colab_type": "code",
        "colab": {}
      },
      "source": [
        "# create merged df with cd3 and manifests\n",
        "df = pd.merge(cd3, merged, how = 'left', on=['PATNUM', 'VISIT'])"
      ],
      "execution_count": 0,
      "outputs": []
    },
    {
      "cell_type": "code",
      "metadata": {
        "id": "tNfKYYVRsznL",
        "colab_type": "code",
        "outputId": "d8b76735-f213-46f9-aee2-e2cca6b2a370",
        "colab": {
          "base_uri": "https://localhost:8080/",
          "height": 425
        }
      },
      "source": [
        "df.loc[df['counts'].idxmax()]"
      ],
      "execution_count": 43,
      "outputs": [
        {
          "output_type": "execute_result",
          "data": {
            "text/plain": [
              "PATNUM                               44212\n",
              "VISIT                                 DM28\n",
              "Sample.ID                       6208477593\n",
              "Sample.Date                      11FEB2019\n",
              "Type.of.Cells                    Bulk PBMC\n",
              "Stimulus.in.Readout                  a-CD3\n",
              "counts                                1200\n",
              "MNFTPT                                 NaN\n",
              "MNFALID                                  1\n",
              "MNFCNTRY                            Sweden\n",
              "MNFSITE                             306876\n",
              "MNFSPRDT                    20190211 10:39\n",
              "MNFBIOM                               PBMC\n",
              "MNFTUBEN                            PBMC-I\n",
              "MNF01                  2019-02-11 11:30:00\n",
              "MNFREFID                        6208477593\n",
              "MNF06                                 99.5\n",
              "MNF14                                 21.5\n",
              "MNF15                                 24.1\n",
              "MNF16                                  NaN\n",
              "MNF17                                 22.9\n",
              "Collection             2019-02-11 09:20:00\n",
              "TAT                                2.16667\n",
              "Name: 0, dtype: object"
            ]
          },
          "metadata": {
            "tags": []
          },
          "execution_count": 43
        }
      ]
    },
    {
      "cell_type": "code",
      "metadata": {
        "id": "dpzZnoHGM2kG",
        "colab_type": "code",
        "outputId": "7397aaa4-881d-45b4-9d0d-c724d8799247",
        "colab": {
          "base_uri": "https://localhost:8080/",
          "height": 34
        }
      },
      "source": [
        "len(df.PATNUM.unique())"
      ],
      "execution_count": 44,
      "outputs": [
        {
          "output_type": "execute_result",
          "data": {
            "text/plain": [
              "34"
            ]
          },
          "metadata": {
            "tags": []
          },
          "execution_count": 44
        }
      ]
    },
    {
      "cell_type": "code",
      "metadata": {
        "id": "gB8yXxkrMPkv",
        "colab_type": "code",
        "outputId": "49625d20-1e59-4540-a976-a71f7737e04b",
        "colab": {
          "base_uri": "https://localhost:8080/",
          "height": 102
        }
      },
      "source": [
        "df.columns, df.shape"
      ],
      "execution_count": 45,
      "outputs": [
        {
          "output_type": "execute_result",
          "data": {
            "text/plain": [
              "(Index(['PATNUM', 'VISIT', 'Sample.ID', 'Sample.Date', 'Type.of.Cells',\n",
              "        'Stimulus.in.Readout', 'counts', 'MNFTPT', 'MNFALID', 'MNFCNTRY',\n",
              "        'MNFSITE', 'MNFSPRDT', 'MNFBIOM', 'MNFTUBEN', 'MNF01', 'MNFREFID',\n",
              "        'MNF06', 'MNF14', 'MNF15', 'MNF16', 'MNF17', 'Collection', 'TAT'],\n",
              "       dtype='object'), (404, 23))"
            ]
          },
          "metadata": {
            "tags": []
          },
          "execution_count": 45
        }
      ]
    },
    {
      "cell_type": "code",
      "metadata": {
        "id": "XByYnIretSYb",
        "colab_type": "code",
        "outputId": "89975f6a-1f21-441b-c71b-2fc9e1ccaeb4",
        "colab": {
          "base_uri": "https://localhost:8080/",
          "height": 425
        }
      },
      "source": [
        "df.isnull().sum()"
      ],
      "execution_count": 46,
      "outputs": [
        {
          "output_type": "execute_result",
          "data": {
            "text/plain": [
              "PATNUM                   0\n",
              "VISIT                    0\n",
              "Sample.ID                0\n",
              "Sample.Date              0\n",
              "Type.of.Cells            0\n",
              "Stimulus.in.Readout      0\n",
              "counts                   0\n",
              "MNFTPT                 404\n",
              "MNFALID                 54\n",
              "MNFCNTRY                54\n",
              "MNFSITE                 54\n",
              "MNFSPRDT                80\n",
              "MNFBIOM                 54\n",
              "MNFTUBEN                54\n",
              "MNF01                   54\n",
              "MNFREFID                54\n",
              "MNF06                   54\n",
              "MNF14                  200\n",
              "MNF15                  200\n",
              "MNF16                  372\n",
              "MNF17                  268\n",
              "Collection              54\n",
              "TAT                     54\n",
              "dtype: int64"
            ]
          },
          "metadata": {
            "tags": []
          },
          "execution_count": 46
        }
      ]
    },
    {
      "cell_type": "markdown",
      "metadata": {
        "id": "sg3H0nIpXAFR",
        "colab_type": "text"
      },
      "source": [
        "# Binarize Mean Spot Counts into above/below 500"
      ]
    },
    {
      "cell_type": "code",
      "metadata": {
        "id": "mJLpH5McWrT2",
        "colab_type": "code",
        "colab": {}
      },
      "source": [
        "df['binned'] = np.digitize(df.counts,[500])"
      ],
      "execution_count": 0,
      "outputs": []
    },
    {
      "cell_type": "code",
      "metadata": {
        "id": "7qfpX4wVPkTi",
        "colab_type": "code",
        "outputId": "cd2e9bbb-1025-42ac-98b2-36f1e910d925",
        "colab": {
          "base_uri": "https://localhost:8080/",
          "height": 442
        }
      },
      "source": [
        "df.dtypes"
      ],
      "execution_count": 48,
      "outputs": [
        {
          "output_type": "execute_result",
          "data": {
            "text/plain": [
              "PATNUM                          int64\n",
              "VISIT                          object\n",
              "Sample.ID                      object\n",
              "Sample.Date                    object\n",
              "Type.of.Cells                  object\n",
              "Stimulus.in.Readout            object\n",
              "counts                        float64\n",
              "MNFTPT                        float64\n",
              "MNFALID                       float64\n",
              "MNFCNTRY                       object\n",
              "MNFSITE                       float64\n",
              "MNFSPRDT                       object\n",
              "MNFBIOM                        object\n",
              "MNFTUBEN                       object\n",
              "MNF01                  datetime64[ns]\n",
              "MNFREFID                       object\n",
              "MNF06                         float64\n",
              "MNF14                         float64\n",
              "MNF15                         float64\n",
              "MNF16                         float64\n",
              "MNF17                         float64\n",
              "Collection             datetime64[ns]\n",
              "TAT                           float64\n",
              "binned                          int64\n",
              "dtype: object"
            ]
          },
          "metadata": {
            "tags": []
          },
          "execution_count": 48
        }
      ]
    },
    {
      "cell_type": "code",
      "metadata": {
        "id": "_Oe77XXuOZFS",
        "colab_type": "code",
        "outputId": "0c0f857d-585f-43cb-8d19-bee62141ebbd",
        "colab": {
          "base_uri": "https://localhost:8080/",
          "height": 68
        }
      },
      "source": [
        "# check degree of class imbalance\n",
        "df.binned.value_counts()"
      ],
      "execution_count": 49,
      "outputs": [
        {
          "output_type": "execute_result",
          "data": {
            "text/plain": [
              "1    381\n",
              "0     23\n",
              "Name: binned, dtype: int64"
            ]
          },
          "metadata": {
            "tags": []
          },
          "execution_count": 49
        }
      ]
    },
    {
      "cell_type": "code",
      "metadata": {
        "id": "nHTwTtA6uqlj",
        "colab_type": "code",
        "colab": {}
      },
      "source": [
        "# df[['binned']] = df[['binned']].fillna(value=1)"
      ],
      "execution_count": 0,
      "outputs": []
    },
    {
      "cell_type": "code",
      "metadata": {
        "colab_type": "code",
        "outputId": "422df1e7-e42a-4013-9c4c-1bdf0c29e182",
        "id": "cJOwaeP_u4dq",
        "colab": {
          "base_uri": "https://localhost:8080/",
          "height": 34
        }
      },
      "source": [
        "len(df[df[\"binned\"].isnull()])"
      ],
      "execution_count": 51,
      "outputs": [
        {
          "output_type": "execute_result",
          "data": {
            "text/plain": [
              "0"
            ]
          },
          "metadata": {
            "tags": []
          },
          "execution_count": 51
        }
      ]
    },
    {
      "cell_type": "code",
      "metadata": {
        "id": "n3T2dAakO_qC",
        "colab_type": "code",
        "colab": {}
      },
      "source": [
        "df_0 = pd.get_dummies(df, columns=[\"VISIT\"], prefix=['visit_'])"
      ],
      "execution_count": 0,
      "outputs": []
    },
    {
      "cell_type": "code",
      "metadata": {
        "id": "WEU23tZzQSwO",
        "colab_type": "code",
        "outputId": "36540eed-5713-426f-af4b-94bee18ebc69",
        "colab": {
          "base_uri": "https://localhost:8080/",
          "height": 680
        }
      },
      "source": [
        "df_0.dtypes"
      ],
      "execution_count": 53,
      "outputs": [
        {
          "output_type": "execute_result",
          "data": {
            "text/plain": [
              "PATNUM                          int64\n",
              "Sample.ID                      object\n",
              "Sample.Date                    object\n",
              "Type.of.Cells                  object\n",
              "Stimulus.in.Readout            object\n",
              "counts                        float64\n",
              "MNFTPT                        float64\n",
              "MNFALID                       float64\n",
              "MNFCNTRY                       object\n",
              "MNFSITE                       float64\n",
              "MNFSPRDT                       object\n",
              "MNFBIOM                        object\n",
              "MNFTUBEN                       object\n",
              "MNF01                  datetime64[ns]\n",
              "MNFREFID                       object\n",
              "MNF06                         float64\n",
              "MNF14                         float64\n",
              "MNF15                         float64\n",
              "MNF16                         float64\n",
              "MNF17                         float64\n",
              "Collection             datetime64[ns]\n",
              "TAT                           float64\n",
              "binned                          int64\n",
              "visit__C2D1                     uint8\n",
              "visit__C2d1                     uint8\n",
              "visit__C4D1                     uint8\n",
              "visit__C4d1                     uint8\n",
              "visit__C5d1                     uint8\n",
              "visit__C6D1                     uint8\n",
              "visit__C6d1                     uint8\n",
              "visit__C8D1                     uint8\n",
              "visit__DM14                     uint8\n",
              "visit__DM28                     uint8\n",
              "visit__DM28_DM14                uint8\n",
              "visit__EOTA                     uint8\n",
              "visit__EOTB                     uint8\n",
              "visit__EOTBII                   uint8\n",
              "visit__XOVER                    uint8\n",
              "dtype: object"
            ]
          },
          "metadata": {
            "tags": []
          },
          "execution_count": 53
        }
      ]
    },
    {
      "cell_type": "code",
      "metadata": {
        "id": "eLWN1Hxxr8n9",
        "colab_type": "code",
        "outputId": "d17ce053-d566-4394-c973-b88adf3dd176",
        "colab": {
          "base_uri": "https://localhost:8080/",
          "height": 680
        }
      },
      "source": [
        "df_0.isnull().sum()"
      ],
      "execution_count": 54,
      "outputs": [
        {
          "output_type": "execute_result",
          "data": {
            "text/plain": [
              "PATNUM                   0\n",
              "Sample.ID                0\n",
              "Sample.Date              0\n",
              "Type.of.Cells            0\n",
              "Stimulus.in.Readout      0\n",
              "counts                   0\n",
              "MNFTPT                 404\n",
              "MNFALID                 54\n",
              "MNFCNTRY                54\n",
              "MNFSITE                 54\n",
              "MNFSPRDT                80\n",
              "MNFBIOM                 54\n",
              "MNFTUBEN                54\n",
              "MNF01                   54\n",
              "MNFREFID                54\n",
              "MNF06                   54\n",
              "MNF14                  200\n",
              "MNF15                  200\n",
              "MNF16                  372\n",
              "MNF17                  268\n",
              "Collection              54\n",
              "TAT                     54\n",
              "binned                   0\n",
              "visit__C2D1              0\n",
              "visit__C2d1              0\n",
              "visit__C4D1              0\n",
              "visit__C4d1              0\n",
              "visit__C5d1              0\n",
              "visit__C6D1              0\n",
              "visit__C6d1              0\n",
              "visit__C8D1              0\n",
              "visit__DM14              0\n",
              "visit__DM28              0\n",
              "visit__DM28_DM14         0\n",
              "visit__EOTA              0\n",
              "visit__EOTB              0\n",
              "visit__EOTBII            0\n",
              "visit__XOVER             0\n",
              "dtype: int64"
            ]
          },
          "metadata": {
            "tags": []
          },
          "execution_count": 54
        }
      ]
    },
    {
      "cell_type": "markdown",
      "metadata": {
        "id": "lX1dQVYz-Pe8",
        "colab_type": "text"
      },
      "source": [
        "# Create numeric dataframe with the binned y category"
      ]
    },
    {
      "cell_type": "code",
      "metadata": {
        "id": "H5y_puemQtqf",
        "colab_type": "code",
        "colab": {}
      },
      "source": [
        "df_num = df_0.select_dtypes(include=[np.number])"
      ],
      "execution_count": 0,
      "outputs": []
    },
    {
      "cell_type": "code",
      "metadata": {
        "id": "7i9imgI_rzRS",
        "colab_type": "code",
        "outputId": "bf76a670-28ba-4c96-ee39-fbf325d08595",
        "colab": {
          "base_uri": "https://localhost:8080/",
          "height": 493
        }
      },
      "source": [
        "df_num.dtypes"
      ],
      "execution_count": 56,
      "outputs": [
        {
          "output_type": "execute_result",
          "data": {
            "text/plain": [
              "PATNUM                int64\n",
              "counts              float64\n",
              "MNFTPT              float64\n",
              "MNFALID             float64\n",
              "MNFSITE             float64\n",
              "MNF06               float64\n",
              "MNF14               float64\n",
              "MNF15               float64\n",
              "MNF16               float64\n",
              "MNF17               float64\n",
              "TAT                 float64\n",
              "binned                int64\n",
              "visit__C2D1           uint8\n",
              "visit__C2d1           uint8\n",
              "visit__C4D1           uint8\n",
              "visit__C4d1           uint8\n",
              "visit__C5d1           uint8\n",
              "visit__C6D1           uint8\n",
              "visit__C6d1           uint8\n",
              "visit__C8D1           uint8\n",
              "visit__DM14           uint8\n",
              "visit__DM28           uint8\n",
              "visit__DM28_DM14      uint8\n",
              "visit__EOTA           uint8\n",
              "visit__EOTB           uint8\n",
              "visit__EOTBII         uint8\n",
              "visit__XOVER          uint8\n",
              "dtype: object"
            ]
          },
          "metadata": {
            "tags": []
          },
          "execution_count": 56
        }
      ]
    },
    {
      "cell_type": "code",
      "metadata": {
        "id": "_6rcGMECsC2T",
        "colab_type": "code",
        "outputId": "763a8dfa-5245-4edb-f834-4f28e868d57f",
        "colab": {
          "base_uri": "https://localhost:8080/",
          "height": 34
        }
      },
      "source": [
        "df_num.shape"
      ],
      "execution_count": 57,
      "outputs": [
        {
          "output_type": "execute_result",
          "data": {
            "text/plain": [
              "(404, 27)"
            ]
          },
          "metadata": {
            "tags": []
          },
          "execution_count": 57
        }
      ]
    },
    {
      "cell_type": "code",
      "metadata": {
        "id": "uWGzL0QxwQOc",
        "colab_type": "code",
        "outputId": "29024211-c8ea-46a0-b7a5-72402c467f59",
        "colab": {
          "base_uri": "https://localhost:8080/",
          "height": 54
        }
      },
      "source": [
        "\n",
        "visit_cols = [col for col in df_num if 'visit' in col]\n",
        "print(visit_cols)"
      ],
      "execution_count": 58,
      "outputs": [
        {
          "output_type": "stream",
          "text": [
            "['visit__C2D1', 'visit__C2d1', 'visit__C4D1', 'visit__C4d1', 'visit__C5d1', 'visit__C6D1', 'visit__C6d1', 'visit__C8D1', 'visit__DM14', 'visit__DM28', 'visit__DM28_DM14', 'visit__EOTA', 'visit__EOTB', 'visit__EOTBII', 'visit__XOVER']\n"
          ],
          "name": "stdout"
        }
      ]
    },
    {
      "cell_type": "code",
      "metadata": {
        "id": "wgvZaIR03ikB",
        "colab_type": "code",
        "outputId": "3e2f08e3-7429-406d-931b-c74236d45032",
        "colab": {
          "base_uri": "https://localhost:8080/",
          "height": 54
        }
      },
      "source": [
        "print(['PATNUM', 'MNF14', 'MNF15', 'MNF17', 'TAT', 'binned'] + [col for col in df_num if col in visit_cols])"
      ],
      "execution_count": 59,
      "outputs": [
        {
          "output_type": "stream",
          "text": [
            "['PATNUM', 'MNF14', 'MNF15', 'MNF17', 'TAT', 'binned', 'visit__C2D1', 'visit__C2d1', 'visit__C4D1', 'visit__C4d1', 'visit__C5d1', 'visit__C6D1', 'visit__C6d1', 'visit__C8D1', 'visit__DM14', 'visit__DM28', 'visit__DM28_DM14', 'visit__EOTA', 'visit__EOTB', 'visit__EOTBII', 'visit__XOVER']\n"
          ],
          "name": "stdout"
        }
      ]
    },
    {
      "cell_type": "code",
      "metadata": {
        "id": "BIcIt7AaZmUk",
        "colab_type": "code",
        "colab": {}
      },
      "source": [
        "df_num.drop(columns = visit_cols, inplace=True)"
      ],
      "execution_count": 0,
      "outputs": []
    },
    {
      "cell_type": "code",
      "metadata": {
        "id": "XLuR6SYh32yA",
        "colab_type": "code",
        "colab": {}
      },
      "source": [
        "df_num_cols = ['PATNUM', 'MNF06', 'MNF14', 'MNF15', 'MNF17', 'TAT', 'binned'] + [col for col in df_num if col in visit_cols]"
      ],
      "execution_count": 0,
      "outputs": []
    },
    {
      "cell_type": "code",
      "metadata": {
        "id": "69QB11SbToeP",
        "colab_type": "code",
        "colab": {}
      },
      "source": [
        "to_drop = ['MNFTPT', 'MNFSITE', 'MNF16', 'MNF17']\n",
        "df_num = df_num.drop(to_drop, axis =1)"
      ],
      "execution_count": 0,
      "outputs": []
    },
    {
      "cell_type": "markdown",
      "metadata": {
        "id": "E4OTacoC_ePN",
        "colab_type": "text"
      },
      "source": [
        "# Drop duplicates"
      ]
    },
    {
      "cell_type": "code",
      "metadata": {
        "id": "-Ij95ZKM_HSm",
        "colab_type": "code",
        "colab": {}
      },
      "source": [
        "# df_num.drop_duplicates(inplace=True)"
      ],
      "execution_count": 0,
      "outputs": []
    },
    {
      "cell_type": "code",
      "metadata": {
        "id": "FVoL29JGPlWP",
        "colab_type": "code",
        "outputId": "350d6a5e-4e7a-4d72-d282-2175b28f315c",
        "colab": {
          "base_uri": "https://localhost:8080/",
          "height": 204
        }
      },
      "source": [
        "df_num.head()"
      ],
      "execution_count": 64,
      "outputs": [
        {
          "output_type": "execute_result",
          "data": {
            "text/html": [
              "<div>\n",
              "<style scoped>\n",
              "    .dataframe tbody tr th:only-of-type {\n",
              "        vertical-align: middle;\n",
              "    }\n",
              "\n",
              "    .dataframe tbody tr th {\n",
              "        vertical-align: top;\n",
              "    }\n",
              "\n",
              "    .dataframe thead th {\n",
              "        text-align: right;\n",
              "    }\n",
              "</style>\n",
              "<table border=\"1\" class=\"dataframe\">\n",
              "  <thead>\n",
              "    <tr style=\"text-align: right;\">\n",
              "      <th></th>\n",
              "      <th>PATNUM</th>\n",
              "      <th>counts</th>\n",
              "      <th>MNFALID</th>\n",
              "      <th>MNF06</th>\n",
              "      <th>MNF14</th>\n",
              "      <th>MNF15</th>\n",
              "      <th>TAT</th>\n",
              "      <th>binned</th>\n",
              "    </tr>\n",
              "  </thead>\n",
              "  <tbody>\n",
              "    <tr>\n",
              "      <th>0</th>\n",
              "      <td>44212</td>\n",
              "      <td>1200.0</td>\n",
              "      <td>1.0</td>\n",
              "      <td>99.5</td>\n",
              "      <td>21.5</td>\n",
              "      <td>24.1</td>\n",
              "      <td>2.166667</td>\n",
              "      <td>1</td>\n",
              "    </tr>\n",
              "    <tr>\n",
              "      <th>1</th>\n",
              "      <td>44212</td>\n",
              "      <td>1200.0</td>\n",
              "      <td>2.0</td>\n",
              "      <td>99.5</td>\n",
              "      <td>21.5</td>\n",
              "      <td>24.1</td>\n",
              "      <td>2.166667</td>\n",
              "      <td>1</td>\n",
              "    </tr>\n",
              "    <tr>\n",
              "      <th>2</th>\n",
              "      <td>44212</td>\n",
              "      <td>1200.0</td>\n",
              "      <td>3.0</td>\n",
              "      <td>99.5</td>\n",
              "      <td>21.5</td>\n",
              "      <td>24.1</td>\n",
              "      <td>2.166667</td>\n",
              "      <td>1</td>\n",
              "    </tr>\n",
              "    <tr>\n",
              "      <th>3</th>\n",
              "      <td>44212</td>\n",
              "      <td>1200.0</td>\n",
              "      <td>4.0</td>\n",
              "      <td>99.5</td>\n",
              "      <td>21.5</td>\n",
              "      <td>24.1</td>\n",
              "      <td>2.166667</td>\n",
              "      <td>1</td>\n",
              "    </tr>\n",
              "    <tr>\n",
              "      <th>4</th>\n",
              "      <td>44212</td>\n",
              "      <td>1200.0</td>\n",
              "      <td>5.0</td>\n",
              "      <td>99.5</td>\n",
              "      <td>21.5</td>\n",
              "      <td>24.1</td>\n",
              "      <td>2.166667</td>\n",
              "      <td>1</td>\n",
              "    </tr>\n",
              "  </tbody>\n",
              "</table>\n",
              "</div>"
            ],
            "text/plain": [
              "   PATNUM  counts  MNFALID  MNF06  MNF14  MNF15       TAT  binned\n",
              "0   44212  1200.0      1.0   99.5   21.5   24.1  2.166667       1\n",
              "1   44212  1200.0      2.0   99.5   21.5   24.1  2.166667       1\n",
              "2   44212  1200.0      3.0   99.5   21.5   24.1  2.166667       1\n",
              "3   44212  1200.0      4.0   99.5   21.5   24.1  2.166667       1\n",
              "4   44212  1200.0      5.0   99.5   21.5   24.1  2.166667       1"
            ]
          },
          "metadata": {
            "tags": []
          },
          "execution_count": 64
        }
      ]
    },
    {
      "cell_type": "markdown",
      "metadata": {
        "id": "x_e3yHkWH6_x",
        "colab_type": "text"
      },
      "source": [
        "# Rename columns"
      ]
    },
    {
      "cell_type": "code",
      "metadata": {
        "id": "cje7QrS1HefZ",
        "colab_type": "code",
        "colab": {}
      },
      "source": [
        "df_num.rename(columns = {'MNF06': 'viability','MNF14': 'min_temp', 'MNF15': 'max_temp'}, inplace =True)"
      ],
      "execution_count": 0,
      "outputs": []
    },
    {
      "cell_type": "code",
      "metadata": {
        "id": "ADzNukdiuRCZ",
        "colab_type": "code",
        "outputId": "a2519e48-723d-4ff6-f1e2-9ec9d4e0ff2d",
        "colab": {
          "base_uri": "https://localhost:8080/",
          "height": 68
        }
      },
      "source": [
        "df_num.columns"
      ],
      "execution_count": 66,
      "outputs": [
        {
          "output_type": "execute_result",
          "data": {
            "text/plain": [
              "Index(['PATNUM', 'counts', 'MNFALID', 'viability', 'min_temp', 'max_temp',\n",
              "       'TAT', 'binned'],\n",
              "      dtype='object')"
            ]
          },
          "metadata": {
            "tags": []
          },
          "execution_count": 66
        }
      ]
    },
    {
      "cell_type": "code",
      "metadata": {
        "id": "ellVS69NN4ZK",
        "colab_type": "code",
        "colab": {}
      },
      "source": [
        "# move binned to end of DF\n",
        "cols_at_end = ['binned']\n",
        "df_num = df_num[[c for c in df_num if c not in cols_at_end] \n",
        "        + [c for c in cols_at_end if c in df_num]]"
      ],
      "execution_count": 0,
      "outputs": []
    },
    {
      "cell_type": "code",
      "metadata": {
        "id": "zaMP-RiyOcaB",
        "colab_type": "code",
        "colab": {}
      },
      "source": [
        "# move counts to end of DF\n",
        "cols_at_end = ['counts']\n",
        "df_num = df_num[[c for c in df_num if c not in cols_at_end] \n",
        "        + [c for c in cols_at_end if c in df_num]]"
      ],
      "execution_count": 0,
      "outputs": []
    },
    {
      "cell_type": "code",
      "metadata": {
        "id": "WANW5vfgOiOP",
        "colab_type": "code",
        "colab": {}
      },
      "source": [
        "features = df_num.iloc[:, 2:6]\n",
        "target = df_num[['counts']]"
      ],
      "execution_count": 0,
      "outputs": []
    },
    {
      "cell_type": "code",
      "metadata": {
        "id": "xHCq-esjQQEo",
        "colab_type": "code",
        "outputId": "d502d1b7-c9cd-492b-b000-57f9079b9e45",
        "colab": {
          "base_uri": "https://localhost:8080/",
          "height": 419
        }
      },
      "source": [
        "target"
      ],
      "execution_count": 70,
      "outputs": [
        {
          "output_type": "execute_result",
          "data": {
            "text/html": [
              "<div>\n",
              "<style scoped>\n",
              "    .dataframe tbody tr th:only-of-type {\n",
              "        vertical-align: middle;\n",
              "    }\n",
              "\n",
              "    .dataframe tbody tr th {\n",
              "        vertical-align: top;\n",
              "    }\n",
              "\n",
              "    .dataframe thead th {\n",
              "        text-align: right;\n",
              "    }\n",
              "</style>\n",
              "<table border=\"1\" class=\"dataframe\">\n",
              "  <thead>\n",
              "    <tr style=\"text-align: right;\">\n",
              "      <th></th>\n",
              "      <th>counts</th>\n",
              "    </tr>\n",
              "  </thead>\n",
              "  <tbody>\n",
              "    <tr>\n",
              "      <th>0</th>\n",
              "      <td>1200.0</td>\n",
              "    </tr>\n",
              "    <tr>\n",
              "      <th>1</th>\n",
              "      <td>1200.0</td>\n",
              "    </tr>\n",
              "    <tr>\n",
              "      <th>2</th>\n",
              "      <td>1200.0</td>\n",
              "    </tr>\n",
              "    <tr>\n",
              "      <th>3</th>\n",
              "      <td>1200.0</td>\n",
              "    </tr>\n",
              "    <tr>\n",
              "      <th>4</th>\n",
              "      <td>1200.0</td>\n",
              "    </tr>\n",
              "    <tr>\n",
              "      <th>...</th>\n",
              "      <td>...</td>\n",
              "    </tr>\n",
              "    <tr>\n",
              "      <th>399</th>\n",
              "      <td>1200.0</td>\n",
              "    </tr>\n",
              "    <tr>\n",
              "      <th>400</th>\n",
              "      <td>1200.0</td>\n",
              "    </tr>\n",
              "    <tr>\n",
              "      <th>401</th>\n",
              "      <td>1200.0</td>\n",
              "    </tr>\n",
              "    <tr>\n",
              "      <th>402</th>\n",
              "      <td>1200.0</td>\n",
              "    </tr>\n",
              "    <tr>\n",
              "      <th>403</th>\n",
              "      <td>1200.0</td>\n",
              "    </tr>\n",
              "  </tbody>\n",
              "</table>\n",
              "<p>404 rows × 1 columns</p>\n",
              "</div>"
            ],
            "text/plain": [
              "     counts\n",
              "0    1200.0\n",
              "1    1200.0\n",
              "2    1200.0\n",
              "3    1200.0\n",
              "4    1200.0\n",
              "..      ...\n",
              "399  1200.0\n",
              "400  1200.0\n",
              "401  1200.0\n",
              "402  1200.0\n",
              "403  1200.0\n",
              "\n",
              "[404 rows x 1 columns]"
            ]
          },
          "metadata": {
            "tags": []
          },
          "execution_count": 70
        }
      ]
    },
    {
      "cell_type": "markdown",
      "metadata": {
        "id": "N5foNoCdxqfc",
        "colab_type": "text"
      },
      "source": [
        "# EDA before analysis"
      ]
    },
    {
      "cell_type": "code",
      "metadata": {
        "id": "r88XVGCGQypC",
        "colab_type": "code",
        "colab": {}
      },
      "source": [
        "# calculate the spearman correlation matrix (non-parametric measure of correlation)\n",
        "corr = df_num.corr(method='spearman')"
      ],
      "execution_count": 0,
      "outputs": []
    },
    {
      "cell_type": "code",
      "metadata": {
        "id": "Qq9Z7oU7SA4z",
        "colab_type": "code",
        "outputId": "941b82ef-a402-4783-ac0b-26c98c7219d2",
        "colab": {
          "base_uri": "https://localhost:8080/",
          "height": 329
        }
      },
      "source": [
        "# plot the heatmap\n",
        "sns.heatmap(corr, annot= True,\n",
        "        xticklabels=corr.columns,\n",
        "        yticklabels=corr.columns)"
      ],
      "execution_count": 72,
      "outputs": [
        {
          "output_type": "execute_result",
          "data": {
            "text/plain": [
              "<matplotlib.axes._subplots.AxesSubplot at 0x7f8101c21550>"
            ]
          },
          "metadata": {
            "tags": []
          },
          "execution_count": 72
        },
        {
          "output_type": "display_data",
          "data": {
            "image/png": "[encoded data removed]",
            "text/plain": [
              "<Figure size 432x288 with 2 Axes>"
            ]
          },
          "metadata": {
            "tags": [],
            "needs_background": "light"
          }
        }
      ]
    },
    {
      "cell_type": "code",
      "metadata": {
        "id": "xMvreqw9xk8f",
        "colab_type": "code",
        "outputId": "98db0ce9-a600-4661-cb36-98eca9e264f7",
        "colab": {
          "base_uri": "https://localhost:8080/",
          "height": 133
        }
      },
      "source": [
        "# box and whisker plots\n",
        "df_num.plot(kind='box', subplots=True, layout=(5,5), sharex=False, sharey=False)\n",
        "pyplot.show()"
      ],
      "execution_count": 73,
      "outputs": [
        {
          "output_type": "display_data",
          "data": {
            "image/png": "[encoded data removed]",
            "text/plain": [
              "<Figure size 432x288 with 25 Axes>"
            ]
          },
          "metadata": {
            "tags": [],
            "needs_background": "light"
          }
        }
      ]
    },
    {
      "cell_type": "code",
      "metadata": {
        "id": "IvYt_0_71MPQ",
        "colab_type": "code",
        "outputId": "0f2834c5-e3d0-42a0-e71e-9e3e53ef47fa",
        "colab": {
          "base_uri": "https://localhost:8080/",
          "height": 181
        }
      },
      "source": [
        "df_num['counts'].plot(kind='box', subplots=True, layout=(2,2), sharex=False, sharey=False)\n"
      ],
      "execution_count": 74,
      "outputs": [
        {
          "output_type": "execute_result",
          "data": {
            "text/plain": [
              "counts    AxesSubplot(0.125,0.536818;0.352273x0.343182)\n",
              "dtype: object"
            ]
          },
          "metadata": {
            "tags": []
          },
          "execution_count": 74
        },
        {
          "output_type": "display_data",
          "data": {
            "image/png": "[encoded data removed]",
            "text/plain": [
              "<Figure size 432x288 with 4 Axes>"
            ]
          },
          "metadata": {
            "tags": [],
            "needs_background": "light"
          }
        }
      ]
    },
    {
      "cell_type": "code",
      "metadata": {
        "id": "zKfywRRxIHso",
        "colab_type": "code",
        "outputId": "1e56ed31-d763-46ab-f0f5-4dcedc42c68e",
        "colab": {
          "base_uri": "https://localhost:8080/",
          "height": 182
        }
      },
      "source": [
        "df_num['min_temp'].plot(kind='box', subplots=True, layout=(2,2), sharex=False, sharey=False)\n"
      ],
      "execution_count": 75,
      "outputs": [
        {
          "output_type": "execute_result",
          "data": {
            "text/plain": [
              "min_temp    AxesSubplot(0.125,0.536818;0.352273x0.343182)\n",
              "dtype: object"
            ]
          },
          "metadata": {
            "tags": []
          },
          "execution_count": 75
        },
        {
          "output_type": "display_data",
          "data": {
            "image/png": "[encoded data removed]",
            "text/plain": [
              "<Figure size 432x288 with 4 Axes>"
            ]
          },
          "metadata": {
            "tags": [],
            "needs_background": "light"
          }
        }
      ]
    },
    {
      "cell_type": "code",
      "metadata": {
        "id": "RdUwk48ayKzg",
        "colab_type": "code",
        "colab": {}
      },
      "source": [
        "# # scatter plot matrix\n",
        "# scatter_matrix(df_num)\n",
        "# pyplot.show()"
      ],
      "execution_count": 0,
      "outputs": []
    },
    {
      "cell_type": "code",
      "metadata": {
        "id": "JThjuFUezF0s",
        "colab_type": "code",
        "outputId": "4bb0cdc5-296a-41d1-9489-b75abde69bbe",
        "colab": {
          "base_uri": "https://localhost:8080/",
          "height": 897
        }
      },
      "source": [
        "n_colors = 256 # Use 256 colors for the diverging color palette\n",
        "palette = sns.diverging_palette(20, 220, n=n_colors) # Create the palette\n",
        "color_min, color_max = [-1, 1] # Range of values that will be mapped to the palette, i.e. min and max possible correlation\n",
        "\n",
        "def value_to_color(val):\n",
        "    val_position = float((val - color_min)) / (color_max - color_min) # position of value in the input range, relative to the length of the input range\n",
        "    ind = int(val_position * (n_colors - 1)) # target index in the color palette\n",
        "    return palette[ind]\n",
        "\n",
        "    ax.scatter(\n",
        "    x=x.map(x_to_num),\n",
        "    y=y.map(y_to_num),\n",
        "    s=size * size_scale,\n",
        "    c=color.apply(value_to_color), # Vector of square color values, mapped to color palette\n",
        "    marker='s'\n",
        ")\n",
        "\n",
        "\n",
        "pyplot.subplots(figsize=(20,15))\n",
        "colormap = sns.diverging_palette(220, 10, as_cmap=True)\n",
        "fig = sns.heatmap(df_num.corr()[df_num.corr() >= 0.2], annot = True, fmt='.1g', vmin=-1, vmax=1, center= 0, \n",
        "cmap= colormap, linewidths=3, linecolor='black', cbar=False, square=True)\n",
        "pyplot.title(\"Correlation Heatmap\")"
      ],
      "execution_count": 77,
      "outputs": [
        {
          "output_type": "execute_result",
          "data": {
            "text/plain": [
              "Text(0.5, 1.0, 'Correlation Heatmap')"
            ]
          },
          "metadata": {
            "tags": []
          },
          "execution_count": 77
        },
        {
          "output_type": "display_data",
          "data": {
            "image/png": "[encoded data removed]",
            "text/plain": [
              "<Figure size 1440x1080 with 1 Axes>"
            ]
          },
          "metadata": {
            "tags": [],
            "needs_background": "light"
          }
        }
      ]
    },
    {
      "cell_type": "code",
      "metadata": {
        "id": "mfsyopJlyBm2",
        "colab_type": "code",
        "outputId": "b9600331-5d83-47da-ab87-8027b2e690c6",
        "colab": {
          "base_uri": "https://localhost:8080/",
          "height": 281
        }
      },
      "source": [
        "# histograms\n",
        "df_num.hist()\n",
        "pyplot.show()"
      ],
      "execution_count": 78,
      "outputs": [
        {
          "output_type": "display_data",
          "data": {
            "image/png": "[encoded data removed]",
            "text/plain": [
              "<Figure size 432x288 with 9 Axes>"
            ]
          },
          "metadata": {
            "tags": [],
            "needs_background": "light"
          }
        }
      ]
    },
    {
      "cell_type": "markdown",
      "metadata": {
        "id": "vtikTA3cxRT-",
        "colab_type": "text"
      },
      "source": [
        "Use the kernel density estimation to visualize a bivariate distribution. "
      ]
    },
    {
      "cell_type": "code",
      "metadata": {
        "id": "3dbgu8JfHVWv",
        "colab_type": "code",
        "outputId": "c2d8a68d-7d54-4721-ee99-6729754a4302",
        "colab": {
          "base_uri": "https://localhost:8080/",
          "height": 441
        }
      },
      "source": [
        "sns.jointplot(x=\"TAT\", y=\"counts\", data=df, kind=\"kde\");\n",
        "  "
      ],
      "execution_count": 79,
      "outputs": [
        {
          "output_type": "display_data",
          "data": {
            "image/png": "[encoded data removed]",
            "text/plain": [
              "<Figure size 432x432 with 3 Axes>"
            ]
          },
          "metadata": {
            "tags": [],
            "needs_background": "light"
          }
        }
      ]
    },
    {
      "cell_type": "code",
      "metadata": {
        "id": "qM8fFV-QsKfR",
        "colab_type": "code",
        "outputId": "c385baec-f398-4a2c-b2af-9a312f6e08c4",
        "colab": {
          "base_uri": "https://localhost:8080/",
          "height": 441
        }
      },
      "source": [
        "sns.jointplot(x=\"TAT\", y=\"min_temp\", data=df_num, kind=\"kde\");\n"
      ],
      "execution_count": 80,
      "outputs": [
        {
          "output_type": "display_data",
          "data": {
            "image/png": "[encoded data removed]",
            "text/plain": [
              "<Figure size 432x432 with 3 Axes>"
            ]
          },
          "metadata": {
            "tags": [],
            "needs_background": "light"
          }
        }
      ]
    },
    {
      "cell_type": "code",
      "metadata": {
        "id": "nlxvdkz6u4eT",
        "colab_type": "code",
        "outputId": "160876b3-556d-4b97-d1bf-54086a9d6cdc",
        "colab": {
          "base_uri": "https://localhost:8080/",
          "height": 441
        }
      },
      "source": [
        "sns.jointplot(x=\"TAT\", y=\"max_temp\", data=df_num, kind=\"kde\");\n"
      ],
      "execution_count": 81,
      "outputs": [
        {
          "output_type": "display_data",
          "data": {
            "image/png": "[encoded data removed]",
            "text/plain": [
              "<Figure size 432x432 with 3 Axes>"
            ]
          },
          "metadata": {
            "tags": [],
            "needs_background": "light"
          }
        }
      ]
    },
    {
      "cell_type": "code",
      "metadata": {
        "id": "N5f8GbHvvGrp",
        "colab_type": "code",
        "outputId": "1a8c47b4-5bbb-4a57-edbe-393be4025e37",
        "colab": {
          "base_uri": "https://localhost:8080/",
          "height": 441
        }
      },
      "source": [
        "sns.jointplot(x=\"TAT\", y=\"viability\", data=df_num, kind=\"kde\");\n"
      ],
      "execution_count": 82,
      "outputs": [
        {
          "output_type": "display_data",
          "data": {
            "image/png": "[encoded data removed]",
            "text/plain": [
              "<Figure size 432x432 with 3 Axes>"
            ]
          },
          "metadata": {
            "tags": [],
            "needs_background": "light"
          }
        }
      ]
    },
    {
      "cell_type": "code",
      "metadata": {
        "id": "2Sfe6eCcvw7X",
        "colab_type": "code",
        "outputId": "680bf8d4-d5bc-4c1b-d810-445039facc07",
        "colab": {
          "base_uri": "https://localhost:8080/",
          "height": 441
        }
      },
      "source": [
        "sns.jointplot(x=\"min_temp\", y=\"counts\", data=df_num, kind=\"kde\");\n"
      ],
      "execution_count": 83,
      "outputs": [
        {
          "output_type": "display_data",
          "data": {
            "image/png": "[encoded data removed]",
            "text/plain": [
              "<Figure size 432x432 with 3 Axes>"
            ]
          },
          "metadata": {
            "tags": [],
            "needs_background": "light"
          }
        }
      ]
    },
    {
      "cell_type": "code",
      "metadata": {
        "id": "AulXmZBkv_FK",
        "colab_type": "code",
        "outputId": "b0c3f9f8-d2a1-4a73-a994-3616217380f2",
        "colab": {
          "base_uri": "https://localhost:8080/",
          "height": 441
        }
      },
      "source": [
        "sns.jointplot(x=\"max_temp\", y=\"counts\", data=df_num, kind=\"kde\");\n"
      ],
      "execution_count": 84,
      "outputs": [
        {
          "output_type": "display_data",
          "data": {
            "image/png": "[encoded data removed]",
            "text/plain": [
              "<Figure size 432x432 with 3 Axes>"
            ]
          },
          "metadata": {
            "tags": [],
            "needs_background": "light"
          }
        }
      ]
    },
    {
      "cell_type": "code",
      "metadata": {
        "id": "P-Tiil8IwKDP",
        "colab_type": "code",
        "outputId": "9f49e466-0065-4c0b-a55a-85d514f37002",
        "colab": {
          "base_uri": "https://localhost:8080/",
          "height": 441
        }
      },
      "source": [
        "sns.jointplot(x=\"viability\", y=\"counts\", data=df_num, kind=\"kde\");\n"
      ],
      "execution_count": 85,
      "outputs": [
        {
          "output_type": "display_data",
          "data": {
            "image/png": "[encoded data removed]",
            "text/plain": [
              "<Figure size 432x432 with 3 Axes>"
            ]
          },
          "metadata": {
            "tags": [],
            "needs_background": "light"
          }
        }
      ]
    },
    {
      "cell_type": "code",
      "metadata": {
        "id": "WnjChAa4xn96",
        "colab_type": "code",
        "outputId": "d0a0ab18-b620-4971-ab04-41b2853cabff",
        "colab": {
          "base_uri": "https://localhost:8080/",
          "height": 838
        }
      },
      "source": [
        "sns.pairplot(df_num, hue=\"binned\");"
      ],
      "execution_count": 86,
      "outputs": [
        {
          "output_type": "display_data",
          "data": {
            "image/png": "[encoded data removed]",
            "text/plain": [
              "<Figure size 1302.38x1260 with 56 Axes>"
            ]
          },
          "metadata": {
            "tags": [],
            "needs_background": "light"
          }
        }
      ]
    },
    {
      "cell_type": "code",
      "metadata": {
        "id": "IKfpfvBhKjvj",
        "colab_type": "code",
        "colab": {}
      },
      "source": [
        "# g = sns.PairGrid(df_num)\n",
        "# g.map_diag(sns.kdeplot)\n",
        "# g.map_offdiag(sns.kdeplot, n_levels=6);"
      ],
      "execution_count": 0,
      "outputs": []
    },
    {
      "cell_type": "markdown",
      "metadata": {
        "id": "lkwvjhgdVZrF",
        "colab_type": "text"
      },
      "source": [
        "# Regression plots"
      ]
    },
    {
      "cell_type": "code",
      "metadata": {
        "id": "wzji_ErRVdSk",
        "colab_type": "code",
        "colab": {}
      },
      "source": [
        "from statsmodels.compat import lzip\n",
        "import numpy as np\n",
        "import matplotlib.pyplot as plt\n",
        "import statsmodels.api as sm\n",
        "from statsmodels.formula.api import ols\n",
        "from statsmodels.graphics.factorplots import interaction_plot"
      ],
      "execution_count": 0,
      "outputs": []
    },
    {
      "cell_type": "code",
      "metadata": {
        "id": "x8n7SAqQz_0p",
        "colab_type": "code",
        "outputId": "35c60daa-b676-4aaa-a10f-04236164d166",
        "colab": {
          "base_uri": "https://localhost:8080/",
          "height": 279
        }
      },
      "source": [
        "ax=sns.regplot(x=\"viability\", y=\"counts\", data=df_num, lowess=True, ci=95,x_bins=5)\n",
        "pyplot.show()"
      ],
      "execution_count": 89,
      "outputs": [
        {
          "output_type": "display_data",
          "data": {
            "image/png": "[encoded data removed]",
            "text/plain": [
              "<Figure size 432x288 with 1 Axes>"
            ]
          },
          "metadata": {
            "tags": [],
            "needs_background": "light"
          }
        }
      ]
    },
    {
      "cell_type": "code",
      "metadata": {
        "id": "SWD6EJ1L0mgk",
        "colab_type": "code",
        "outputId": "91479e9e-f830-40cf-f429-ef61890dabc3",
        "colab": {
          "base_uri": "https://localhost:8080/",
          "height": 279
        }
      },
      "source": [
        "ax=sns.regplot(x=\"TAT\", y=\"counts\", data=df_num, lowess=True, ci=95,x_bins=5)\n",
        "pyplot.show()"
      ],
      "execution_count": 90,
      "outputs": [
        {
          "output_type": "display_data",
          "data": {
            "image/png": "[encoded data removed]",
            "text/plain": [
              "<Figure size 432x288 with 1 Axes>"
            ]
          },
          "metadata": {
            "tags": [],
            "needs_background": "light"
          }
        }
      ]
    },
    {
      "cell_type": "code",
      "metadata": {
        "id": "e_oUac4d0qKv",
        "colab_type": "code",
        "outputId": "d3f028c5-7c0d-4bc2-a3c3-4d96a9dbaed1",
        "colab": {
          "base_uri": "https://localhost:8080/",
          "height": 280
        }
      },
      "source": [
        "ax=sns.regplot(x=\"min_temp\", y=\"counts\", data=df_num, lowess=True, ci=95,x_bins=5)\n",
        "pyplot.show()"
      ],
      "execution_count": 91,
      "outputs": [
        {
          "output_type": "display_data",
          "data": {
            "image/png": "[encoded data removed]",
            "text/plain": [
              "<Figure size 432x288 with 1 Axes>"
            ]
          },
          "metadata": {
            "tags": [],
            "needs_background": "light"
          }
        }
      ]
    },
    {
      "cell_type": "code",
      "metadata": {
        "id": "LPXHgujI0vJ6",
        "colab_type": "code",
        "outputId": "207ec98d-a912-4569-8aad-cdf304ff5b4c",
        "colab": {
          "base_uri": "https://localhost:8080/",
          "height": 280
        }
      },
      "source": [
        "ax=sns.regplot(x=\"max_temp\", y=\"counts\", data=df_num, lowess=True, ci=95,x_bins=5)\n",
        "pyplot.show()"
      ],
      "execution_count": 92,
      "outputs": [
        {
          "output_type": "display_data",
          "data": {
            "image/png": "[encoded data removed]",
            "text/plain": [
              "<Figure size 432x288 with 1 Axes>"
            ]
          },
          "metadata": {
            "tags": [],
            "needs_background": "light"
          }
        }
      ]
    },
    {
      "cell_type": "markdown",
      "metadata": {
        "id": "3aeK9XTez1Ae",
        "colab_type": "text"
      },
      "source": [
        "# Drop columns: patient number, ALID, counts"
      ]
    },
    {
      "cell_type": "code",
      "metadata": {
        "id": "ucDjA825CTTr",
        "colab_type": "code",
        "colab": {}
      },
      "source": [
        "# drop aliquot id and counts\n",
        "df_num.drop(columns=['PATNUM', 'MNFALID', 'counts'], inplace=True)"
      ],
      "execution_count": 0,
      "outputs": []
    },
    {
      "cell_type": "code",
      "metadata": {
        "id": "OQ1jzl5xSlZJ",
        "colab_type": "code",
        "outputId": "dfa4cef0-ef82-4715-899e-acf9ecd8d52f",
        "colab": {
          "base_uri": "https://localhost:8080/",
          "height": 34
        }
      },
      "source": [
        "df_num.shape"
      ],
      "execution_count": 94,
      "outputs": [
        {
          "output_type": "execute_result",
          "data": {
            "text/plain": [
              "(404, 5)"
            ]
          },
          "metadata": {
            "tags": []
          },
          "execution_count": 94
        }
      ]
    },
    {
      "cell_type": "code",
      "metadata": {
        "id": "i6mwdxywEH17",
        "colab_type": "code",
        "outputId": "596b7daf-0527-4b02-ea3a-5b2120f080af",
        "colab": {
          "base_uri": "https://localhost:8080/",
          "height": 68
        }
      },
      "source": [
        "df_num.binned.value_counts()"
      ],
      "execution_count": 95,
      "outputs": [
        {
          "output_type": "execute_result",
          "data": {
            "text/plain": [
              "1    381\n",
              "0     23\n",
              "Name: binned, dtype: int64"
            ]
          },
          "metadata": {
            "tags": []
          },
          "execution_count": 95
        }
      ]
    },
    {
      "cell_type": "markdown",
      "metadata": {
        "id": "Jx5QtMJU7FCS",
        "colab_type": "text"
      },
      "source": [
        "# Inspect Missingness"
      ]
    },
    {
      "cell_type": "code",
      "metadata": {
        "id": "-FRhchWUR5YX",
        "colab_type": "code",
        "outputId": "db07a648-d5f8-45d8-e4d2-1afa055a4921",
        "colab": {
          "base_uri": "https://localhost:8080/",
          "height": 119
        }
      },
      "source": [
        "df_num.isnull().mean() * 100"
      ],
      "execution_count": 96,
      "outputs": [
        {
          "output_type": "execute_result",
          "data": {
            "text/plain": [
              "viability    13.366337\n",
              "min_temp     49.504950\n",
              "max_temp     49.504950\n",
              "TAT          13.366337\n",
              "binned        0.000000\n",
              "dtype: float64"
            ]
          },
          "metadata": {
            "tags": []
          },
          "execution_count": 96
        }
      ]
    },
    {
      "cell_type": "code",
      "metadata": {
        "id": "FR552An0DBZb",
        "colab_type": "code",
        "colab": {}
      },
      "source": [
        "# From a Data Science perspective it is wrong to first replace NA and then split into train and test\n",
        "# You MUST first split into train and test, then replace NA by mean on train,\n",
        "#  and then apply this stateful preprocessing model to test,\n",
        "\n",
        "# from sklearn.preprocessing import Imputer\n",
        "# missingvalues = Imputer(missing_values = np.nan, strategy = 'mean', axis = 0)\n",
        "# missingvalues = missingvalues.fit(x[:,1:3])\n",
        "# x[:,1:3] = missingvalues.transform(x[:,1:3])"
      ],
      "execution_count": 0,
      "outputs": []
    },
    {
      "cell_type": "markdown",
      "metadata": {
        "id": "DtDRfFoMB2LU",
        "colab_type": "text"
      },
      "source": [
        "# Machine Learning"
      ]
    },
    {
      "cell_type": "code",
      "metadata": {
        "colab_type": "code",
        "outputId": "7d3007cf-69a3-4d2c-f1a0-e429aa8e5b70",
        "id": "IQ90Md-dCYyy",
        "colab": {
          "base_uri": "https://localhost:8080/",
          "height": 122
        }
      },
      "source": [
        "!pip install impyute"
      ],
      "execution_count": 98,
      "outputs": [
        {
          "output_type": "stream",
          "text": [
            "Requirement already satisfied: impyute in /usr/local/lib/python3.6/dist-packages (0.0.8)\n",
            "Requirement already satisfied: numpy in /usr/local/lib/python3.6/dist-packages (from impyute) (1.18.2)\n",
            "Requirement already satisfied: scikit-learn in /usr/local/lib/python3.6/dist-packages (from impyute) (0.22.2.post1)\n",
            "Requirement already satisfied: scipy in /usr/local/lib/python3.6/dist-packages (from impyute) (1.4.1)\n",
            "Requirement already satisfied: joblib>=0.11 in /usr/local/lib/python3.6/dist-packages (from scikit-learn->impyute) (0.14.1)\n"
          ],
          "name": "stdout"
        }
      ]
    },
    {
      "cell_type": "code",
      "metadata": {
        "id": "pT7Wx8IVB4PT",
        "colab_type": "code",
        "colab": {}
      },
      "source": [
        "# SMOTE for imbalanced dataset\n",
        "from collections import Counter\n",
        "from imblearn.over_sampling import SVMSMOTE\n",
        "from matplotlib import pyplot\n",
        "from numpy import where\n",
        "\n",
        "import seaborn as sns\n",
        "\n",
        "# grid search k value for SMOTE oversampling and undersampling for imbalanced classification\n",
        "from numpy import mean\n",
        "from numpy import std\n",
        "from sklearn import preprocessing\n",
        "from sklearn.model_selection import train_test_split\n",
        "from sklearn.model_selection import cross_val_score\n",
        "from sklearn.model_selection import RepeatedStratifiedKFold\n",
        "from imblearn.pipeline import Pipeline\n",
        "from imblearn.over_sampling import SMOTE\n",
        "from imblearn.over_sampling import BorderlineSMOTE\n",
        "from imblearn.under_sampling import RandomUnderSampler\n",
        "\n",
        "# models\n",
        "from sklearn.linear_model import LogisticRegression\n",
        "from sklearn.tree import DecisionTreeClassifier\n",
        "from sklearn.neighbors import KNeighborsClassifier\n",
        "from sklearn.tree import DecisionTreeClassifier\n",
        "from sklearn.svm import SVC\n",
        "from sklearn.naive_bayes import GaussianNB"
      ],
      "execution_count": 0,
      "outputs": []
    },
    {
      "cell_type": "code",
      "metadata": {
        "colab_type": "code",
        "id": "SseC12qIClKJ",
        "colab": {}
      },
      "source": [
        "# imputation module\n",
        "\n",
        "from impyute.imputation.cs import mice"
      ],
      "execution_count": 0,
      "outputs": []
    },
    {
      "cell_type": "code",
      "metadata": {
        "id": "YjMuYErHC5iT",
        "colab_type": "code",
        "outputId": "2bd35650-a274-459e-9408-d89633b86fa2",
        "colab": {
          "base_uri": "https://localhost:8080/",
          "height": 34
        }
      },
      "source": [
        "# create df_num\n",
        "df_num.shape"
      ],
      "execution_count": 101,
      "outputs": [
        {
          "output_type": "execute_result",
          "data": {
            "text/plain": [
              "(404, 5)"
            ]
          },
          "metadata": {
            "tags": []
          },
          "execution_count": 101
        }
      ]
    },
    {
      "cell_type": "code",
      "metadata": {
        "id": "aeVjR30jTmcB",
        "colab_type": "code",
        "colab": {}
      },
      "source": [
        "X_df = df_num.iloc[:,0:4]"
      ],
      "execution_count": 0,
      "outputs": []
    },
    {
      "cell_type": "code",
      "metadata": {
        "id": "Y0oCBCdHaAUr",
        "colab_type": "code",
        "outputId": "20923243-1ab1-4b26-f382-0a4f1c77133d",
        "colab": {
          "base_uri": "https://localhost:8080/",
          "height": 34
        }
      },
      "source": [
        "X_df.columns"
      ],
      "execution_count": 103,
      "outputs": [
        {
          "output_type": "execute_result",
          "data": {
            "text/plain": [
              "Index(['viability', 'min_temp', 'max_temp', 'TAT'], dtype='object')"
            ]
          },
          "metadata": {
            "tags": []
          },
          "execution_count": 103
        }
      ]
    },
    {
      "cell_type": "markdown",
      "metadata": {
        "id": "ZevpZ4nvgwiN",
        "colab_type": "text"
      },
      "source": [
        "# Define X and Y"
      ]
    },
    {
      "cell_type": "code",
      "metadata": {
        "id": "ZVUA_n-WCYZi",
        "colab_type": "code",
        "colab": {}
      },
      "source": [
        "# define dataset\n",
        "values = df_num.values\n",
        "X = values[:,0:4]\n",
        "y = values[:,4]"
      ],
      "execution_count": 0,
      "outputs": []
    },
    {
      "cell_type": "markdown",
      "metadata": {
        "id": "31aZ4rMWhBHP",
        "colab_type": "text"
      },
      "source": [
        "# Split train and test sets\n",
        "\n",
        "(only impute after splitting, or else you touch the validation set, and there will be data leakage)"
      ]
    },
    {
      "cell_type": "code",
      "metadata": {
        "id": "0aVUagV5aGkn",
        "colab_type": "code",
        "colab": {}
      },
      "source": [
        "X_train, X_test, y_train, y_test = train_test_split(X, y, test_size=0.33, stratify=y, random_state=123, shuffle=True)"
      ],
      "execution_count": 0,
      "outputs": []
    },
    {
      "cell_type": "markdown",
      "metadata": {
        "id": "ho3pzdKdhRrH",
        "colab_type": "text"
      },
      "source": [
        "# Imputation methods\n",
        "\n",
        "on training data"
      ]
    },
    {
      "cell_type": "code",
      "metadata": {
        "id": "1x2m7IasEjtT",
        "colab_type": "code",
        "colab": {}
      },
      "source": [
        "# mice-imputed X\n",
        "X_train = mice(X_train)"
      ],
      "execution_count": 0,
      "outputs": []
    },
    {
      "cell_type": "code",
      "metadata": {
        "id": "CNqoKK9hI1B7",
        "colab_type": "code",
        "colab": {}
      },
      "source": [
        "X_test = mice(X_test)"
      ],
      "execution_count": 0,
      "outputs": []
    },
    {
      "cell_type": "code",
      "metadata": {
        "id": "OOqiqfZuhcUH",
        "colab_type": "code",
        "outputId": "c4c999ec-2f8b-49f1-e249-e9ded800579d",
        "colab": {
          "base_uri": "https://localhost:8080/",
          "height": 34
        }
      },
      "source": [
        "# check for missing values\n",
        "print(np.isnan(np.min(X_train)),\n",
        "np.isnan(np.min(X_test)),\n",
        "np.isnan(np.min(y_train)),\n",
        "np.isnan(np.min(y_test)))"
      ],
      "execution_count": 108,
      "outputs": [
        {
          "output_type": "stream",
          "text": [
            "False False False False\n"
          ],
          "name": "stdout"
        }
      ]
    },
    {
      "cell_type": "code",
      "metadata": {
        "id": "6geTsTxH4n3Y",
        "colab_type": "code",
        "colab": {
          "base_uri": "https://localhost:8080/",
          "height": 34
        },
        "outputId": "47c6f8ed-8d80-4ab3-ee8e-4eb4a569522a"
      },
      "source": [
        "Counter(y_train)"
      ],
      "execution_count": 109,
      "outputs": [
        {
          "output_type": "execute_result",
          "data": {
            "text/plain": [
              "Counter({0.0: 15, 1.0: 255})"
            ]
          },
          "metadata": {
            "tags": []
          },
          "execution_count": 109
        }
      ]
    },
    {
      "cell_type": "markdown",
      "metadata": {
        "id": "Frri8k88hBTQ",
        "colab_type": "text"
      },
      "source": [
        "# Balance Classes\n",
        "\n",
        "make synthetic data to make up for class imbalance\n",
        "\n",
        "see:\n",
        "https://imbalanced-learn.readthedocs.io/en/stable/user_guide.html"
      ]
    },
    {
      "cell_type": "code",
      "metadata": {
        "id": "hbXKb8I6Atb2",
        "colab_type": "code",
        "colab": {}
      },
      "source": [
        "def smote(X, y):\n",
        "  # SMOTE to balance classes\n",
        "\n",
        "  # for reproducibility\n",
        "  seed = 100\n",
        "  # SMOTE number of neighbors\n",
        "  k = 5\n",
        "\n",
        "  sm = BorderlineSMOTE(k_neighbors = k, random_state = seed)\n",
        "  return sm.fit_resample(X, y)\n"
      ],
      "execution_count": 0,
      "outputs": []
    },
    {
      "cell_type": "code",
      "metadata": {
        "id": "kVWIt6hWBgWG",
        "colab_type": "code",
        "colab": {}
      },
      "source": [
        "X_train, y_train = smote(X_train, y_train)"
      ],
      "execution_count": 0,
      "outputs": []
    },
    {
      "cell_type": "code",
      "metadata": {
        "id": "pOy-htZckkIC",
        "colab_type": "code",
        "colab": {
          "base_uri": "https://localhost:8080/",
          "height": 295
        },
        "outputId": "e221cce2-fd95-48bc-eef8-b0ebbd6b4b27"
      },
      "source": [
        "# graph classes\n",
        "\n",
        "plt.title('Dataset balanced with synthetic or SMOTE')\n",
        "plt.xlabel('x')\n",
        "plt.ylabel('y')\n",
        "plt.scatter(X_train[:, 0], X_train[:, 1], marker='o', c=y_train,\n",
        "           s=25, edgecolor='k', cmap=plt.cm.coolwarm)\n",
        "plt.show()"
      ],
      "execution_count": 142,
      "outputs": [
        {
          "output_type": "display_data",
          "data": {
            "image/png": "[encoded data removed]",
            "text/plain": [
              "<Figure size 432x288 with 1 Axes>"
            ]
          },
          "metadata": {
            "tags": [],
            "needs_background": "light"
          }
        }
      ]
    },
    {
      "cell_type": "code",
      "metadata": {
        "id": "YTG1fl8KBs-W",
        "colab_type": "code",
        "colab": {}
      },
      "source": [
        "X_test, y_test = smote(X_test, y_test)"
      ],
      "execution_count": 0,
      "outputs": []
    },
    {
      "cell_type": "code",
      "metadata": {
        "colab_type": "code",
        "outputId": "fa3a680f-c491-41f8-f458-caaa9ed5a912",
        "id": "UmCjx1L0DYOf",
        "colab": {
          "base_uri": "https://localhost:8080/",
          "height": 295
        }
      },
      "source": [
        "# graph classes\n",
        "\n",
        "plt.title('Dataset balanced with synthetic or SMOTE')\n",
        "plt.xlabel('x')\n",
        "plt.ylabel('y')\n",
        "plt.scatter(X_test[:, 0], X_test[:, 1], marker='o', c=y_test,\n",
        "           s=25, edgecolor='k', cmap=plt.cm.coolwarm)\n",
        "plt.show()"
      ],
      "execution_count": 114,
      "outputs": [
        {
          "output_type": "display_data",
          "data": {
            "image/png": "[encoded data removed]",
            "text/plain": [
              "<Figure size 432x288 with 1 Axes>"
            ]
          },
          "metadata": {
            "tags": [],
            "needs_background": "light"
          }
        }
      ]
    },
    {
      "cell_type": "code",
      "metadata": {
        "id": "O4ysTo4UtzKW",
        "colab_type": "code",
        "colab": {
          "base_uri": "https://localhost:8080/",
          "height": 34
        },
        "outputId": "5fbaa7b4-0564-4b95-c37a-77fae389df89"
      },
      "source": [
        "print(sorted(Counter(y_train).items()))"
      ],
      "execution_count": 136,
      "outputs": [
        {
          "output_type": "stream",
          "text": [
            "[(0.0, 15), (1.0, 255)]\n"
          ],
          "name": "stdout"
        }
      ]
    },
    {
      "cell_type": "code",
      "metadata": {
        "id": "reafP1t8jhZZ",
        "colab_type": "code",
        "colab": {
          "base_uri": "https://localhost:8080/",
          "height": 34
        },
        "outputId": "9f243a47-7c75-4e80-e2eb-94c5da670191"
      },
      "source": [
        "print(sorted(Counter(y_test).items()))"
      ],
      "execution_count": 116,
      "outputs": [
        {
          "output_type": "stream",
          "text": [
            "[(0.0, 126), (1.0, 126)]\n"
          ],
          "name": "stdout"
        }
      ]
    },
    {
      "cell_type": "markdown",
      "metadata": {
        "id": "A2DJzAKolTPR",
        "colab_type": "text"
      },
      "source": [
        "# Scaling/Normalization/Standardization\n",
        "\n",
        "Presumably, if you really need to center & scale the data, that should be done after imputation, as the imputation could influence on the correct center and scale to use!\n",
        "\n",
        "Generally, the imputation should be the very first step in any analysis you do.\n",
        "\n",
        "However, depending on the imputation method used, for example if we Impute using distance based measure (eg. KNN), then it is recommended to first standardize the data and then Impute. That is because lower magnitude values converge faster.\n",
        "\n",
        "Use MinMax scaler unless you have a theoretical need for \"stronger medicine.\""
      ]
    },
    {
      "cell_type": "markdown",
      "metadata": {
        "id": "CVoV9nSVFCFc",
        "colab_type": "text"
      },
      "source": [
        "Tip: Which Method To Use\n",
        "It is hard to know whether rescaling your data will improve the performance of your algorithms before you apply them. If often can, but not always.\n",
        "\n",
        "A good tip is to create rescaled copies of your dataset and race them against each other using your test harness and a handful of algorithms you want to spot check. This can quickly highlight the benefits (or lack there of) of rescaling your data with given models, and which rescaling method may be worthy of further investigation. - from Machine Learning Mastery. Accessed 4/9/2020 (https://machinelearningmastery.com/rescaling-data-for-machine-learning-in-python-with-scikit-learn/)"
      ]
    },
    {
      "cell_type": "code",
      "metadata": {
        "id": "FSq0GGHnFPDl",
        "colab_type": "code",
        "colab": {}
      },
      "source": [
        "def sci_minmax(X):\n",
        "    minmax_scale = preprocessing.MinMaxScaler(feature_range=(0, 1), copy=True)\n",
        "    return minmax_scale.fit_transform(X)"
      ],
      "execution_count": 0,
      "outputs": []
    },
    {
      "cell_type": "code",
      "metadata": {
        "id": "fRaU8JGzH2XQ",
        "colab_type": "code",
        "colab": {}
      },
      "source": [
        "X_train = sci_minmax(X_train)"
      ],
      "execution_count": 0,
      "outputs": []
    },
    {
      "cell_type": "code",
      "metadata": {
        "id": "eF66v0bkIJp5",
        "colab_type": "code",
        "colab": {}
      },
      "source": [
        "X_test = sci_minmax(X_test)"
      ],
      "execution_count": 0,
      "outputs": []
    },
    {
      "cell_type": "code",
      "metadata": {
        "id": "b_c4bmLKzb-M",
        "colab_type": "code",
        "colab": {}
      },
      "source": [
        "y_train = sci_minmax(y_train.reshape(-1, 1))"
      ],
      "execution_count": 0,
      "outputs": []
    },
    {
      "cell_type": "code",
      "metadata": {
        "id": "TmB7hLECzcKF",
        "colab_type": "code",
        "colab": {}
      },
      "source": [
        "y_test = sci_minmax(y_test.reshape(-1, 1))"
      ],
      "execution_count": 0,
      "outputs": []
    },
    {
      "cell_type": "code",
      "metadata": {
        "id": "uVO1S4JmNFJQ",
        "colab_type": "code",
        "colab": {}
      },
      "source": [
        "# get a list of models to evaluate\n",
        "def get_models():\n",
        "\tmodels = dict()\n",
        "\tmodels['lr'] = LogisticRegression()\n",
        "\tmodels['knn'] = KNeighborsClassifier()\n",
        "\tmodels['cart'] = DecisionTreeClassifier()\n",
        "\tmodels['svm'] = SVC()\n",
        "\tmodels['bayes'] = GaussianNB()\n",
        "\treturn models"
      ],
      "execution_count": 0,
      "outputs": []
    },
    {
      "cell_type": "markdown",
      "metadata": {
        "id": "BUL0bd4wY1SW",
        "colab_type": "text"
      },
      "source": [
        "# Scaled and Imputed Data Has Been Created!"
      ]
    },
    {
      "cell_type": "code",
      "metadata": {
        "id": "eXojCgmdtA1o",
        "colab_type": "code",
        "colab": {
          "base_uri": "https://localhost:8080/",
          "height": 204
        },
        "outputId": "890495cc-185b-42e8-ceb9-538780be7ea6"
      },
      "source": [
        "scaled = pd.DataFrame(X_train, columns= features.columns)\n",
        "scaled['counts']= pd.DataFrame(y_train)\n",
        "scaled.head()\n",
        "\n"
      ],
      "execution_count": 123,
      "outputs": [
        {
          "output_type": "execute_result",
          "data": {
            "text/html": [
              "<div>\n",
              "<style scoped>\n",
              "    .dataframe tbody tr th:only-of-type {\n",
              "        vertical-align: middle;\n",
              "    }\n",
              "\n",
              "    .dataframe tbody tr th {\n",
              "        vertical-align: top;\n",
              "    }\n",
              "\n",
              "    .dataframe thead th {\n",
              "        text-align: right;\n",
              "    }\n",
              "</style>\n",
              "<table border=\"1\" class=\"dataframe\">\n",
              "  <thead>\n",
              "    <tr style=\"text-align: right;\">\n",
              "      <th></th>\n",
              "      <th>viability</th>\n",
              "      <th>min_temp</th>\n",
              "      <th>max_temp</th>\n",
              "      <th>TAT</th>\n",
              "      <th>counts</th>\n",
              "    </tr>\n",
              "  </thead>\n",
              "  <tbody>\n",
              "    <tr>\n",
              "      <th>0</th>\n",
              "      <td>0.000000</td>\n",
              "      <td>0.388889</td>\n",
              "      <td>0.278481</td>\n",
              "      <td>1.000000</td>\n",
              "      <td>1.0</td>\n",
              "    </tr>\n",
              "    <tr>\n",
              "      <th>1</th>\n",
              "      <td>0.380282</td>\n",
              "      <td>0.706349</td>\n",
              "      <td>0.936709</td>\n",
              "      <td>0.000000</td>\n",
              "      <td>1.0</td>\n",
              "    </tr>\n",
              "    <tr>\n",
              "      <th>2</th>\n",
              "      <td>0.577465</td>\n",
              "      <td>0.534193</td>\n",
              "      <td>0.636169</td>\n",
              "      <td>0.671119</td>\n",
              "      <td>1.0</td>\n",
              "    </tr>\n",
              "    <tr>\n",
              "      <th>3</th>\n",
              "      <td>0.556338</td>\n",
              "      <td>0.676369</td>\n",
              "      <td>0.532561</td>\n",
              "      <td>0.245409</td>\n",
              "      <td>1.0</td>\n",
              "    </tr>\n",
              "    <tr>\n",
              "      <th>4</th>\n",
              "      <td>0.788732</td>\n",
              "      <td>0.738095</td>\n",
              "      <td>0.316456</td>\n",
              "      <td>0.228715</td>\n",
              "      <td>1.0</td>\n",
              "    </tr>\n",
              "  </tbody>\n",
              "</table>\n",
              "</div>"
            ],
            "text/plain": [
              "   viability  min_temp  max_temp       TAT  counts\n",
              "0   0.000000  0.388889  0.278481  1.000000     1.0\n",
              "1   0.380282  0.706349  0.936709  0.000000     1.0\n",
              "2   0.577465  0.534193  0.636169  0.671119     1.0\n",
              "3   0.556338  0.676369  0.532561  0.245409     1.0\n",
              "4   0.788732  0.738095  0.316456  0.228715     1.0"
            ]
          },
          "metadata": {
            "tags": []
          },
          "execution_count": 123
        }
      ]
    },
    {
      "cell_type": "code",
      "metadata": {
        "id": "2YfTskhRtRxu",
        "colab_type": "code",
        "colab": {
          "base_uri": "https://localhost:8080/",
          "height": 287
        },
        "outputId": "804122a2-c379-4390-e50c-56277102cc71"
      },
      "source": [
        "sns.heatmap(scaled.corr(method='spearman'), annot= True,\n",
        "        xticklabels=scaled.columns,\n",
        "        yticklabels=scaled.columns)"
      ],
      "execution_count": 124,
      "outputs": [
        {
          "output_type": "execute_result",
          "data": {
            "text/plain": [
              "<matplotlib.axes._subplots.AxesSubplot at 0x7f80f8d001d0>"
            ]
          },
          "metadata": {
            "tags": []
          },
          "execution_count": 124
        },
        {
          "output_type": "display_data",
          "data": {
            "image/png": "[encoded data removed]",
            "text/plain": [
              "<Figure size 432x288 with 2 Axes>"
            ]
          },
          "metadata": {
            "tags": [],
            "needs_background": "light"
          }
        }
      ]
    },
    {
      "cell_type": "code",
      "metadata": {
        "id": "9ePtlw48lP-y",
        "colab_type": "code",
        "colab": {
          "base_uri": "https://localhost:8080/",
          "height": 287
        },
        "outputId": "32cace6c-d37d-44ba-9f18-8e41972bb7fd"
      },
      "source": [
        "sns.heatmap(pd.DataFrame(X_train).corr(method='spearman'), annot= True,\n",
        "        xticklabels=X_df.columns,\n",
        "        yticklabels=X_df.columns)"
      ],
      "execution_count": 125,
      "outputs": [
        {
          "output_type": "execute_result",
          "data": {
            "text/plain": [
              "<matplotlib.axes._subplots.AxesSubplot at 0x7f80f8c58c18>"
            ]
          },
          "metadata": {
            "tags": []
          },
          "execution_count": 125
        },
        {
          "output_type": "display_data",
          "data": {
            "image/png": "[encoded data removed]",
            "text/plain": [
              "<Figure size 432x288 with 2 Axes>"
            ]
          },
          "metadata": {
            "tags": [],
            "needs_background": "light"
          }
        }
      ]
    },
    {
      "cell_type": "code",
      "metadata": {
        "id": "aMgQ1Rp-rIeY",
        "colab_type": "code",
        "colab": {
          "base_uri": "https://localhost:8080/",
          "height": 280
        },
        "outputId": "7c22a1b8-b5cc-4d93-b0c9-ba6786e7cfca"
      },
      "source": [
        "ax=sns.regplot(x=\"min_temp\", y=\"TAT\", data=scaled, x_bins=5, lowess=True);\n"
      ],
      "execution_count": 126,
      "outputs": [
        {
          "output_type": "display_data",
          "data": {
            "image/png": "[encoded data removed]",
            "text/plain": [
              "<Figure size 432x288 with 1 Axes>"
            ]
          },
          "metadata": {
            "tags": [],
            "needs_background": "light"
          }
        }
      ]
    },
    {
      "cell_type": "code",
      "metadata": {
        "id": "QeqYosw7qYzi",
        "colab_type": "code",
        "colab": {
          "base_uri": "https://localhost:8080/",
          "height": 279
        },
        "outputId": "797923b5-c2dd-4850-a94d-98fe31ea1adb"
      },
      "source": [
        "ax=sns.regplot(x=\"TAT\", y=\"min_temp\", data=scaled, lowess=True);\n"
      ],
      "execution_count": 127,
      "outputs": [
        {
          "output_type": "display_data",
          "data": {
            "image/png": "[encoded data removed]",
            "text/plain": [
              "<Figure size 432x288 with 1 Axes>"
            ]
          },
          "metadata": {
            "tags": [],
            "needs_background": "light"
          }
        }
      ]
    },
    {
      "cell_type": "code",
      "metadata": {
        "id": "demhc7v7ZADa",
        "colab_type": "code",
        "outputId": "147f4476-18b9-4daa-a340-77af01ed8fce",
        "colab": {
          "base_uri": "https://localhost:8080/",
          "height": 747
        }
      },
      "source": [
        "# pairplot of scaled and mice-imputed test data \n",
        "\n",
        "sns.pairplot(pd.DataFrame(X_train, columns=X_df.columns));"
      ],
      "execution_count": 128,
      "outputs": [
        {
          "output_type": "display_data",
          "data": {
            "image/png": "[encoded data removed]",
            "text/plain": [
              "<Figure size 720x720 with 20 Axes>"
            ]
          },
          "metadata": {
            "tags": [],
            "needs_background": "light"
          }
        }
      ]
    },
    {
      "cell_type": "markdown",
      "metadata": {
        "id": "aSfwb6evYwVv",
        "colab_type": "text"
      },
      "source": [
        "# Evaluate Models"
      ]
    },
    {
      "cell_type": "code",
      "metadata": {
        "id": "hADh6DRmNGdu",
        "colab_type": "code",
        "colab": {}
      },
      "source": [
        "# evaluate a given model using cross-validation\n",
        "def evaluate_model(model):\n",
        "  cv = RepeatedStratifiedKFold(n_splits=10, n_repeats=3, random_state=1)# transform the dataset\n",
        "  scores = cross_val_score(model, X_train, y_train, scoring='accuracy', cv=cv, n_jobs=-1, error_score='raise')\n",
        "  return scores"
      ],
      "execution_count": 0,
      "outputs": []
    },
    {
      "cell_type": "code",
      "metadata": {
        "id": "MIFJ_KZeNLIn",
        "colab_type": "code",
        "outputId": "06774ba4-fe38-4450-83a0-b1a5cd319ebd",
        "colab": {
          "base_uri": "https://localhost:8080/",
          "height": 350
        }
      },
      "source": [
        "# get the models to evaluate\n",
        "models = get_models()\n",
        "\n",
        "\n",
        "# evaluate the models and store results\n",
        "results, names = list(), list()\n",
        "for name, model in models.items():\n",
        "\n",
        "  scores = evaluate_model(model)\n",
        "  results.append(scores)\n",
        "  names.append(name)\n",
        "  print('>%s %.3f (%.3f)' % (name, mean(scores), std(scores)))\n",
        "# plot model performance for comparison\n",
        "pyplot.boxplot(results, labels=names, showmeans=True)\n",
        "pyplot.show()"
      ],
      "execution_count": 130,
      "outputs": [
        {
          "output_type": "stream",
          "text": [
            ">lr 0.944 (0.019)\n",
            ">knn 0.994 (0.017)\n",
            ">cart 0.994 (0.017)\n",
            ">svm 0.944 (0.019)\n",
            ">bayes 0.919 (0.056)\n"
          ],
          "name": "stdout"
        },
        {
          "output_type": "display_data",
          "data": {
            "image/png": "[encoded data removed]",
            "text/plain": [
              "<Figure size 432x288 with 1 Axes>"
            ]
          },
          "metadata": {
            "tags": [],
            "needs_background": "light"
          }
        }
      ]
    },
    {
      "cell_type": "code",
      "metadata": {
        "id": "rm-u7G0nc0Et",
        "colab_type": "code",
        "outputId": "e4b77b4a-af9e-4a8a-ea6b-d94a2b98eb3f",
        "colab": {
          "base_uri": "https://localhost:8080/",
          "height": 544
        }
      },
      "source": [
        "from sklearn.ensemble import StackingClassifier\n",
        "\n",
        "# define the base models\n",
        "level0 = list()\n",
        "level0.append(('lr', LogisticRegression()))\n",
        "level0.append(('knn', KNeighborsClassifier()))\n",
        "level0.append(('cart', DecisionTreeClassifier()))\n",
        "level0.append(('svm', SVC()))\n",
        "level0.append(('bayes', GaussianNB()))\n",
        "# define meta learner model\n",
        "level1 = KNeighborsClassifier()\n",
        "# define the stacking ensemble\n",
        "model = StackingClassifier(estimators=level0, final_estimator=level1, cv=10)\n",
        "# fit the model on all available data\n",
        "# transform the dataset with SMOTE\n",
        "X, y = smote(X_train, y_train)\n",
        "model.fit(X, y)\n",
        "\n"
      ],
      "execution_count": 131,
      "outputs": [
        {
          "output_type": "execute_result",
          "data": {
            "text/plain": [
              "StackingClassifier(cv=10,\n",
              "                   estimators=[('lr',\n",
              "                                LogisticRegression(C=1.0, class_weight=None,\n",
              "                                                   dual=False,\n",
              "                                                   fit_intercept=True,\n",
              "                                                   intercept_scaling=1,\n",
              "                                                   l1_ratio=None, max_iter=100,\n",
              "                                                   multi_class='auto',\n",
              "                                                   n_jobs=None, penalty='l2',\n",
              "                                                   random_state=None,\n",
              "                                                   solver='lbfgs', tol=0.0001,\n",
              "                                                   verbose=0,\n",
              "                                                   warm_start=False)),\n",
              "                               ('knn',\n",
              "                                KNeighborsClassifier(algorithm='auto',\n",
              "                                                     leaf_size=30,\n",
              "                                                     metric='mink...\n",
              "                                    gamma='scale', kernel='rbf', max_iter=-1,\n",
              "                                    probability=False, random_state=None,\n",
              "                                    shrinking=True, tol=0.001, verbose=False)),\n",
              "                               ('bayes',\n",
              "                                GaussianNB(priors=None, var_smoothing=1e-09))],\n",
              "                   final_estimator=KNeighborsClassifier(algorithm='auto',\n",
              "                                                        leaf_size=30,\n",
              "                                                        metric='minkowski',\n",
              "                                                        metric_params=None,\n",
              "                                                        n_jobs=None,\n",
              "                                                        n_neighbors=5, p=2,\n",
              "                                                        weights='uniform'),\n",
              "                   n_jobs=None, passthrough=False, stack_method='auto',\n",
              "                   verbose=0)"
            ]
          },
          "metadata": {
            "tags": []
          },
          "execution_count": 131
        }
      ]
    },
    {
      "cell_type": "code",
      "metadata": {
        "id": "FHGPRepDQjOh",
        "colab_type": "code",
        "outputId": "d80d8b3b-2304-4930-bc47-6cf216ec113a",
        "colab": {
          "base_uri": "https://localhost:8080/",
          "height": 34
        }
      },
      "source": [
        "data = [[90, 20,35, 7]]\n",
        "yhat = model.predict(data)\n",
        "print('Predicted Class: %d' % (yhat))"
      ],
      "execution_count": 132,
      "outputs": [
        {
          "output_type": "stream",
          "text": [
            "Predicted Class: 1\n"
          ],
          "name": "stdout"
        }
      ]
    },
    {
      "cell_type": "code",
      "metadata": {
        "id": "5a29IqhC7W5k",
        "colab_type": "code",
        "colab": {}
      },
      "source": [
        ""
      ],
      "execution_count": 0,
      "outputs": []
    }
  ]
}