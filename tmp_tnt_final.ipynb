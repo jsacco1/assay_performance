{
  "nbformat": 4,
  "nbformat_minor": 0,
  "metadata": {
    "colab": {
      "name": "tmp_tnt_final.ipynb",
      "provenance": [],
      "collapsed_sections": [],
      "authorship_tag": "ABX9TyOcN+Eih3i4xKrYh3BRO4/a",
      "include_colab_link": true
    },
    "kernelspec": {
      "name": "python3",
      "display_name": "Python 3"
    }
  },
  "cells": [
    {
      "cell_type": "markdown",
      "metadata": {
        "id": "view-in-github",
        "colab_type": "text"
      },
      "source": [
        "<a href=\"https://colab.research.google.com/github/jsacco1/elispot_assay_performance/blob/master/tmp_tnt_final.ipynb\" target=\"_parent\"><img src=\"https://colab.research.google.com/assets/colab-badge.svg\" alt=\"Open In Colab\"/></a>"
      ]
    },
    {
      "cell_type": "markdown",
      "metadata": {
        "id": "JgpdG02X-8qG",
        "colab_type": "text"
      },
      "source": [
        "# Load modules"
      ]
    },
    {
      "cell_type": "code",
      "metadata": {
        "id": "qlkFnBNVqD_g",
        "colab_type": "code",
        "colab": {}
      },
      "source": [
        "# load modules\n",
        "import numpy as np \n",
        "import pandas as pd\n",
        "import csv\n",
        "\n",
        "from collections import Counter\n",
        "from numpy import where\n",
        "\n",
        "\n",
        "import seaborn as sns\n",
        "\n",
        "import sklearn as sk\n",
        "from sklearn.impute import SimpleImputer\n",
        "from sklearn.preprocessing import MinMaxScaler\n",
        "from sklearn.model_selection import train_test_split\n",
        "from sklearn.linear_model import LogisticRegression\n",
        "\n",
        "from sklearn.model_selection import KFold\n",
        "from sklearn.model_selection import cross_val_score\n",
        "\n",
        "import statsmodels.api as sm\n",
        "from statsmodels.imputation import mice\n",
        "\n",
        "from scipy import stats\n",
        "\n",
        "from datetime import datetime, date, time, timedelta\n",
        "\n",
        "import warnings\n",
        "warnings.filterwarnings('ignore')"
      ],
      "execution_count": 0,
      "outputs": []
    },
    {
      "cell_type": "code",
      "metadata": {
        "id": "7uYMuO_rTq7j",
        "colab_type": "code",
        "colab": {}
      },
      "source": [
        "from pandas.plotting import scatter_matrix\n",
        "from matplotlib import pyplot\n",
        "from sklearn.model_selection import train_test_split\n",
        "from sklearn.model_selection import cross_val_score\n",
        "from sklearn.model_selection import StratifiedKFold\n",
        "from sklearn.metrics import classification_report\n",
        "from sklearn.metrics import confusion_matrix\n",
        "from sklearn.metrics import accuracy_score\n",
        "from sklearn.linear_model import LogisticRegression\n",
        "from sklearn.tree import DecisionTreeClassifier\n",
        "from sklearn.neighbors import KNeighborsClassifier\n",
        "from sklearn.discriminant_analysis import LinearDiscriminantAnalysis\n",
        "from sklearn.naive_bayes import GaussianNB\n",
        "from sklearn.svm import SVC"
      ],
      "execution_count": 0,
      "outputs": []
    },
    {
      "cell_type": "code",
      "metadata": {
        "id": "DrwZRXL8uLpj",
        "colab_type": "code",
        "colab": {}
      },
      "source": [
        "# set vars\n",
        "cellType = 'Bulk PBMC'\n",
        "stim = 'a-CD3' # Stimulus.in.Readout"
      ],
      "execution_count": 0,
      "outputs": []
    },
    {
      "cell_type": "code",
      "metadata": {
        "id": "RiwCA9BMqN9z",
        "colab_type": "code",
        "colab": {}
      },
      "source": [
        "# mnf1 = pd.read_csv(AAA, parse_dates=['MNFD','MNF01', 'MNFTM'], infer_datetime_format=['MNFTM'])\n",
        "# mnf2 = pd.read_csv(BBB, parse_dates=['MNFD','MNF01', 'MNFTM'], infer_datetime_format=['MNFTM'])\n",
        "# cd3 =  pd.read_csv(igs, index_col=False, infer_datetime_format=['Sample.Date'])\n",
        "\n",
        "\n",
        "mnf1 = pd.read_csv('/content/sample_data/MNF1.csv', parse_dates=['MNFD','MNF01', 'MNFTM'], infer_datetime_format=['MNFTM'])"
      ],
      "execution_count": 0,
      "outputs": []
    },
    {
      "cell_type": "code",
      "metadata": {
        "id": "4pAIf2bwrvEU",
        "colab_type": "code",
        "colab": {}
      },
      "source": [
        "mnf2 = pd.read_csv('/content/sample_data/MNF2.csv', parse_dates=['MNFD','MNF01', 'MNFTM'], infer_datetime_format=['MNFTM'])"
      ],
      "execution_count": 0,
      "outputs": []
    },
    {
      "cell_type": "code",
      "metadata": {
        "id": "3FRLCikZr5cw",
        "colab_type": "code",
        "colab": {}
      },
      "source": [
        "cd3 = pd.read_csv('/content/sample_data/IGS1_.csv', index_col=False, infer_datetime_format=['Sample.Date'])"
      ],
      "execution_count": 0,
      "outputs": []
    },
    {
      "cell_type": "code",
      "metadata": {
        "id": "8MReUfKLr-AR",
        "colab_type": "code",
        "colab": {}
      },
      "source": [
        "# left join mnfs on igs1"
      ],
      "execution_count": 0,
      "outputs": []
    },
    {
      "cell_type": "code",
      "metadata": {
        "id": "tDWnnwZRsEmp",
        "colab_type": "code",
        "outputId": "d0c9c498-9882-4541-ec61-c5256c2debdb",
        "colab": {
          "base_uri": "https://localhost:8080/",
          "height": 289
        }
      },
      "source": [
        "# inspect cols of mnf1, mnf2\n",
        "\n",
        "print('mnf1 cols: \\n', mnf1.columns)\n",
        "\n",
        "print('mnf2 cols: \\n',mnf2.columns)"
      ],
      "execution_count": 129,
      "outputs": [
        {
          "output_type": "stream",
          "text": [
            "mnf1 cols: \n",
            " Index(['ACCSNM', 'STUDYID', 'PATNUM', 'MNFD', 'MNFTM', 'VISIT', 'MNFTPT',\n",
            "       'MNFFV', 'MNFPVC', 'MNFALID', 'MNFCNTRY', 'MNFSITE', 'MNFINV',\n",
            "       'MNFSCRN', 'MNFSPRDT', 'MNFBIOM', 'MNFTUBEN', 'MNFSSTAT', 'MNFSCOND',\n",
            "       'MNFSCOM', 'MNFSHPST', 'MNFSHPDT', 'MNFRLAB', 'MNFTRKNM', 'MNFPNM',\n",
            "       'MNF01', 'MNF02', 'MNF03', 'MNF04', 'MNF05', 'MNF06', 'MNF07', 'MNF08',\n",
            "       'MNFSPBID', 'MNFREFID', 'MNF11', 'MNF12', 'MNF13', 'MNF14', 'MNF15',\n",
            "       'MNF16', 'MNF17', 'MNF18', 'MNF19', 'SOURCE_FILE_DATETIME'],\n",
            "      dtype='object')\n",
            "mnf2 cols: \n",
            " Index(['PATNUM', 'MNFD', 'MNFTM', 'VISIT', 'MNFTPT', 'MNFALID', 'MNFCNTRY',\n",
            "       'MNFSITE', 'MNFSPRDT', 'MNFBIOM', 'MNFTUBEN', 'MNFSSTAT', 'MNFSCOND',\n",
            "       'MNFSCOM', 'MNFSHPST', 'MNFSHPDT', 'MNF01', 'MNF02', 'MNF03', 'MNF04',\n",
            "       'MNF05', 'MNF06', 'MNF07', 'MNF08', 'MNFSPBID', 'MNFREFID', 'MNF12',\n",
            "       'MNF13', 'MNF14', 'MNF15', 'MNF16', 'MNF17', 'MNF18', 'MNF19'],\n",
            "      dtype='object')\n"
          ],
          "name": "stdout"
        }
      ]
    },
    {
      "cell_type": "code",
      "metadata": {
        "id": "Ex8PoSAqCqkt",
        "colab_type": "code",
        "outputId": "08c5bba7-efe5-4788-f0f0-71d8e6134459",
        "colab": {
          "base_uri": "https://localhost:8080/",
          "height": 34
        }
      },
      "source": [
        "mnf1.shape, mnf2.shape"
      ],
      "execution_count": 130,
      "outputs": [
        {
          "output_type": "execute_result",
          "data": {
            "text/plain": [
              "((6260, 45), (1456, 34))"
            ]
          },
          "metadata": {
            "tags": []
          },
          "execution_count": 130
        }
      ]
    },
    {
      "cell_type": "code",
      "metadata": {
        "id": "pDS5qOMGvl9u",
        "colab_type": "code",
        "outputId": "a4edd1e5-d09e-451a-e98a-0f4ed3b8d46d",
        "colab": {
          "base_uri": "https://localhost:8080/",
          "height": 459
        }
      },
      "source": [
        "cd3.columns"
      ],
      "execution_count": 131,
      "outputs": [
        {
          "output_type": "execute_result",
          "data": {
            "text/plain": [
              "Index(['Group', 'Patient.ID', 'MES.Work.Order.ID', 'Study.ID',\n",
              "       'Analytical.Study.ID', 'Sample.ID', 'Sample.Date', 'Visit',\n",
              "       'Type.of.Cells', 'Type.of.Stimulus.in.IVS', 'Stimulus.in.IVS',\n",
              "       'Stimulus.Format.in.IVS', 'Type.of.Stimulus.in.Readout',\n",
              "       'Stimulus.in.Readout', 'Target', 'Unique.Target.ID',\n",
              "       'Stimulus.Format.in.Readout', 'Number.of.Cells', 'Valid.DFR.eq.',\n",
              "       'Valid.DFR.2x.', 'EXR.Valid.DFR.eq.', 'EXR.Valid.DFR.2x.',\n",
              "       'Positive.Mean.Spot.Count.Filter', 'Negative.Mean.Spot.Count.Filter',\n",
              "       'NGT.01.IRV.Filter', 'ASC.Valid.DFR.eq.', 'ASC.Valid.DFR.2x.',\n",
              "       'Mean.Spot.Count', 'Mean.Spot.Count.Filter', 'IRV', 'IRV.Filter',\n",
              "       'Negative.Groups', 'NGT.01.DFR.eq..p.value',\n",
              "       'NGT.01.DFR.eq..p.value.Filter', 'NGT.01.DFR.2x..p.value',\n",
              "       'NGT.01.DFR.2x..p.value.Filter', 'Position.01', 'Position.02',\n",
              "       'Position.03', 'Position.04', 'Plate.Number.01', 'Plate.Number.02',\n",
              "       'Plate.Number.03', 'Plate.Number.04', 'Count.01', 'Count.02',\n",
              "       'Count.03', 'Count.04', 'Exp.was.analyzed.with.original.Negative.Group',\n",
              "       'Original.Negative.Group', 'Associated.Groups', 'Positive.Groups',\n",
              "       'Comparison.Groups', 'Families.for.Negative.Groups',\n",
              "       'Families.for.Comparison.Groups',\n",
              "       'Subfamily.Group.Pair.Size.for.Negative.Groups',\n",
              "       'Subfamily.Group.Pair.Size.for.Comparison.Groups',\n",
              "       'NGT.01.DFR.eq..statistic', 'NGT.01.DFR.2x..statistic',\n",
              "       'Plate.Barcode.01', 'Plate.Barcode.02', 'Plate.Barcode.03',\n",
              "       'Plate.Barcode.04', 'Filename.01', 'Filename.02', 'Filename.03',\n",
              "       'Filename.04'],\n",
              "      dtype='object')"
            ]
          },
          "metadata": {
            "tags": []
          },
          "execution_count": 131
        }
      ]
    },
    {
      "cell_type": "code",
      "metadata": {
        "id": "B3oIyFB5sMJo",
        "colab_type": "code",
        "colab": {}
      },
      "source": [
        "# check that only one col has your stimulus\n",
        "assert(len(cd3.columns[cd3.isin(['a-CD3']).sum() > 0]) == 1)"
      ],
      "execution_count": 0,
      "outputs": []
    },
    {
      "cell_type": "code",
      "metadata": {
        "id": "_sDF4XTXtUpL",
        "colab_type": "code",
        "colab": {}
      },
      "source": [
        "# rename some cols\n",
        "cd3.rename(columns = {'Patient.ID': 'PATNUM', 'Visit': 'VISIT', 'Mean.Spot.Count': 'counts'}, inplace =True)\n"
      ],
      "execution_count": 0,
      "outputs": []
    },
    {
      "cell_type": "code",
      "metadata": {
        "id": "0Gc6Mxp5thL3",
        "colab_type": "code",
        "outputId": "106d634b-b855-498f-df0b-a06969b9e66e",
        "colab": {
          "base_uri": "https://localhost:8080/",
          "height": 213
        }
      },
      "source": [
        "cd3[0:3]"
      ],
      "execution_count": 134,
      "outputs": [
        {
          "output_type": "execute_result",
          "data": {
            "text/html": [
              "<div>\n",
              "<style scoped>\n",
              "    .dataframe tbody tr th:only-of-type {\n",
              "        vertical-align: middle;\n",
              "    }\n",
              "\n",
              "    .dataframe tbody tr th {\n",
              "        vertical-align: top;\n",
              "    }\n",
              "\n",
              "    .dataframe thead th {\n",
              "        text-align: right;\n",
              "    }\n",
              "</style>\n",
              "<table border=\"1\" class=\"dataframe\">\n",
              "  <thead>\n",
              "    <tr style=\"text-align: right;\">\n",
              "      <th></th>\n",
              "      <th>Group</th>\n",
              "      <th>PATNUM</th>\n",
              "      <th>MES.Work.Order.ID</th>\n",
              "      <th>Study.ID</th>\n",
              "      <th>Analytical.Study.ID</th>\n",
              "      <th>Sample.ID</th>\n",
              "      <th>Sample.Date</th>\n",
              "      <th>VISIT</th>\n",
              "      <th>Type.of.Cells</th>\n",
              "      <th>Type.of.Stimulus.in.IVS</th>\n",
              "      <th>Stimulus.in.IVS</th>\n",
              "      <th>Stimulus.Format.in.IVS</th>\n",
              "      <th>Type.of.Stimulus.in.Readout</th>\n",
              "      <th>Stimulus.in.Readout</th>\n",
              "      <th>Target</th>\n",
              "      <th>Unique.Target.ID</th>\n",
              "      <th>Stimulus.Format.in.Readout</th>\n",
              "      <th>Number.of.Cells</th>\n",
              "      <th>Valid.DFR.eq.</th>\n",
              "      <th>Valid.DFR.2x.</th>\n",
              "      <th>EXR.Valid.DFR.eq.</th>\n",
              "      <th>EXR.Valid.DFR.2x.</th>\n",
              "      <th>Positive.Mean.Spot.Count.Filter</th>\n",
              "      <th>Negative.Mean.Spot.Count.Filter</th>\n",
              "      <th>NGT.01.IRV.Filter</th>\n",
              "      <th>ASC.Valid.DFR.eq.</th>\n",
              "      <th>ASC.Valid.DFR.2x.</th>\n",
              "      <th>counts</th>\n",
              "      <th>Mean.Spot.Count.Filter</th>\n",
              "      <th>IRV</th>\n",
              "      <th>IRV.Filter</th>\n",
              "      <th>Negative.Groups</th>\n",
              "      <th>NGT.01.DFR.eq..p.value</th>\n",
              "      <th>NGT.01.DFR.eq..p.value.Filter</th>\n",
              "      <th>NGT.01.DFR.2x..p.value</th>\n",
              "      <th>NGT.01.DFR.2x..p.value.Filter</th>\n",
              "      <th>Position.01</th>\n",
              "      <th>Position.02</th>\n",
              "      <th>Position.03</th>\n",
              "      <th>Position.04</th>\n",
              "      <th>Plate.Number.01</th>\n",
              "      <th>Plate.Number.02</th>\n",
              "      <th>Plate.Number.03</th>\n",
              "      <th>Plate.Number.04</th>\n",
              "      <th>Count.01</th>\n",
              "      <th>Count.02</th>\n",
              "      <th>Count.03</th>\n",
              "      <th>Count.04</th>\n",
              "      <th>Exp.was.analyzed.with.original.Negative.Group</th>\n",
              "      <th>Original.Negative.Group</th>\n",
              "      <th>Associated.Groups</th>\n",
              "      <th>Positive.Groups</th>\n",
              "      <th>Comparison.Groups</th>\n",
              "      <th>Families.for.Negative.Groups</th>\n",
              "      <th>Families.for.Comparison.Groups</th>\n",
              "      <th>Subfamily.Group.Pair.Size.for.Negative.Groups</th>\n",
              "      <th>Subfamily.Group.Pair.Size.for.Comparison.Groups</th>\n",
              "      <th>NGT.01.DFR.eq..statistic</th>\n",
              "      <th>NGT.01.DFR.2x..statistic</th>\n",
              "      <th>Plate.Barcode.01</th>\n",
              "      <th>Plate.Barcode.02</th>\n",
              "      <th>Plate.Barcode.03</th>\n",
              "      <th>Plate.Barcode.04</th>\n",
              "      <th>Filename.01</th>\n",
              "      <th>Filename.02</th>\n",
              "      <th>Filename.03</th>\n",
              "      <th>Filename.04</th>\n",
              "    </tr>\n",
              "  </thead>\n",
              "  <tbody>\n",
              "    <tr>\n",
              "      <th>0</th>\n",
              "      <td>1</td>\n",
              "      <td>44212</td>\n",
              "      <td>NaN</td>\n",
              "      <td>GO39733</td>\n",
              "      <td>GA-RB-017-01A</td>\n",
              "      <td>6208477593</td>\n",
              "      <td>11FEB2019</td>\n",
              "      <td>DM28</td>\n",
              "      <td>Bulk PBMC</td>\n",
              "      <td>NaN</td>\n",
              "      <td>NaN</td>\n",
              "      <td>NaN</td>\n",
              "      <td>peptides</td>\n",
              "      <td>Peptides A1</td>\n",
              "      <td>79</td>\n",
              "      <td>GO39733_A44212_SAKRKSKKNIRKQQMKILFNVVLEARE</td>\n",
              "      <td>pooled peptides</td>\n",
              "      <td>NaN</td>\n",
              "      <td>NT</td>\n",
              "      <td>0</td>\n",
              "      <td>NT</td>\n",
              "      <td>0</td>\n",
              "      <td>PASS</td>\n",
              "      <td>PASS</td>\n",
              "      <td>PASS</td>\n",
              "      <td>-1</td>\n",
              "      <td>-1</td>\n",
              "      <td>0.0</td>\n",
              "      <td>FAIL</td>\n",
              "      <td>0.000000</td>\n",
              "      <td>PASS</td>\n",
              "      <td>3</td>\n",
              "      <td>NT</td>\n",
              "      <td>NT</td>\n",
              "      <td>1.0</td>\n",
              "      <td>FAIL</td>\n",
              "      <td>B01</td>\n",
              "      <td>B02</td>\n",
              "      <td>NaN</td>\n",
              "      <td>NaN</td>\n",
              "      <td>1</td>\n",
              "      <td>1.0</td>\n",
              "      <td>NaN</td>\n",
              "      <td>NaN</td>\n",
              "      <td>0</td>\n",
              "      <td>0</td>\n",
              "      <td>NaN</td>\n",
              "      <td>NaN</td>\n",
              "      <td>True</td>\n",
              "      <td>-1</td>\n",
              "      <td>0</td>\n",
              "      <td>25</td>\n",
              "      <td>0</td>\n",
              "      <td>3</td>\n",
              "      <td>0</td>\n",
              "      <td>2</td>\n",
              "      <td>4</td>\n",
              "      <td>0.0</td>\n",
              "      <td>NT</td>\n",
              "      <td>-1.1489401715370782</td>\n",
              "      <td>A44212Pl1_291019_10-13-00-count_QC</td>\n",
              "      <td>A44212Pl1_291019_10-13-00-count_QC</td>\n",
              "      <td>NaN</td>\n",
              "      <td>NaN</td>\n",
              "      <td>NaN</td>\n",
              "      <td>NaN</td>\n",
              "      <td>NaN</td>\n",
              "    </tr>\n",
              "    <tr>\n",
              "      <th>1</th>\n",
              "      <td>2</td>\n",
              "      <td>44212</td>\n",
              "      <td>NaN</td>\n",
              "      <td>GO39733</td>\n",
              "      <td>GA-RB-017-01A</td>\n",
              "      <td>6209278307</td>\n",
              "      <td>04JUL2019</td>\n",
              "      <td>EOTBII</td>\n",
              "      <td>Bulk PBMC</td>\n",
              "      <td>NaN</td>\n",
              "      <td>NaN</td>\n",
              "      <td>NaN</td>\n",
              "      <td>peptides</td>\n",
              "      <td>Peptides A1</td>\n",
              "      <td>79</td>\n",
              "      <td>GO39733_A44212_SAKRKSKKNIRKQQMKILFNVVLEARE</td>\n",
              "      <td>pooled peptides</td>\n",
              "      <td>NaN</td>\n",
              "      <td>NT</td>\n",
              "      <td>0</td>\n",
              "      <td>NT</td>\n",
              "      <td>0</td>\n",
              "      <td>PASS</td>\n",
              "      <td>PASS</td>\n",
              "      <td>PASS</td>\n",
              "      <td>-1</td>\n",
              "      <td>-1</td>\n",
              "      <td>0.0</td>\n",
              "      <td>FAIL</td>\n",
              "      <td>0.000000</td>\n",
              "      <td>PASS</td>\n",
              "      <td>4</td>\n",
              "      <td>NT</td>\n",
              "      <td>NT</td>\n",
              "      <td>1.0</td>\n",
              "      <td>FAIL</td>\n",
              "      <td>B03</td>\n",
              "      <td>B04</td>\n",
              "      <td>NaN</td>\n",
              "      <td>NaN</td>\n",
              "      <td>1</td>\n",
              "      <td>1.0</td>\n",
              "      <td>NaN</td>\n",
              "      <td>NaN</td>\n",
              "      <td>0</td>\n",
              "      <td>0</td>\n",
              "      <td>NaN</td>\n",
              "      <td>NaN</td>\n",
              "      <td>True</td>\n",
              "      <td>-1</td>\n",
              "      <td>0</td>\n",
              "      <td>26</td>\n",
              "      <td>0</td>\n",
              "      <td>4</td>\n",
              "      <td>0</td>\n",
              "      <td>2</td>\n",
              "      <td>4</td>\n",
              "      <td>0.0</td>\n",
              "      <td>NT</td>\n",
              "      <td>-0.9568423182634564</td>\n",
              "      <td>A44212Pl1_291019_10-13-00-count_QC</td>\n",
              "      <td>A44212Pl1_291019_10-13-00-count_QC</td>\n",
              "      <td>NaN</td>\n",
              "      <td>NaN</td>\n",
              "      <td>NaN</td>\n",
              "      <td>NaN</td>\n",
              "      <td>NaN</td>\n",
              "    </tr>\n",
              "    <tr>\n",
              "      <th>2</th>\n",
              "      <td>5</td>\n",
              "      <td>44212</td>\n",
              "      <td>NaN</td>\n",
              "      <td>GO39733</td>\n",
              "      <td>GA-RB-017-01A</td>\n",
              "      <td>6208477593</td>\n",
              "      <td>11FEB2019</td>\n",
              "      <td>DM28</td>\n",
              "      <td>Bulk PBMC</td>\n",
              "      <td>NaN</td>\n",
              "      <td>NaN</td>\n",
              "      <td>NaN</td>\n",
              "      <td>peptides</td>\n",
              "      <td>Peptides A2</td>\n",
              "      <td>59</td>\n",
              "      <td>GO39733_A44212_ELLMNGTSSTAEALGLKGSSPTPPCSP</td>\n",
              "      <td>pooled peptides</td>\n",
              "      <td>NaN</td>\n",
              "      <td>NT</td>\n",
              "      <td>0</td>\n",
              "      <td>NT</td>\n",
              "      <td>0</td>\n",
              "      <td>PASS</td>\n",
              "      <td>PASS</td>\n",
              "      <td>PASS</td>\n",
              "      <td>-1</td>\n",
              "      <td>-1</td>\n",
              "      <td>8.5</td>\n",
              "      <td>FAIL</td>\n",
              "      <td>0.052632</td>\n",
              "      <td>PASS</td>\n",
              "      <td>3</td>\n",
              "      <td>NT</td>\n",
              "      <td>NT</td>\n",
              "      <td>1.0</td>\n",
              "      <td>FAIL</td>\n",
              "      <td>B09</td>\n",
              "      <td>B10</td>\n",
              "      <td>NaN</td>\n",
              "      <td>NaN</td>\n",
              "      <td>1</td>\n",
              "      <td>1.0</td>\n",
              "      <td>NaN</td>\n",
              "      <td>NaN</td>\n",
              "      <td>8</td>\n",
              "      <td>9</td>\n",
              "      <td>NaN</td>\n",
              "      <td>NaN</td>\n",
              "      <td>True</td>\n",
              "      <td>-1</td>\n",
              "      <td>0</td>\n",
              "      <td>25</td>\n",
              "      <td>0</td>\n",
              "      <td>3</td>\n",
              "      <td>0</td>\n",
              "      <td>2</td>\n",
              "      <td>4</td>\n",
              "      <td>0.0</td>\n",
              "      <td>NT</td>\n",
              "      <td>-0.14745638372773767</td>\n",
              "      <td>A44212Pl1_291019_10-13-00-count_QC</td>\n",
              "      <td>A44212Pl1_291019_10-13-00-count_QC</td>\n",
              "      <td>NaN</td>\n",
              "      <td>NaN</td>\n",
              "      <td>NaN</td>\n",
              "      <td>NaN</td>\n",
              "      <td>NaN</td>\n",
              "    </tr>\n",
              "  </tbody>\n",
              "</table>\n",
              "</div>"
            ],
            "text/plain": [
              "   Group  PATNUM  MES.Work.Order.ID  ... Filename.02 Filename.03 Filename.04\n",
              "0      1   44212                NaN  ...         NaN         NaN         NaN\n",
              "1      2   44212                NaN  ...         NaN         NaN         NaN\n",
              "2      5   44212                NaN  ...         NaN         NaN         NaN\n",
              "\n",
              "[3 rows x 67 columns]"
            ]
          },
          "metadata": {
            "tags": []
          },
          "execution_count": 134
        }
      ]
    },
    {
      "cell_type": "code",
      "metadata": {
        "id": "HAB5Tffmti_P",
        "colab_type": "code",
        "colab": {}
      },
      "source": [
        "# filter for 'type of cell' column\n",
        "typecell_col = ''.join([col for col in [col for col in cd3.columns if \"Cells\" in col] if \"Type\" in col])  #change index if different"
      ],
      "execution_count": 0,
      "outputs": []
    },
    {
      "cell_type": "code",
      "metadata": {
        "id": "e655FOzNt7HD",
        "colab_type": "code",
        "outputId": "1ccd79ac-2f99-4ac8-ca43-0b9f7479349f",
        "colab": {
          "base_uri": "https://localhost:8080/",
          "height": 34
        }
      },
      "source": [
        "print(typecell_col)"
      ],
      "execution_count": 136,
      "outputs": [
        {
          "output_type": "stream",
          "text": [
            "Type.of.Cells\n"
          ],
          "name": "stdout"
        }
      ]
    },
    {
      "cell_type": "code",
      "metadata": {
        "id": "KgQ6k9srv0Zx",
        "colab_type": "code",
        "outputId": "1410a8ef-d6c6-4bc2-e49a-75c4e950155f",
        "colab": {
          "base_uri": "https://localhost:8080/",
          "height": 85
        }
      },
      "source": [
        "cd3[typecell_col].value_counts()"
      ],
      "execution_count": 137,
      "outputs": [
        {
          "output_type": "execute_result",
          "data": {
            "text/plain": [
              "Bulk PBMC    1250\n",
              "CD8           878\n",
              "CD4           878\n",
              "Name: Type.of.Cells, dtype: int64"
            ]
          },
          "metadata": {
            "tags": []
          },
          "execution_count": 137
        }
      ]
    },
    {
      "cell_type": "code",
      "metadata": {
        "id": "RMd8J2X-t8lq",
        "colab_type": "code",
        "outputId": "4228428d-2c99-4454-e6aa-cbf97c5a1690",
        "colab": {
          "base_uri": "https://localhost:8080/",
          "height": 34
        }
      },
      "source": [
        "# find and filter stimulus column. chained conditions\n",
        "stim_col = ''.join(cd3.columns[cd3.isin(['a-CD3']).sum() > 0])\n",
        "print(stim_col)"
      ],
      "execution_count": 138,
      "outputs": [
        {
          "output_type": "stream",
          "text": [
            "Stimulus.in.Readout\n"
          ],
          "name": "stdout"
        }
      ]
    },
    {
      "cell_type": "code",
      "metadata": {
        "id": "_DQiQV8wuExq",
        "colab_type": "code",
        "outputId": "739dba73-3cac-4ac8-9c20-623a5ffa0242",
        "colab": {
          "base_uri": "https://localhost:8080/",
          "height": 34
        }
      },
      "source": [
        "# shape filtered on a-CD3\n",
        "cd3[cd3[stim_col] == stim].shape \n"
      ],
      "execution_count": 139,
      "outputs": [
        {
          "output_type": "execute_result",
          "data": {
            "text/plain": [
              "(259, 67)"
            ]
          },
          "metadata": {
            "tags": []
          },
          "execution_count": 139
        }
      ]
    },
    {
      "cell_type": "code",
      "metadata": {
        "id": "B6QW8aATu_EV",
        "colab_type": "code",
        "outputId": "62210bcb-2b05-4ec5-a9b8-a500915b78b3",
        "colab": {
          "base_uri": "https://localhost:8080/",
          "height": 34
        }
      },
      "source": [
        "# shape filtered on desired type of cell (Bulk PBMC)\n",
        "cd3[cd3[typecell_col] == cellType].shape "
      ],
      "execution_count": 140,
      "outputs": [
        {
          "output_type": "execute_result",
          "data": {
            "text/plain": [
              "(1250, 67)"
            ]
          },
          "metadata": {
            "tags": []
          },
          "execution_count": 140
        }
      ]
    },
    {
      "cell_type": "code",
      "metadata": {
        "id": "YwN8IZlawrps",
        "colab_type": "code",
        "colab": {}
      },
      "source": [
        "# isolate Bulk PBMC\n",
        "cd3 = cd3[cd3[typecell_col] == cellType]"
      ],
      "execution_count": 0,
      "outputs": []
    },
    {
      "cell_type": "code",
      "metadata": {
        "id": "lsfUBx-rxu6n",
        "colab_type": "code",
        "colab": {}
      },
      "source": [
        "# isolate a-CD3 stimulus from bulk PBMC\n",
        "cd3 = cd3[cd3[stim_col] == stim]"
      ],
      "execution_count": 0,
      "outputs": []
    },
    {
      "cell_type": "code",
      "metadata": {
        "id": "zP8j1w-syNbr",
        "colab_type": "code",
        "outputId": "0eaaa6fa-3a53-43ca-c4df-4503ed30fcaa",
        "colab": {
          "base_uri": "https://localhost:8080/",
          "height": 51
        }
      },
      "source": [
        "# check that a-CD3 is only stimulus left\n",
        "cd3['Stimulus.in.Readout'].value_counts()"
      ],
      "execution_count": 143,
      "outputs": [
        {
          "output_type": "execute_result",
          "data": {
            "text/plain": [
              "a-CD3    105\n",
              "Name: Stimulus.in.Readout, dtype: int64"
            ]
          },
          "metadata": {
            "tags": []
          },
          "execution_count": 143
        }
      ]
    },
    {
      "cell_type": "code",
      "metadata": {
        "id": "RJuzPz_FzmjU",
        "colab_type": "code",
        "outputId": "ec6e0222-3fe3-4ab9-da8c-fc15d8c764dc",
        "colab": {
          "base_uri": "https://localhost:8080/",
          "height": 51
        }
      },
      "source": [
        "# check bulk PBMC isolated\n",
        "cd3[typecell_col].value_counts()"
      ],
      "execution_count": 144,
      "outputs": [
        {
          "output_type": "execute_result",
          "data": {
            "text/plain": [
              "Bulk PBMC    105\n",
              "Name: Type.of.Cells, dtype: int64"
            ]
          },
          "metadata": {
            "tags": []
          },
          "execution_count": 144
        }
      ]
    },
    {
      "cell_type": "code",
      "metadata": {
        "id": "4vbfjMyt0BFk",
        "colab_type": "code",
        "outputId": "5556190d-dc74-4603-fa0c-d517e392e1b5",
        "colab": {
          "base_uri": "https://localhost:8080/",
          "height": 34
        }
      },
      "source": [
        "# drop all from cd3 except stimulus.in.readout, patnum, visit, and sample.id, type of cells, and mean spot count ('counts')\n",
        "cd_keepers = ['PATNUM', 'VISIT', 'Sample.ID', 'Sample.Date', typecell_col, stim_col, 'counts']\n",
        "print(cd_keepers)\n",
        "\n",
        "cd3 = cd3[cd_keepers]"
      ],
      "execution_count": 145,
      "outputs": [
        {
          "output_type": "stream",
          "text": [
            "['PATNUM', 'VISIT', 'Sample.ID', 'Sample.Date', 'Type.of.Cells', 'Stimulus.in.Readout', 'counts']\n"
          ],
          "name": "stdout"
        }
      ]
    },
    {
      "cell_type": "code",
      "metadata": {
        "id": "i89Z8td90gPI",
        "colab_type": "code",
        "outputId": "60131c73-4d5c-404d-b09b-894979c81338",
        "colab": {
          "base_uri": "https://localhost:8080/",
          "height": 306
        }
      },
      "source": [
        "print(cd3[0:3],\"\\n\" , \"CD3 dataframe, filtered on stimulus and cell type: \\n\", cd3.shape, \" \\n\", \"null values by col: \\n\", cd3.isnull().sum())"
      ],
      "execution_count": 146,
      "outputs": [
        {
          "output_type": "stream",
          "text": [
            "    PATNUM   VISIT   Sample.ID  ... Type.of.Cells Stimulus.in.Readout  counts\n",
            "40   44212    DM28  6208477593  ...     Bulk PBMC               a-CD3  1200.0\n",
            "41   44212  EOTBII  6209278307  ...     Bulk PBMC               a-CD3  1200.0\n",
            "42   44212    DM28  6208477593  ...     Bulk PBMC               a-CD3  1200.0\n",
            "\n",
            "[3 rows x 7 columns] \n",
            " CD3 dataframe, filtered on stimulus and cell type: \n",
            " (105, 7)  \n",
            " null values by col: \n",
            " PATNUM                 0\n",
            "VISIT                  0\n",
            "Sample.ID              0\n",
            "Sample.Date            0\n",
            "Type.of.Cells          0\n",
            "Stimulus.in.Readout    0\n",
            "counts                 0\n",
            "dtype: int64\n"
          ],
          "name": "stdout"
        }
      ]
    },
    {
      "cell_type": "code",
      "metadata": {
        "id": "1gam29ByMwla",
        "colab_type": "code",
        "outputId": "7ac0768e-410a-449f-9861-7b38a7dfff67",
        "colab": {
          "base_uri": "https://localhost:8080/",
          "height": 34
        }
      },
      "source": [
        "len(cd3.PATNUM.unique())"
      ],
      "execution_count": 147,
      "outputs": [
        {
          "output_type": "execute_result",
          "data": {
            "text/plain": [
              "34"
            ]
          },
          "metadata": {
            "tags": []
          },
          "execution_count": 147
        }
      ]
    },
    {
      "cell_type": "code",
      "metadata": {
        "id": "PESZiqjn0drN",
        "colab_type": "code",
        "colab": {}
      },
      "source": [
        ""
      ],
      "execution_count": 0,
      "outputs": []
    },
    {
      "cell_type": "markdown",
      "metadata": {
        "id": "wydJ_IIC-hjz",
        "colab_type": "text"
      },
      "source": [
        "# Merge MNF1 and MNF2 on common columns"
      ]
    },
    {
      "cell_type": "code",
      "metadata": {
        "id": "hU9pN2sb-nIO",
        "colab_type": "code",
        "colab": {}
      },
      "source": [
        "mnf_keepers = ['PATNUM', 'MNFD', 'MNFTM', 'VISIT', 'MNFTPT', 'MNFALID', 'MNFCNTRY',\n",
        "       'MNFSITE', 'MNFSPRDT', 'MNFBIOM', 'MNFTUBEN', 'MNF01', 'MNFREFID', 'MNF06', 'MNF14', 'MNF15', 'MNF16', 'MNF17']"
      ],
      "execution_count": 0,
      "outputs": []
    },
    {
      "cell_type": "code",
      "metadata": {
        "id": "RTntGSy4A2Yx",
        "colab_type": "code",
        "colab": {}
      },
      "source": [
        "# drop cols\n",
        "mnf1_dropped = mnf1[mnf_keepers]\n",
        "mnf2_dropped = mnf2[mnf_keepers]"
      ],
      "execution_count": 0,
      "outputs": []
    },
    {
      "cell_type": "code",
      "metadata": {
        "id": "bT03_FvnAosI",
        "colab_type": "code",
        "colab": {}
      },
      "source": [
        "merged = mnf1_dropped.append(mnf2_dropped, ignore_index=True)"
      ],
      "execution_count": 0,
      "outputs": []
    },
    {
      "cell_type": "code",
      "metadata": {
        "id": "lRGjnW6FBkBY",
        "colab_type": "code",
        "outputId": "3ddd0e9a-9968-4f4e-c318-28ac03d84570",
        "colab": {
          "base_uri": "https://localhost:8080/",
          "height": 34
        }
      },
      "source": [
        "merged.shape"
      ],
      "execution_count": 151,
      "outputs": [
        {
          "output_type": "execute_result",
          "data": {
            "text/plain": [
              "(7716, 18)"
            ]
          },
          "metadata": {
            "tags": []
          },
          "execution_count": 151
        }
      ]
    },
    {
      "cell_type": "code",
      "metadata": {
        "id": "mN550Tq-CZLc",
        "colab_type": "code",
        "outputId": "730366ac-577c-4c81-feb3-6d980dd14a93",
        "colab": {
          "base_uri": "https://localhost:8080/",
          "height": 34
        }
      },
      "source": [
        "# check for dup indices\n",
        "merged.index[merged.index.duplicated()].unique()\n",
        "len(merged[merged.index.duplicated()])"
      ],
      "execution_count": 152,
      "outputs": [
        {
          "output_type": "execute_result",
          "data": {
            "text/plain": [
              "0"
            ]
          },
          "metadata": {
            "tags": []
          },
          "execution_count": 152
        }
      ]
    },
    {
      "cell_type": "markdown",
      "metadata": {
        "id": "hLXO7qNo9taI",
        "colab_type": "text"
      },
      "source": [
        "# Derive Turn-Around Time for Sample Manifests"
      ]
    },
    {
      "cell_type": "code",
      "metadata": {
        "id": "roayDWNC902Z",
        "colab_type": "code",
        "colab": {}
      },
      "source": [
        "# make a collection time column \n",
        "# create collection column and reformat\n",
        "merged['MNFTM']  = merged.MNFTM.dt.time\n",
        "\n",
        "merged['MNFTM'] = pd.to_timedelta(merged['MNFTM'].astype(str))\n",
        "\n",
        "merged[\"Collection\"] = pd.to_datetime(merged.pop('MNFD')) + pd.to_timedelta(merged.pop('MNFTM').astype(str))\n"
      ],
      "execution_count": 0,
      "outputs": []
    },
    {
      "cell_type": "code",
      "metadata": {
        "id": "EryXRLzc-GQD",
        "colab_type": "code",
        "outputId": "91a8e014-0d60-4e48-c9cf-0b8373c3f178",
        "colab": {
          "base_uri": "https://localhost:8080/",
          "height": 85
        }
      },
      "source": [
        "merged.columns"
      ],
      "execution_count": 154,
      "outputs": [
        {
          "output_type": "execute_result",
          "data": {
            "text/plain": [
              "Index(['PATNUM', 'VISIT', 'MNFTPT', 'MNFALID', 'MNFCNTRY', 'MNFSITE',\n",
              "       'MNFSPRDT', 'MNFBIOM', 'MNFTUBEN', 'MNF01', 'MNFREFID', 'MNF06',\n",
              "       'MNF14', 'MNF15', 'MNF16', 'MNF17', 'Collection'],\n",
              "      dtype='object')"
            ]
          },
          "metadata": {
            "tags": []
          },
          "execution_count": 154
        }
      ]
    },
    {
      "cell_type": "code",
      "metadata": {
        "id": "1O53GYfYB11P",
        "colab_type": "code",
        "colab": {}
      },
      "source": [
        "# create TAT column\n",
        "merged[\"TAT\"] = merged[\"MNF01\"] - merged[\"Collection\"]\n",
        "merged['TAT'] = merged['TAT']/np.timedelta64(1,'h')"
      ],
      "execution_count": 0,
      "outputs": []
    },
    {
      "cell_type": "code",
      "metadata": {
        "id": "DMH2Xu4eKCgh",
        "colab_type": "code",
        "colab": {}
      },
      "source": [
        "# filter MNFBIOM\n",
        "merged = merged[merged['MNFBIOM']== 'PBMC']"
      ],
      "execution_count": 0,
      "outputs": []
    },
    {
      "cell_type": "code",
      "metadata": {
        "id": "E8RTcIcDCDmF",
        "colab_type": "code",
        "outputId": "0a238f0e-9463-4855-8ef5-4ef3f6b62e38",
        "colab": {
          "base_uri": "https://localhost:8080/",
          "height": 394
        }
      },
      "source": [
        "merged.head()"
      ],
      "execution_count": 157,
      "outputs": [
        {
          "output_type": "execute_result",
          "data": {
            "text/html": [
              "<div>\n",
              "<style scoped>\n",
              "    .dataframe tbody tr th:only-of-type {\n",
              "        vertical-align: middle;\n",
              "    }\n",
              "\n",
              "    .dataframe tbody tr th {\n",
              "        vertical-align: top;\n",
              "    }\n",
              "\n",
              "    .dataframe thead th {\n",
              "        text-align: right;\n",
              "    }\n",
              "</style>\n",
              "<table border=\"1\" class=\"dataframe\">\n",
              "  <thead>\n",
              "    <tr style=\"text-align: right;\">\n",
              "      <th></th>\n",
              "      <th>PATNUM</th>\n",
              "      <th>VISIT</th>\n",
              "      <th>MNFTPT</th>\n",
              "      <th>MNFALID</th>\n",
              "      <th>MNFCNTRY</th>\n",
              "      <th>MNFSITE</th>\n",
              "      <th>MNFSPRDT</th>\n",
              "      <th>MNFBIOM</th>\n",
              "      <th>MNFTUBEN</th>\n",
              "      <th>MNF01</th>\n",
              "      <th>MNFREFID</th>\n",
              "      <th>MNF06</th>\n",
              "      <th>MNF14</th>\n",
              "      <th>MNF15</th>\n",
              "      <th>MNF16</th>\n",
              "      <th>MNF17</th>\n",
              "      <th>Collection</th>\n",
              "      <th>TAT</th>\n",
              "    </tr>\n",
              "  </thead>\n",
              "  <tbody>\n",
              "    <tr>\n",
              "      <th>1</th>\n",
              "      <td>12342</td>\n",
              "      <td>DM28</td>\n",
              "      <td>NaN</td>\n",
              "      <td>1.0</td>\n",
              "      <td>USA</td>\n",
              "      <td>304657</td>\n",
              "      <td>20180102 18:50</td>\n",
              "      <td>PBMC</td>\n",
              "      <td>PBMC-I</td>\n",
              "      <td>2018-01-02 19:05:00</td>\n",
              "      <td>6505898300</td>\n",
              "      <td>94.9</td>\n",
              "      <td>NaN</td>\n",
              "      <td>NaN</td>\n",
              "      <td>NaN</td>\n",
              "      <td>NaN</td>\n",
              "      <td>2018-01-02 08:06:00</td>\n",
              "      <td>10.983333</td>\n",
              "    </tr>\n",
              "    <tr>\n",
              "      <th>2</th>\n",
              "      <td>12342</td>\n",
              "      <td>DM28</td>\n",
              "      <td>NaN</td>\n",
              "      <td>2.0</td>\n",
              "      <td>USA</td>\n",
              "      <td>304657</td>\n",
              "      <td>20180102 18:50</td>\n",
              "      <td>PBMC</td>\n",
              "      <td>PBMC-I</td>\n",
              "      <td>2018-01-02 19:05:00</td>\n",
              "      <td>6505898300</td>\n",
              "      <td>94.9</td>\n",
              "      <td>NaN</td>\n",
              "      <td>NaN</td>\n",
              "      <td>NaN</td>\n",
              "      <td>NaN</td>\n",
              "      <td>2018-01-02 08:06:00</td>\n",
              "      <td>10.983333</td>\n",
              "    </tr>\n",
              "    <tr>\n",
              "      <th>3</th>\n",
              "      <td>12342</td>\n",
              "      <td>DM28</td>\n",
              "      <td>NaN</td>\n",
              "      <td>3.0</td>\n",
              "      <td>USA</td>\n",
              "      <td>304657</td>\n",
              "      <td>20180102 18:50</td>\n",
              "      <td>PBMC</td>\n",
              "      <td>PBMC-I</td>\n",
              "      <td>2018-01-02 19:05:00</td>\n",
              "      <td>6505898300</td>\n",
              "      <td>94.9</td>\n",
              "      <td>NaN</td>\n",
              "      <td>NaN</td>\n",
              "      <td>NaN</td>\n",
              "      <td>NaN</td>\n",
              "      <td>2018-01-02 08:06:00</td>\n",
              "      <td>10.983333</td>\n",
              "    </tr>\n",
              "    <tr>\n",
              "      <th>4</th>\n",
              "      <td>12342</td>\n",
              "      <td>DM28</td>\n",
              "      <td>NaN</td>\n",
              "      <td>4.0</td>\n",
              "      <td>USA</td>\n",
              "      <td>304657</td>\n",
              "      <td>20180102 18:50</td>\n",
              "      <td>PBMC</td>\n",
              "      <td>PBMC-I</td>\n",
              "      <td>2018-01-02 19:05:00</td>\n",
              "      <td>6505898300</td>\n",
              "      <td>94.9</td>\n",
              "      <td>NaN</td>\n",
              "      <td>NaN</td>\n",
              "      <td>NaN</td>\n",
              "      <td>NaN</td>\n",
              "      <td>2018-01-02 08:06:00</td>\n",
              "      <td>10.983333</td>\n",
              "    </tr>\n",
              "    <tr>\n",
              "      <th>6</th>\n",
              "      <td>12716</td>\n",
              "      <td>DM28</td>\n",
              "      <td>NaN</td>\n",
              "      <td>1.0</td>\n",
              "      <td>USA</td>\n",
              "      <td>304657</td>\n",
              "      <td>20180110 17:32</td>\n",
              "      <td>PBMC</td>\n",
              "      <td>PBMC-I</td>\n",
              "      <td>2018-01-10 17:43:00</td>\n",
              "      <td>6505898301</td>\n",
              "      <td>95.2</td>\n",
              "      <td>NaN</td>\n",
              "      <td>NaN</td>\n",
              "      <td>NaN</td>\n",
              "      <td>NaN</td>\n",
              "      <td>2018-01-10 10:20:00</td>\n",
              "      <td>7.383333</td>\n",
              "    </tr>\n",
              "  </tbody>\n",
              "</table>\n",
              "</div>"
            ],
            "text/plain": [
              "   PATNUM VISIT  MNFTPT  MNFALID  ... MNF16  MNF17          Collection        TAT\n",
              "1   12342  DM28     NaN      1.0  ...   NaN    NaN 2018-01-02 08:06:00  10.983333\n",
              "2   12342  DM28     NaN      2.0  ...   NaN    NaN 2018-01-02 08:06:00  10.983333\n",
              "3   12342  DM28     NaN      3.0  ...   NaN    NaN 2018-01-02 08:06:00  10.983333\n",
              "4   12342  DM28     NaN      4.0  ...   NaN    NaN 2018-01-02 08:06:00  10.983333\n",
              "6   12716  DM28     NaN      1.0  ...   NaN    NaN 2018-01-10 10:20:00   7.383333\n",
              "\n",
              "[5 rows x 18 columns]"
            ]
          },
          "metadata": {
            "tags": []
          },
          "execution_count": 157
        }
      ]
    },
    {
      "cell_type": "code",
      "metadata": {
        "id": "kQGP6HJBC7UW",
        "colab_type": "code",
        "outputId": "99b0347d-485d-4536-f02a-bb3dedd9d5eb",
        "colab": {
          "base_uri": "https://localhost:8080/",
          "height": 34
        }
      },
      "source": [
        "merged.shape"
      ],
      "execution_count": 158,
      "outputs": [
        {
          "output_type": "execute_result",
          "data": {
            "text/plain": [
              "(6558, 18)"
            ]
          },
          "metadata": {
            "tags": []
          },
          "execution_count": 158
        }
      ]
    },
    {
      "cell_type": "markdown",
      "metadata": {
        "id": "dKw0mCc9COdM",
        "colab_type": "text"
      },
      "source": [
        "# Merge Manifest Dataframe with CD3 (assay performance dataframe)"
      ]
    },
    {
      "cell_type": "code",
      "metadata": {
        "id": "JdFGrjv7C_Vr",
        "colab_type": "code",
        "outputId": "681d304b-fda0-4f2b-a416-1602eaa5e7ab",
        "colab": {
          "base_uri": "https://localhost:8080/",
          "height": 68
        }
      },
      "source": [
        "merged['PATNUM'].isin(cd3['PATNUM']).value_counts()"
      ],
      "execution_count": 159,
      "outputs": [
        {
          "output_type": "execute_result",
          "data": {
            "text/plain": [
              "False    5172\n",
              "True     1386\n",
              "Name: PATNUM, dtype: int64"
            ]
          },
          "metadata": {
            "tags": []
          },
          "execution_count": 159
        }
      ]
    },
    {
      "cell_type": "code",
      "metadata": {
        "id": "wkYO8u9yMZHN",
        "colab_type": "code",
        "outputId": "7766c927-dbe9-4866-e744-8ef1bac8b126",
        "colab": {
          "base_uri": "https://localhost:8080/",
          "height": 68
        }
      },
      "source": [
        "merged['VISIT'].isin(cd3['VISIT']).value_counts()"
      ],
      "execution_count": 160,
      "outputs": [
        {
          "output_type": "execute_result",
          "data": {
            "text/plain": [
              "True     5346\n",
              "False    1212\n",
              "Name: VISIT, dtype: int64"
            ]
          },
          "metadata": {
            "tags": []
          },
          "execution_count": 160
        }
      ]
    },
    {
      "cell_type": "code",
      "metadata": {
        "id": "SbWsaF0oKjje",
        "colab_type": "code",
        "outputId": "ce1ec92d-80dc-414e-d2e9-3ffb4ad46275",
        "colab": {
          "base_uri": "https://localhost:8080/",
          "height": 34
        }
      },
      "source": [
        "print(pd.merge(cd3, merged, how = 'left', on=['PATNUM', 'VISIT']).shape)"
      ],
      "execution_count": 161,
      "outputs": [
        {
          "output_type": "stream",
          "text": [
            "(404, 23)\n"
          ],
          "name": "stdout"
        }
      ]
    },
    {
      "cell_type": "code",
      "metadata": {
        "id": "K45qQagPHyR0",
        "colab_type": "code",
        "outputId": "817a4f0d-f89c-45fe-da02-3ba13c1744c1",
        "colab": {
          "base_uri": "https://localhost:8080/",
          "height": 425
        }
      },
      "source": [
        "print(pd.merge(cd3, merged, how = 'left', on=['PATNUM', 'VISIT']).isnull().mean() * 100)"
      ],
      "execution_count": 162,
      "outputs": [
        {
          "output_type": "stream",
          "text": [
            "PATNUM                   0.000000\n",
            "VISIT                    0.000000\n",
            "Sample.ID                0.000000\n",
            "Sample.Date              0.000000\n",
            "Type.of.Cells            0.000000\n",
            "Stimulus.in.Readout      0.000000\n",
            "counts                   0.000000\n",
            "MNFTPT                 100.000000\n",
            "MNFALID                 13.366337\n",
            "MNFCNTRY                13.366337\n",
            "MNFSITE                 13.366337\n",
            "MNFSPRDT                19.801980\n",
            "MNFBIOM                 13.366337\n",
            "MNFTUBEN                13.366337\n",
            "MNF01                   13.366337\n",
            "MNFREFID                13.366337\n",
            "MNF06                   13.366337\n",
            "MNF14                   49.504950\n",
            "MNF15                   49.504950\n",
            "MNF16                   92.079208\n",
            "MNF17                   66.336634\n",
            "Collection              13.366337\n",
            "TAT                     13.366337\n",
            "dtype: float64\n"
          ],
          "name": "stdout"
        }
      ]
    },
    {
      "cell_type": "code",
      "metadata": {
        "id": "MR1S95tWM5ns",
        "colab_type": "code",
        "colab": {}
      },
      "source": [
        "# create merged df with cd3 and manifests\n",
        "df = pd.merge(cd3, merged, how = 'left', on=['PATNUM', 'VISIT'])"
      ],
      "execution_count": 0,
      "outputs": []
    },
    {
      "cell_type": "code",
      "metadata": {
        "id": "tNfKYYVRsznL",
        "colab_type": "code",
        "outputId": "a1fa2c53-5bf1-4886-cf1e-624c2c2f415f",
        "colab": {
          "base_uri": "https://localhost:8080/",
          "height": 425
        }
      },
      "source": [
        "df.loc[df['counts'].idxmax()]"
      ],
      "execution_count": 164,
      "outputs": [
        {
          "output_type": "execute_result",
          "data": {
            "text/plain": [
              "PATNUM                               44212\n",
              "VISIT                                 DM28\n",
              "Sample.ID                       6208477593\n",
              "Sample.Date                      11FEB2019\n",
              "Type.of.Cells                    Bulk PBMC\n",
              "Stimulus.in.Readout                  a-CD3\n",
              "counts                                1200\n",
              "MNFTPT                                 NaN\n",
              "MNFALID                                  1\n",
              "MNFCNTRY                            Sweden\n",
              "MNFSITE                             306876\n",
              "MNFSPRDT                    20190211 10:39\n",
              "MNFBIOM                               PBMC\n",
              "MNFTUBEN                            PBMC-I\n",
              "MNF01                  2019-02-11 11:30:00\n",
              "MNFREFID                        6208477593\n",
              "MNF06                                 99.5\n",
              "MNF14                                 21.5\n",
              "MNF15                                 24.1\n",
              "MNF16                                  NaN\n",
              "MNF17                                 22.9\n",
              "Collection             2019-02-11 09:20:00\n",
              "TAT                                2.16667\n",
              "Name: 0, dtype: object"
            ]
          },
          "metadata": {
            "tags": []
          },
          "execution_count": 164
        }
      ]
    },
    {
      "cell_type": "code",
      "metadata": {
        "id": "dpzZnoHGM2kG",
        "colab_type": "code",
        "outputId": "6d0324ef-83f5-49bd-ac22-089bd8e3fbd9",
        "colab": {
          "base_uri": "https://localhost:8080/",
          "height": 34
        }
      },
      "source": [
        "len(df.PATNUM.unique())"
      ],
      "execution_count": 165,
      "outputs": [
        {
          "output_type": "execute_result",
          "data": {
            "text/plain": [
              "34"
            ]
          },
          "metadata": {
            "tags": []
          },
          "execution_count": 165
        }
      ]
    },
    {
      "cell_type": "code",
      "metadata": {
        "id": "gB8yXxkrMPkv",
        "colab_type": "code",
        "outputId": "445a09c8-9b15-46fc-d62e-dd32e9d9e466",
        "colab": {
          "base_uri": "https://localhost:8080/",
          "height": 102
        }
      },
      "source": [
        "df.columns, df.shape"
      ],
      "execution_count": 166,
      "outputs": [
        {
          "output_type": "execute_result",
          "data": {
            "text/plain": [
              "(Index(['PATNUM', 'VISIT', 'Sample.ID', 'Sample.Date', 'Type.of.Cells',\n",
              "        'Stimulus.in.Readout', 'counts', 'MNFTPT', 'MNFALID', 'MNFCNTRY',\n",
              "        'MNFSITE', 'MNFSPRDT', 'MNFBIOM', 'MNFTUBEN', 'MNF01', 'MNFREFID',\n",
              "        'MNF06', 'MNF14', 'MNF15', 'MNF16', 'MNF17', 'Collection', 'TAT'],\n",
              "       dtype='object'), (404, 23))"
            ]
          },
          "metadata": {
            "tags": []
          },
          "execution_count": 166
        }
      ]
    },
    {
      "cell_type": "code",
      "metadata": {
        "id": "XByYnIretSYb",
        "colab_type": "code",
        "outputId": "c6bd98c3-78ff-4796-96b3-498c2272df16",
        "colab": {
          "base_uri": "https://localhost:8080/",
          "height": 425
        }
      },
      "source": [
        "df.isnull().sum()"
      ],
      "execution_count": 167,
      "outputs": [
        {
          "output_type": "execute_result",
          "data": {
            "text/plain": [
              "PATNUM                   0\n",
              "VISIT                    0\n",
              "Sample.ID                0\n",
              "Sample.Date              0\n",
              "Type.of.Cells            0\n",
              "Stimulus.in.Readout      0\n",
              "counts                   0\n",
              "MNFTPT                 404\n",
              "MNFALID                 54\n",
              "MNFCNTRY                54\n",
              "MNFSITE                 54\n",
              "MNFSPRDT                80\n",
              "MNFBIOM                 54\n",
              "MNFTUBEN                54\n",
              "MNF01                   54\n",
              "MNFREFID                54\n",
              "MNF06                   54\n",
              "MNF14                  200\n",
              "MNF15                  200\n",
              "MNF16                  372\n",
              "MNF17                  268\n",
              "Collection              54\n",
              "TAT                     54\n",
              "dtype: int64"
            ]
          },
          "metadata": {
            "tags": []
          },
          "execution_count": 167
        }
      ]
    },
    {
      "cell_type": "markdown",
      "metadata": {
        "id": "sg3H0nIpXAFR",
        "colab_type": "text"
      },
      "source": [
        "# Binarize Mean Spot Counts into above/below 500"
      ]
    },
    {
      "cell_type": "code",
      "metadata": {
        "id": "mJLpH5McWrT2",
        "colab_type": "code",
        "colab": {}
      },
      "source": [
        "df['binned'] = np.digitize(df.counts,[500])"
      ],
      "execution_count": 0,
      "outputs": []
    },
    {
      "cell_type": "code",
      "metadata": {
        "id": "7qfpX4wVPkTi",
        "colab_type": "code",
        "outputId": "95f1e9ff-af76-42fc-920d-2fd7b4ccc7a5",
        "colab": {
          "base_uri": "https://localhost:8080/",
          "height": 442
        }
      },
      "source": [
        "df.dtypes"
      ],
      "execution_count": 169,
      "outputs": [
        {
          "output_type": "execute_result",
          "data": {
            "text/plain": [
              "PATNUM                          int64\n",
              "VISIT                          object\n",
              "Sample.ID                      object\n",
              "Sample.Date                    object\n",
              "Type.of.Cells                  object\n",
              "Stimulus.in.Readout            object\n",
              "counts                        float64\n",
              "MNFTPT                        float64\n",
              "MNFALID                       float64\n",
              "MNFCNTRY                       object\n",
              "MNFSITE                       float64\n",
              "MNFSPRDT                       object\n",
              "MNFBIOM                        object\n",
              "MNFTUBEN                       object\n",
              "MNF01                  datetime64[ns]\n",
              "MNFREFID                       object\n",
              "MNF06                         float64\n",
              "MNF14                         float64\n",
              "MNF15                         float64\n",
              "MNF16                         float64\n",
              "MNF17                         float64\n",
              "Collection             datetime64[ns]\n",
              "TAT                           float64\n",
              "binned                          int64\n",
              "dtype: object"
            ]
          },
          "metadata": {
            "tags": []
          },
          "execution_count": 169
        }
      ]
    },
    {
      "cell_type": "code",
      "metadata": {
        "id": "_Oe77XXuOZFS",
        "colab_type": "code",
        "outputId": "feebdc10-2fe7-4379-e613-f1479a7536ed",
        "colab": {
          "base_uri": "https://localhost:8080/",
          "height": 68
        }
      },
      "source": [
        "# check degree of class imbalance\n",
        "df.binned.value_counts()"
      ],
      "execution_count": 170,
      "outputs": [
        {
          "output_type": "execute_result",
          "data": {
            "text/plain": [
              "1    381\n",
              "0     23\n",
              "Name: binned, dtype: int64"
            ]
          },
          "metadata": {
            "tags": []
          },
          "execution_count": 170
        }
      ]
    },
    {
      "cell_type": "code",
      "metadata": {
        "id": "nHTwTtA6uqlj",
        "colab_type": "code",
        "colab": {}
      },
      "source": [
        "# df[['binned']] = df[['binned']].fillna(value=1)"
      ],
      "execution_count": 0,
      "outputs": []
    },
    {
      "cell_type": "code",
      "metadata": {
        "colab_type": "code",
        "outputId": "c74ef96d-78d9-4cf9-d000-8be45ba6bbfc",
        "id": "cJOwaeP_u4dq",
        "colab": {
          "base_uri": "https://localhost:8080/",
          "height": 34
        }
      },
      "source": [
        "len(df[df[\"binned\"].isnull()])"
      ],
      "execution_count": 172,
      "outputs": [
        {
          "output_type": "execute_result",
          "data": {
            "text/plain": [
              "0"
            ]
          },
          "metadata": {
            "tags": []
          },
          "execution_count": 172
        }
      ]
    },
    {
      "cell_type": "code",
      "metadata": {
        "id": "n3T2dAakO_qC",
        "colab_type": "code",
        "colab": {}
      },
      "source": [
        "df_0 = pd.get_dummies(df, columns=[\"VISIT\"], prefix=['visit_'])"
      ],
      "execution_count": 0,
      "outputs": []
    },
    {
      "cell_type": "code",
      "metadata": {
        "id": "WEU23tZzQSwO",
        "colab_type": "code",
        "outputId": "e74af83f-5233-4dff-c056-a1f86e5dba25",
        "colab": {
          "base_uri": "https://localhost:8080/",
          "height": 680
        }
      },
      "source": [
        "df_0.dtypes"
      ],
      "execution_count": 174,
      "outputs": [
        {
          "output_type": "execute_result",
          "data": {
            "text/plain": [
              "PATNUM                          int64\n",
              "Sample.ID                      object\n",
              "Sample.Date                    object\n",
              "Type.of.Cells                  object\n",
              "Stimulus.in.Readout            object\n",
              "counts                        float64\n",
              "MNFTPT                        float64\n",
              "MNFALID                       float64\n",
              "MNFCNTRY                       object\n",
              "MNFSITE                       float64\n",
              "MNFSPRDT                       object\n",
              "MNFBIOM                        object\n",
              "MNFTUBEN                       object\n",
              "MNF01                  datetime64[ns]\n",
              "MNFREFID                       object\n",
              "MNF06                         float64\n",
              "MNF14                         float64\n",
              "MNF15                         float64\n",
              "MNF16                         float64\n",
              "MNF17                         float64\n",
              "Collection             datetime64[ns]\n",
              "TAT                           float64\n",
              "binned                          int64\n",
              "visit__C2D1                     uint8\n",
              "visit__C2d1                     uint8\n",
              "visit__C4D1                     uint8\n",
              "visit__C4d1                     uint8\n",
              "visit__C5d1                     uint8\n",
              "visit__C6D1                     uint8\n",
              "visit__C6d1                     uint8\n",
              "visit__C8D1                     uint8\n",
              "visit__DM14                     uint8\n",
              "visit__DM28                     uint8\n",
              "visit__DM28_DM14                uint8\n",
              "visit__EOTA                     uint8\n",
              "visit__EOTB                     uint8\n",
              "visit__EOTBII                   uint8\n",
              "visit__XOVER                    uint8\n",
              "dtype: object"
            ]
          },
          "metadata": {
            "tags": []
          },
          "execution_count": 174
        }
      ]
    },
    {
      "cell_type": "code",
      "metadata": {
        "id": "eLWN1Hxxr8n9",
        "colab_type": "code",
        "outputId": "6d9fef5d-f79b-4cf0-c485-20a70b6d9274",
        "colab": {
          "base_uri": "https://localhost:8080/",
          "height": 680
        }
      },
      "source": [
        "df_0.isnull().sum()"
      ],
      "execution_count": 175,
      "outputs": [
        {
          "output_type": "execute_result",
          "data": {
            "text/plain": [
              "PATNUM                   0\n",
              "Sample.ID                0\n",
              "Sample.Date              0\n",
              "Type.of.Cells            0\n",
              "Stimulus.in.Readout      0\n",
              "counts                   0\n",
              "MNFTPT                 404\n",
              "MNFALID                 54\n",
              "MNFCNTRY                54\n",
              "MNFSITE                 54\n",
              "MNFSPRDT                80\n",
              "MNFBIOM                 54\n",
              "MNFTUBEN                54\n",
              "MNF01                   54\n",
              "MNFREFID                54\n",
              "MNF06                   54\n",
              "MNF14                  200\n",
              "MNF15                  200\n",
              "MNF16                  372\n",
              "MNF17                  268\n",
              "Collection              54\n",
              "TAT                     54\n",
              "binned                   0\n",
              "visit__C2D1              0\n",
              "visit__C2d1              0\n",
              "visit__C4D1              0\n",
              "visit__C4d1              0\n",
              "visit__C5d1              0\n",
              "visit__C6D1              0\n",
              "visit__C6d1              0\n",
              "visit__C8D1              0\n",
              "visit__DM14              0\n",
              "visit__DM28              0\n",
              "visit__DM28_DM14         0\n",
              "visit__EOTA              0\n",
              "visit__EOTB              0\n",
              "visit__EOTBII            0\n",
              "visit__XOVER             0\n",
              "dtype: int64"
            ]
          },
          "metadata": {
            "tags": []
          },
          "execution_count": 175
        }
      ]
    },
    {
      "cell_type": "markdown",
      "metadata": {
        "id": "lX1dQVYz-Pe8",
        "colab_type": "text"
      },
      "source": [
        "# Create numeric dataframe with the binned y category"
      ]
    },
    {
      "cell_type": "code",
      "metadata": {
        "id": "H5y_puemQtqf",
        "colab_type": "code",
        "colab": {}
      },
      "source": [
        "df_num = df_0.select_dtypes(include=[np.number])"
      ],
      "execution_count": 0,
      "outputs": []
    },
    {
      "cell_type": "code",
      "metadata": {
        "id": "7i9imgI_rzRS",
        "colab_type": "code",
        "outputId": "fc91e647-7bc4-4ed1-9f3b-08443dcfa91f",
        "colab": {
          "base_uri": "https://localhost:8080/",
          "height": 493
        }
      },
      "source": [
        "df_num.dtypes"
      ],
      "execution_count": 177,
      "outputs": [
        {
          "output_type": "execute_result",
          "data": {
            "text/plain": [
              "PATNUM                int64\n",
              "counts              float64\n",
              "MNFTPT              float64\n",
              "MNFALID             float64\n",
              "MNFSITE             float64\n",
              "MNF06               float64\n",
              "MNF14               float64\n",
              "MNF15               float64\n",
              "MNF16               float64\n",
              "MNF17               float64\n",
              "TAT                 float64\n",
              "binned                int64\n",
              "visit__C2D1           uint8\n",
              "visit__C2d1           uint8\n",
              "visit__C4D1           uint8\n",
              "visit__C4d1           uint8\n",
              "visit__C5d1           uint8\n",
              "visit__C6D1           uint8\n",
              "visit__C6d1           uint8\n",
              "visit__C8D1           uint8\n",
              "visit__DM14           uint8\n",
              "visit__DM28           uint8\n",
              "visit__DM28_DM14      uint8\n",
              "visit__EOTA           uint8\n",
              "visit__EOTB           uint8\n",
              "visit__EOTBII         uint8\n",
              "visit__XOVER          uint8\n",
              "dtype: object"
            ]
          },
          "metadata": {
            "tags": []
          },
          "execution_count": 177
        }
      ]
    },
    {
      "cell_type": "code",
      "metadata": {
        "id": "_6rcGMECsC2T",
        "colab_type": "code",
        "outputId": "729aa58c-0ce4-4e0a-c212-ae973b500dd1",
        "colab": {
          "base_uri": "https://localhost:8080/",
          "height": 34
        }
      },
      "source": [
        "df_num.shape"
      ],
      "execution_count": 178,
      "outputs": [
        {
          "output_type": "execute_result",
          "data": {
            "text/plain": [
              "(404, 27)"
            ]
          },
          "metadata": {
            "tags": []
          },
          "execution_count": 178
        }
      ]
    },
    {
      "cell_type": "code",
      "metadata": {
        "id": "uWGzL0QxwQOc",
        "colab_type": "code",
        "outputId": "55e96f2a-266c-4980-ab8f-c4edf9dd0ac8",
        "colab": {
          "base_uri": "https://localhost:8080/",
          "height": 54
        }
      },
      "source": [
        "\n",
        "visit_cols = [col for col in df_num if 'visit' in col]\n",
        "print(visit_cols)"
      ],
      "execution_count": 179,
      "outputs": [
        {
          "output_type": "stream",
          "text": [
            "['visit__C2D1', 'visit__C2d1', 'visit__C4D1', 'visit__C4d1', 'visit__C5d1', 'visit__C6D1', 'visit__C6d1', 'visit__C8D1', 'visit__DM14', 'visit__DM28', 'visit__DM28_DM14', 'visit__EOTA', 'visit__EOTB', 'visit__EOTBII', 'visit__XOVER']\n"
          ],
          "name": "stdout"
        }
      ]
    },
    {
      "cell_type": "code",
      "metadata": {
        "id": "wgvZaIR03ikB",
        "colab_type": "code",
        "outputId": "a91d8ffd-aeb9-412f-c7e4-98f4ebfb181b",
        "colab": {
          "base_uri": "https://localhost:8080/",
          "height": 54
        }
      },
      "source": [
        "print(['PATNUM', 'MNF14', 'MNF15', 'MNF17', 'TAT', 'binned'] + [col for col in df_num if col in visit_cols])"
      ],
      "execution_count": 180,
      "outputs": [
        {
          "output_type": "stream",
          "text": [
            "['PATNUM', 'MNF14', 'MNF15', 'MNF17', 'TAT', 'binned', 'visit__C2D1', 'visit__C2d1', 'visit__C4D1', 'visit__C4d1', 'visit__C5d1', 'visit__C6D1', 'visit__C6d1', 'visit__C8D1', 'visit__DM14', 'visit__DM28', 'visit__DM28_DM14', 'visit__EOTA', 'visit__EOTB', 'visit__EOTBII', 'visit__XOVER']\n"
          ],
          "name": "stdout"
        }
      ]
    },
    {
      "cell_type": "code",
      "metadata": {
        "id": "BIcIt7AaZmUk",
        "colab_type": "code",
        "colab": {}
      },
      "source": [
        "df_num.drop(columns = visit_cols, inplace=True)"
      ],
      "execution_count": 0,
      "outputs": []
    },
    {
      "cell_type": "code",
      "metadata": {
        "id": "XLuR6SYh32yA",
        "colab_type": "code",
        "colab": {}
      },
      "source": [
        "df_num_cols = ['PATNUM', 'MNF06', 'MNF14', 'MNF15', 'MNF17', 'TAT', 'binned'] + [col for col in df_num if col in visit_cols]"
      ],
      "execution_count": 0,
      "outputs": []
    },
    {
      "cell_type": "code",
      "metadata": {
        "id": "69QB11SbToeP",
        "colab_type": "code",
        "colab": {}
      },
      "source": [
        "to_drop = ['MNFTPT', 'MNFSITE', 'MNF16', 'MNF17']\n",
        "df_num = df_num.drop(to_drop, axis =1)"
      ],
      "execution_count": 0,
      "outputs": []
    },
    {
      "cell_type": "markdown",
      "metadata": {
        "id": "E4OTacoC_ePN",
        "colab_type": "text"
      },
      "source": [
        "# Drop duplicates"
      ]
    },
    {
      "cell_type": "code",
      "metadata": {
        "id": "-Ij95ZKM_HSm",
        "colab_type": "code",
        "colab": {}
      },
      "source": [
        "# df_num.drop_duplicates(inplace=True)"
      ],
      "execution_count": 0,
      "outputs": []
    },
    {
      "cell_type": "code",
      "metadata": {
        "id": "FVoL29JGPlWP",
        "colab_type": "code",
        "outputId": "a2b7899d-7791-46d3-828c-ef9bd60ebb70",
        "colab": {
          "base_uri": "https://localhost:8080/",
          "height": 204
        }
      },
      "source": [
        "df_num.head()"
      ],
      "execution_count": 185,
      "outputs": [
        {
          "output_type": "execute_result",
          "data": {
            "text/html": [
              "<div>\n",
              "<style scoped>\n",
              "    .dataframe tbody tr th:only-of-type {\n",
              "        vertical-align: middle;\n",
              "    }\n",
              "\n",
              "    .dataframe tbody tr th {\n",
              "        vertical-align: top;\n",
              "    }\n",
              "\n",
              "    .dataframe thead th {\n",
              "        text-align: right;\n",
              "    }\n",
              "</style>\n",
              "<table border=\"1\" class=\"dataframe\">\n",
              "  <thead>\n",
              "    <tr style=\"text-align: right;\">\n",
              "      <th></th>\n",
              "      <th>PATNUM</th>\n",
              "      <th>counts</th>\n",
              "      <th>MNFALID</th>\n",
              "      <th>MNF06</th>\n",
              "      <th>MNF14</th>\n",
              "      <th>MNF15</th>\n",
              "      <th>TAT</th>\n",
              "      <th>binned</th>\n",
              "    </tr>\n",
              "  </thead>\n",
              "  <tbody>\n",
              "    <tr>\n",
              "      <th>0</th>\n",
              "      <td>44212</td>\n",
              "      <td>1200.0</td>\n",
              "      <td>1.0</td>\n",
              "      <td>99.5</td>\n",
              "      <td>21.5</td>\n",
              "      <td>24.1</td>\n",
              "      <td>2.166667</td>\n",
              "      <td>1</td>\n",
              "    </tr>\n",
              "    <tr>\n",
              "      <th>1</th>\n",
              "      <td>44212</td>\n",
              "      <td>1200.0</td>\n",
              "      <td>2.0</td>\n",
              "      <td>99.5</td>\n",
              "      <td>21.5</td>\n",
              "      <td>24.1</td>\n",
              "      <td>2.166667</td>\n",
              "      <td>1</td>\n",
              "    </tr>\n",
              "    <tr>\n",
              "      <th>2</th>\n",
              "      <td>44212</td>\n",
              "      <td>1200.0</td>\n",
              "      <td>3.0</td>\n",
              "      <td>99.5</td>\n",
              "      <td>21.5</td>\n",
              "      <td>24.1</td>\n",
              "      <td>2.166667</td>\n",
              "      <td>1</td>\n",
              "    </tr>\n",
              "    <tr>\n",
              "      <th>3</th>\n",
              "      <td>44212</td>\n",
              "      <td>1200.0</td>\n",
              "      <td>4.0</td>\n",
              "      <td>99.5</td>\n",
              "      <td>21.5</td>\n",
              "      <td>24.1</td>\n",
              "      <td>2.166667</td>\n",
              "      <td>1</td>\n",
              "    </tr>\n",
              "    <tr>\n",
              "      <th>4</th>\n",
              "      <td>44212</td>\n",
              "      <td>1200.0</td>\n",
              "      <td>5.0</td>\n",
              "      <td>99.5</td>\n",
              "      <td>21.5</td>\n",
              "      <td>24.1</td>\n",
              "      <td>2.166667</td>\n",
              "      <td>1</td>\n",
              "    </tr>\n",
              "  </tbody>\n",
              "</table>\n",
              "</div>"
            ],
            "text/plain": [
              "   PATNUM  counts  MNFALID  MNF06  MNF14  MNF15       TAT  binned\n",
              "0   44212  1200.0      1.0   99.5   21.5   24.1  2.166667       1\n",
              "1   44212  1200.0      2.0   99.5   21.5   24.1  2.166667       1\n",
              "2   44212  1200.0      3.0   99.5   21.5   24.1  2.166667       1\n",
              "3   44212  1200.0      4.0   99.5   21.5   24.1  2.166667       1\n",
              "4   44212  1200.0      5.0   99.5   21.5   24.1  2.166667       1"
            ]
          },
          "metadata": {
            "tags": []
          },
          "execution_count": 185
        }
      ]
    },
    {
      "cell_type": "markdown",
      "metadata": {
        "id": "x_e3yHkWH6_x",
        "colab_type": "text"
      },
      "source": [
        "# Rename columns"
      ]
    },
    {
      "cell_type": "code",
      "metadata": {
        "id": "cje7QrS1HefZ",
        "colab_type": "code",
        "colab": {}
      },
      "source": [
        "df_num.rename(columns = {'MNF06': 'viability','MNF14': 'min_temp', 'MNF15': 'max_temp'}, inplace =True)"
      ],
      "execution_count": 0,
      "outputs": []
    },
    {
      "cell_type": "code",
      "metadata": {
        "id": "ADzNukdiuRCZ",
        "colab_type": "code",
        "outputId": "7c79bd2a-6b28-4803-d933-7205515168f4",
        "colab": {
          "base_uri": "https://localhost:8080/",
          "height": 68
        }
      },
      "source": [
        "df_num.columns"
      ],
      "execution_count": 187,
      "outputs": [
        {
          "output_type": "execute_result",
          "data": {
            "text/plain": [
              "Index(['PATNUM', 'counts', 'MNFALID', 'viability', 'min_temp', 'max_temp',\n",
              "       'TAT', 'binned'],\n",
              "      dtype='object')"
            ]
          },
          "metadata": {
            "tags": []
          },
          "execution_count": 187
        }
      ]
    },
    {
      "cell_type": "code",
      "metadata": {
        "id": "ellVS69NN4ZK",
        "colab_type": "code",
        "colab": {}
      },
      "source": [
        "# move binned to end of DF\n",
        "cols_at_end = ['binned']\n",
        "df_num = df_num[[c for c in df_num if c not in cols_at_end] \n",
        "        + [c for c in cols_at_end if c in df_num]]"
      ],
      "execution_count": 0,
      "outputs": []
    },
    {
      "cell_type": "code",
      "metadata": {
        "id": "zaMP-RiyOcaB",
        "colab_type": "code",
        "colab": {}
      },
      "source": [
        "# move counts to end of DF\n",
        "cols_at_end = ['counts']\n",
        "df_num = df_num[[c for c in df_num if c not in cols_at_end] \n",
        "        + [c for c in cols_at_end if c in df_num]]"
      ],
      "execution_count": 0,
      "outputs": []
    },
    {
      "cell_type": "code",
      "metadata": {
        "id": "WANW5vfgOiOP",
        "colab_type": "code",
        "colab": {}
      },
      "source": [
        "data1 = df_num.iloc[:, 2:6]\n",
        "data2 = df_num[['counts']]"
      ],
      "execution_count": 0,
      "outputs": []
    },
    {
      "cell_type": "code",
      "metadata": {
        "id": "xHCq-esjQQEo",
        "colab_type": "code",
        "outputId": "a3f62760-18c5-4865-c8df-e29618f29b1c",
        "colab": {
          "base_uri": "https://localhost:8080/",
          "height": 419
        }
      },
      "source": [
        "data2"
      ],
      "execution_count": 191,
      "outputs": [
        {
          "output_type": "execute_result",
          "data": {
            "text/html": [
              "<div>\n",
              "<style scoped>\n",
              "    .dataframe tbody tr th:only-of-type {\n",
              "        vertical-align: middle;\n",
              "    }\n",
              "\n",
              "    .dataframe tbody tr th {\n",
              "        vertical-align: top;\n",
              "    }\n",
              "\n",
              "    .dataframe thead th {\n",
              "        text-align: right;\n",
              "    }\n",
              "</style>\n",
              "<table border=\"1\" class=\"dataframe\">\n",
              "  <thead>\n",
              "    <tr style=\"text-align: right;\">\n",
              "      <th></th>\n",
              "      <th>counts</th>\n",
              "    </tr>\n",
              "  </thead>\n",
              "  <tbody>\n",
              "    <tr>\n",
              "      <th>0</th>\n",
              "      <td>1200.0</td>\n",
              "    </tr>\n",
              "    <tr>\n",
              "      <th>1</th>\n",
              "      <td>1200.0</td>\n",
              "    </tr>\n",
              "    <tr>\n",
              "      <th>2</th>\n",
              "      <td>1200.0</td>\n",
              "    </tr>\n",
              "    <tr>\n",
              "      <th>3</th>\n",
              "      <td>1200.0</td>\n",
              "    </tr>\n",
              "    <tr>\n",
              "      <th>4</th>\n",
              "      <td>1200.0</td>\n",
              "    </tr>\n",
              "    <tr>\n",
              "      <th>...</th>\n",
              "      <td>...</td>\n",
              "    </tr>\n",
              "    <tr>\n",
              "      <th>399</th>\n",
              "      <td>1200.0</td>\n",
              "    </tr>\n",
              "    <tr>\n",
              "      <th>400</th>\n",
              "      <td>1200.0</td>\n",
              "    </tr>\n",
              "    <tr>\n",
              "      <th>401</th>\n",
              "      <td>1200.0</td>\n",
              "    </tr>\n",
              "    <tr>\n",
              "      <th>402</th>\n",
              "      <td>1200.0</td>\n",
              "    </tr>\n",
              "    <tr>\n",
              "      <th>403</th>\n",
              "      <td>1200.0</td>\n",
              "    </tr>\n",
              "  </tbody>\n",
              "</table>\n",
              "<p>404 rows × 1 columns</p>\n",
              "</div>"
            ],
            "text/plain": [
              "     counts\n",
              "0    1200.0\n",
              "1    1200.0\n",
              "2    1200.0\n",
              "3    1200.0\n",
              "4    1200.0\n",
              "..      ...\n",
              "399  1200.0\n",
              "400  1200.0\n",
              "401  1200.0\n",
              "402  1200.0\n",
              "403  1200.0\n",
              "\n",
              "[404 rows x 1 columns]"
            ]
          },
          "metadata": {
            "tags": []
          },
          "execution_count": 191
        }
      ]
    },
    {
      "cell_type": "markdown",
      "metadata": {
        "id": "N5foNoCdxqfc",
        "colab_type": "text"
      },
      "source": [
        "# EDA before analysis"
      ]
    },
    {
      "cell_type": "code",
      "metadata": {
        "id": "r88XVGCGQypC",
        "colab_type": "code",
        "colab": {}
      },
      "source": [
        "# calculate the spearman correlation matrix (non-parametric measure of correlation)\n",
        "corr = df_num.corr(method='spearman')"
      ],
      "execution_count": 0,
      "outputs": []
    },
    {
      "cell_type": "code",
      "metadata": {
        "id": "Qq9Z7oU7SA4z",
        "colab_type": "code",
        "outputId": "8965bde2-7bd8-4ff8-8b43-ee1c55e256c4",
        "colab": {
          "base_uri": "https://localhost:8080/",
          "height": 329
        }
      },
      "source": [
        "# plot the heatmap\n",
        "sns.heatmap(corr, annot= True,\n",
        "        xticklabels=corr.columns,\n",
        "        yticklabels=corr.columns)"
      ],
      "execution_count": 193,
      "outputs": [
        {
          "output_type": "execute_result",
          "data": {
            "text/plain": [
              "<matplotlib.axes._subplots.AxesSubplot at 0x7f0b4f373d30>"
            ]
          },
          "metadata": {
            "tags": []
          },
          "execution_count": 193
        },
        {
          "output_type": "display_data",
          "data": {
            "image/png": "[encoded data removed]",
            "text/plain": [
              "<Figure size 432x288 with 2 Axes>"
            ]
          },
          "metadata": {
            "tags": [],
            "needs_background": "light"
          }
        }
      ]
    },
    {
      "cell_type": "code",
      "metadata": {
        "id": "xMvreqw9xk8f",
        "colab_type": "code",
        "outputId": "db5023eb-1e29-4b68-b00e-f180d6ed823a",
        "colab": {
          "base_uri": "https://localhost:8080/",
          "height": 133
        }
      },
      "source": [
        "# box and whisker plots\n",
        "df_num.plot(kind='box', subplots=True, layout=(5,5), sharex=False, sharey=False)\n",
        "pyplot.show()"
      ],
      "execution_count": 194,
      "outputs": [
        {
          "output_type": "display_data",
          "data": {
            "image/png": "[encoded data removed]",
            "text/plain": [
              "<Figure size 432x288 with 25 Axes>"
            ]
          },
          "metadata": {
            "tags": [],
            "needs_background": "light"
          }
        }
      ]
    },
    {
      "cell_type": "code",
      "metadata": {
        "id": "IvYt_0_71MPQ",
        "colab_type": "code",
        "outputId": "c63056c1-0a15-442b-f46c-013361f55678",
        "colab": {
          "base_uri": "https://localhost:8080/",
          "height": 181
        }
      },
      "source": [
        "df_num['counts'].plot(kind='box', subplots=True, layout=(2,2), sharex=False, sharey=False)\n"
      ],
      "execution_count": 195,
      "outputs": [
        {
          "output_type": "execute_result",
          "data": {
            "text/plain": [
              "counts    AxesSubplot(0.125,0.536818;0.352273x0.343182)\n",
              "dtype: object"
            ]
          },
          "metadata": {
            "tags": []
          },
          "execution_count": 195
        },
        {
          "output_type": "display_data",
          "data": {
            "image/png": "[encoded data removed]",
            "text/plain": [
              "<Figure size 432x288 with 4 Axes>"
            ]
          },
          "metadata": {
            "tags": [],
            "needs_background": "light"
          }
        }
      ]
    },
    {
      "cell_type": "code",
      "metadata": {
        "id": "zKfywRRxIHso",
        "colab_type": "code",
        "outputId": "f6068085-2c7c-4dda-8c4c-358776a5b13e",
        "colab": {
          "base_uri": "https://localhost:8080/",
          "height": 182
        }
      },
      "source": [
        "df_num['min_temp'].plot(kind='box', subplots=True, layout=(2,2), sharex=False, sharey=False)\n"
      ],
      "execution_count": 196,
      "outputs": [
        {
          "output_type": "execute_result",
          "data": {
            "text/plain": [
              "min_temp    AxesSubplot(0.125,0.536818;0.352273x0.343182)\n",
              "dtype: object"
            ]
          },
          "metadata": {
            "tags": []
          },
          "execution_count": 196
        },
        {
          "output_type": "display_data",
          "data": {
            "image/png": "[encoded data removed]",
            "text/plain": [
              "<Figure size 432x288 with 4 Axes>"
            ]
          },
          "metadata": {
            "tags": [],
            "needs_background": "light"
          }
        }
      ]
    },
    {
      "cell_type": "code",
      "metadata": {
        "id": "RdUwk48ayKzg",
        "colab_type": "code",
        "colab": {}
      },
      "source": [
        "# # scatter plot matrix\n",
        "# scatter_matrix(df_num)\n",
        "# pyplot.show()"
      ],
      "execution_count": 0,
      "outputs": []
    },
    {
      "cell_type": "code",
      "metadata": {
        "id": "JThjuFUezF0s",
        "colab_type": "code",
        "outputId": "4272e81b-29eb-42cf-dbd0-c0a25a69793d",
        "colab": {
          "base_uri": "https://localhost:8080/",
          "height": 897
        }
      },
      "source": [
        "n_colors = 256 # Use 256 colors for the diverging color palette\n",
        "palette = sns.diverging_palette(20, 220, n=n_colors) # Create the palette\n",
        "color_min, color_max = [-1, 1] # Range of values that will be mapped to the palette, i.e. min and max possible correlation\n",
        "\n",
        "def value_to_color(val):\n",
        "    val_position = float((val - color_min)) / (color_max - color_min) # position of value in the input range, relative to the length of the input range\n",
        "    ind = int(val_position * (n_colors - 1)) # target index in the color palette\n",
        "    return palette[ind]\n",
        "\n",
        "    ax.scatter(\n",
        "    x=x.map(x_to_num),\n",
        "    y=y.map(y_to_num),\n",
        "    s=size * size_scale,\n",
        "    c=color.apply(value_to_color), # Vector of square color values, mapped to color palette\n",
        "    marker='s'\n",
        ")\n",
        "\n",
        "\n",
        "pyplot.subplots(figsize=(20,15))\n",
        "colormap = sns.diverging_palette(220, 10, as_cmap=True)\n",
        "fig = sns.heatmap(df_num.corr()[df_num.corr() >= 0.2], annot = True, fmt='.1g', vmin=-1, vmax=1, center= 0, \n",
        "cmap= colormap, linewidths=3, linecolor='black', cbar=False, square=True)\n",
        "pyplot.title(\"Correlation Heatmap\")"
      ],
      "execution_count": 198,
      "outputs": [
        {
          "output_type": "execute_result",
          "data": {
            "text/plain": [
              "Text(0.5, 1.0, 'Correlation Heatmap')"
            ]
          },
          "metadata": {
            "tags": []
          },
          "execution_count": 198
        },
        {
          "output_type": "display_data",
          "data": {
            "image/png": "[encoded data removed]",
            "text/plain": [
              "<Figure size 1440x1080 with 1 Axes>"
            ]
          },
          "metadata": {
            "tags": [],
            "needs_background": "light"
          }
        }
      ]
    },
    {
      "cell_type": "code",
      "metadata": {
        "id": "mfsyopJlyBm2",
        "colab_type": "code",
        "outputId": "23c81c86-19f3-43fe-eb1d-ccf0fb531a7d",
        "colab": {
          "base_uri": "https://localhost:8080/",
          "height": 281
        }
      },
      "source": [
        "# histograms\n",
        "df_num.hist()\n",
        "pyplot.show()"
      ],
      "execution_count": 199,
      "outputs": [
        {
          "output_type": "display_data",
          "data": {
            "image/png": "[encoded data removed]",
            "text/plain": [
              "<Figure size 432x288 with 9 Axes>"
            ]
          },
          "metadata": {
            "tags": [],
            "needs_background": "light"
          }
        }
      ]
    },
    {
      "cell_type": "markdown",
      "metadata": {
        "id": "vtikTA3cxRT-",
        "colab_type": "text"
      },
      "source": [
        "Use the kernel density estimation to visualize a bivariate distribution. "
      ]
    },
    {
      "cell_type": "code",
      "metadata": {
        "id": "3dbgu8JfHVWv",
        "colab_type": "code",
        "outputId": "9d659c5b-529b-4661-87ec-569a326806b3",
        "colab": {
          "base_uri": "https://localhost:8080/",
          "height": 441
        }
      },
      "source": [
        "sns.jointplot(x=\"TAT\", y=\"counts\", data=df, kind=\"kde\");\n",
        "  "
      ],
      "execution_count": 200,
      "outputs": [
        {
          "output_type": "display_data",
          "data": {
            "image/png": "[encoded data removed]",
            "text/plain": [
              "<Figure size 432x432 with 3 Axes>"
            ]
          },
          "metadata": {
            "tags": [],
            "needs_background": "light"
          }
        }
      ]
    },
    {
      "cell_type": "code",
      "metadata": {
        "id": "qM8fFV-QsKfR",
        "colab_type": "code",
        "outputId": "0c43cebd-b608-436f-88dc-a42a6a9d1bd9",
        "colab": {
          "base_uri": "https://localhost:8080/",
          "height": 441
        }
      },
      "source": [
        "sns.jointplot(x=\"TAT\", y=\"min_temp\", data=df_num, kind=\"kde\");\n"
      ],
      "execution_count": 201,
      "outputs": [
        {
          "output_type": "display_data",
          "data": {
            "image/png": "[encoded data removed]",
            "text/plain": [
              "<Figure size 432x432 with 3 Axes>"
            ]
          },
          "metadata": {
            "tags": [],
            "needs_background": "light"
          }
        }
      ]
    },
    {
      "cell_type": "code",
      "metadata": {
        "id": "nlxvdkz6u4eT",
        "colab_type": "code",
        "outputId": "377d881f-50c0-4f94-fbbe-6523162a97ad",
        "colab": {
          "base_uri": "https://localhost:8080/",
          "height": 441
        }
      },
      "source": [
        "sns.jointplot(x=\"TAT\", y=\"max_temp\", data=df_num, kind=\"kde\");\n"
      ],
      "execution_count": 202,
      "outputs": [
        {
          "output_type": "display_data",
          "data": {
            "image/png": "[encoded data removed]",
            "text/plain": [
              "<Figure size 432x432 with 3 Axes>"
            ]
          },
          "metadata": {
            "tags": [],
            "needs_background": "light"
          }
        }
      ]
    },
    {
      "cell_type": "code",
      "metadata": {
        "id": "N5f8GbHvvGrp",
        "colab_type": "code",
        "outputId": "7a81ef27-bc20-4148-8066-aab9405b4415",
        "colab": {
          "base_uri": "https://localhost:8080/",
          "height": 441
        }
      },
      "source": [
        "sns.jointplot(x=\"TAT\", y=\"viability\", data=df_num, kind=\"kde\");\n"
      ],
      "execution_count": 203,
      "outputs": [
        {
          "output_type": "display_data",
          "data": {
            "image/png": "[encoded data removed]",
            "text/plain": [
              "<Figure size 432x432 with 3 Axes>"
            ]
          },
          "metadata": {
            "tags": [],
            "needs_background": "light"
          }
        }
      ]
    },
    {
      "cell_type": "code",
      "metadata": {
        "id": "2Sfe6eCcvw7X",
        "colab_type": "code",
        "outputId": "efbc1156-87bf-486f-a6c2-2fbc79e60c06",
        "colab": {
          "base_uri": "https://localhost:8080/",
          "height": 441
        }
      },
      "source": [
        "sns.jointplot(x=\"min_temp\", y=\"counts\", data=df_num, kind=\"kde\");\n"
      ],
      "execution_count": 204,
      "outputs": [
        {
          "output_type": "display_data",
          "data": {
            "image/png": "[encoded data removed]",
            "text/plain": [
              "<Figure size 432x432 with 3 Axes>"
            ]
          },
          "metadata": {
            "tags": [],
            "needs_background": "light"
          }
        }
      ]
    },
    {
      "cell_type": "code",
      "metadata": {
        "id": "AulXmZBkv_FK",
        "colab_type": "code",
        "outputId": "63e5402c-3945-4890-e2ea-7728575ed410",
        "colab": {
          "base_uri": "https://localhost:8080/",
          "height": 441
        }
      },
      "source": [
        "sns.jointplot(x=\"max_temp\", y=\"counts\", data=df_num, kind=\"kde\");\n"
      ],
      "execution_count": 205,
      "outputs": [
        {
          "output_type": "display_data",
          "data": {
            "image/png": "[encoded data removed]",
            "text/plain": [
              "<Figure size 432x432 with 3 Axes>"
            ]
          },
          "metadata": {
            "tags": [],
            "needs_background": "light"
          }
        }
      ]
    },
    {
      "cell_type": "code",
      "metadata": {
        "id": "P-Tiil8IwKDP",
        "colab_type": "code",
        "outputId": "e0b58d06-68ab-493f-981c-375355b11e1a",
        "colab": {
          "base_uri": "https://localhost:8080/",
          "height": 441
        }
      },
      "source": [
        "sns.jointplot(x=\"viability\", y=\"counts\", data=df_num, kind=\"kde\");\n"
      ],
      "execution_count": 206,
      "outputs": [
        {
          "output_type": "display_data",
          "data": {
            "image/png": "[encoded data removed]",
            "text/plain": [
              "<Figure size 432x432 with 3 Axes>"
            ]
          },
          "metadata": {
            "tags": [],
            "needs_background": "light"
          }
        }
      ]
    },
    {
      "cell_type": "code",
      "metadata": {
        "id": "WnjChAa4xn96",
        "colab_type": "code",
        "outputId": "004ed58c-f575-4cf7-9289-9874f26f5a14",
        "colab": {
          "base_uri": "https://localhost:8080/",
          "height": 838
        }
      },
      "source": [
        "sns.pairplot(df_num, hue=\"binned\");"
      ],
      "execution_count": 207,
      "outputs": [
        {
          "output_type": "display_data",
          "data": {
            "image/png": "[encoded data removed]",
            "text/plain": [
              "<Figure size 1302.38x1260 with 56 Axes>"
            ]
          },
          "metadata": {
            "tags": [],
            "needs_background": "light"
          }
        }
      ]
    },
    {
      "cell_type": "code",
      "metadata": {
        "id": "IKfpfvBhKjvj",
        "colab_type": "code",
        "colab": {}
      },
      "source": [
        "# g = sns.PairGrid(df_num)\n",
        "# g.map_diag(sns.kdeplot)\n",
        "# g.map_offdiag(sns.kdeplot, n_levels=6);"
      ],
      "execution_count": 0,
      "outputs": []
    },
    {
      "cell_type": "markdown",
      "metadata": {
        "id": "lkwvjhgdVZrF",
        "colab_type": "text"
      },
      "source": [
        "# Regression plots"
      ]
    },
    {
      "cell_type": "code",
      "metadata": {
        "id": "wzji_ErRVdSk",
        "colab_type": "code",
        "colab": {}
      },
      "source": [
        "from statsmodels.compat import lzip\n",
        "import numpy as np\n",
        "import matplotlib.pyplot as plt\n",
        "import statsmodels.api as sm\n",
        "from statsmodels.formula.api import ols\n",
        "from statsmodels.graphics.factorplots import interaction_plot"
      ],
      "execution_count": 0,
      "outputs": []
    },
    {
      "cell_type": "code",
      "metadata": {
        "id": "x8n7SAqQz_0p",
        "colab_type": "code",
        "outputId": "afcdd70a-59c2-4ad3-e93f-03f542a06bf3",
        "colab": {
          "base_uri": "https://localhost:8080/",
          "height": 279
        }
      },
      "source": [
        "ax=sns.regplot(x=\"viability\", y=\"counts\", data=df_num, lowess=True, ci=95,x_bins=5)\n",
        "pyplot.show()"
      ],
      "execution_count": 210,
      "outputs": [
        {
          "output_type": "display_data",
          "data": {
            "image/png": "[encoded data removed]",
            "text/plain": [
              "<Figure size 432x288 with 1 Axes>"
            ]
          },
          "metadata": {
            "tags": [],
            "needs_background": "light"
          }
        }
      ]
    },
    {
      "cell_type": "code",
      "metadata": {
        "id": "SWD6EJ1L0mgk",
        "colab_type": "code",
        "outputId": "afbeb20d-077d-422d-8b0c-7bdab7044a85",
        "colab": {
          "base_uri": "https://localhost:8080/",
          "height": 279
        }
      },
      "source": [
        "ax=sns.regplot(x=\"TAT\", y=\"counts\", data=df_num, lowess=True, ci=95,x_bins=5)\n",
        "pyplot.show()"
      ],
      "execution_count": 211,
      "outputs": [
        {
          "output_type": "display_data",
          "data": {
            "image/png": "[encoded data removed]",
            "text/plain": [
              "<Figure size 432x288 with 1 Axes>"
            ]
          },
          "metadata": {
            "tags": [],
            "needs_background": "light"
          }
        }
      ]
    },
    {
      "cell_type": "code",
      "metadata": {
        "id": "e_oUac4d0qKv",
        "colab_type": "code",
        "outputId": "1017399a-76f3-498c-d991-4ece7eedecd7",
        "colab": {
          "base_uri": "https://localhost:8080/",
          "height": 280
        }
      },
      "source": [
        "ax=sns.regplot(x=\"min_temp\", y=\"counts\", data=df_num, lowess=True, ci=95,x_bins=5)\n",
        "pyplot.show()"
      ],
      "execution_count": 212,
      "outputs": [
        {
          "output_type": "display_data",
          "data": {
            "image/png": "[encoded data removed]",
            "text/plain": [
              "<Figure size 432x288 with 1 Axes>"
            ]
          },
          "metadata": {
            "tags": [],
            "needs_background": "light"
          }
        }
      ]
    },
    {
      "cell_type": "code",
      "metadata": {
        "id": "LPXHgujI0vJ6",
        "colab_type": "code",
        "outputId": "fa93cb22-2063-4854-91ac-6d58741319a5",
        "colab": {
          "base_uri": "https://localhost:8080/",
          "height": 280
        }
      },
      "source": [
        "ax=sns.regplot(x=\"max_temp\", y=\"counts\", data=df_num, lowess=True, ci=95,x_bins=5)\n",
        "pyplot.show()"
      ],
      "execution_count": 213,
      "outputs": [
        {
          "output_type": "display_data",
          "data": {
            "image/png": "[encoded data removed]",
            "text/plain": [
              "<Figure size 432x288 with 1 Axes>"
            ]
          },
          "metadata": {
            "tags": [],
            "needs_background": "light"
          }
        }
      ]
    },
    {
      "cell_type": "markdown",
      "metadata": {
        "id": "3aeK9XTez1Ae",
        "colab_type": "text"
      },
      "source": [
        "# Drop columns: patient number, ALID, counts"
      ]
    },
    {
      "cell_type": "code",
      "metadata": {
        "id": "ucDjA825CTTr",
        "colab_type": "code",
        "colab": {}
      },
      "source": [
        "# drop aliquot id and counts\n",
        "df_num.drop(columns=['PATNUM', 'MNFALID', 'counts'], inplace=True)"
      ],
      "execution_count": 0,
      "outputs": []
    },
    {
      "cell_type": "code",
      "metadata": {
        "id": "OQ1jzl5xSlZJ",
        "colab_type": "code",
        "outputId": "f6b496e1-b26c-4aaa-cef2-2bb3cb1dca78",
        "colab": {
          "base_uri": "https://localhost:8080/",
          "height": 34
        }
      },
      "source": [
        "df_num.shape"
      ],
      "execution_count": 215,
      "outputs": [
        {
          "output_type": "execute_result",
          "data": {
            "text/plain": [
              "(404, 5)"
            ]
          },
          "metadata": {
            "tags": []
          },
          "execution_count": 215
        }
      ]
    },
    {
      "cell_type": "code",
      "metadata": {
        "id": "i6mwdxywEH17",
        "colab_type": "code",
        "outputId": "568c5a7e-1291-463d-b199-c6ba697f57d3",
        "colab": {
          "base_uri": "https://localhost:8080/",
          "height": 68
        }
      },
      "source": [
        "df_num.binned.value_counts()"
      ],
      "execution_count": 216,
      "outputs": [
        {
          "output_type": "execute_result",
          "data": {
            "text/plain": [
              "1    381\n",
              "0     23\n",
              "Name: binned, dtype: int64"
            ]
          },
          "metadata": {
            "tags": []
          },
          "execution_count": 216
        }
      ]
    },
    {
      "cell_type": "markdown",
      "metadata": {
        "id": "Jx5QtMJU7FCS",
        "colab_type": "text"
      },
      "source": [
        "# Inspect Missingness"
      ]
    },
    {
      "cell_type": "code",
      "metadata": {
        "id": "-FRhchWUR5YX",
        "colab_type": "code",
        "outputId": "aa6eb60d-74fd-47b3-f7d6-0a3e2575f2c4",
        "colab": {
          "base_uri": "https://localhost:8080/",
          "height": 119
        }
      },
      "source": [
        "df_num.isnull().mean() * 100"
      ],
      "execution_count": 217,
      "outputs": [
        {
          "output_type": "execute_result",
          "data": {
            "text/plain": [
              "viability    13.366337\n",
              "min_temp     49.504950\n",
              "max_temp     49.504950\n",
              "TAT          13.366337\n",
              "binned        0.000000\n",
              "dtype: float64"
            ]
          },
          "metadata": {
            "tags": []
          },
          "execution_count": 217
        }
      ]
    },
    {
      "cell_type": "code",
      "metadata": {
        "id": "FR552An0DBZb",
        "colab_type": "code",
        "colab": {}
      },
      "source": [
        "# From a Data Science perspective it is wrong to first replace NA and then split into train and test\n",
        "# You MUST first split into train and test, then replace NA by mean on train,\n",
        "#  and then apply this stateful preprocessing model to test,\n",
        "\n",
        "# from sklearn.preprocessing import Imputer\n",
        "# missingvalues = Imputer(missing_values = np.nan, strategy = 'mean', axis = 0)\n",
        "# missingvalues = missingvalues.fit(x[:,1:3])\n",
        "# x[:,1:3] = missingvalues.transform(x[:,1:3])"
      ],
      "execution_count": 0,
      "outputs": []
    },
    {
      "cell_type": "markdown",
      "metadata": {
        "id": "DtDRfFoMB2LU",
        "colab_type": "text"
      },
      "source": [
        "# Machine Learning"
      ]
    },
    {
      "cell_type": "code",
      "metadata": {
        "colab_type": "code",
        "outputId": "876f9633-81c6-462b-8fcd-0bf99571ea1c",
        "id": "IQ90Md-dCYyy",
        "colab": {
          "base_uri": "https://localhost:8080/",
          "height": 122
        }
      },
      "source": [
        "!pip install impyute"
      ],
      "execution_count": 219,
      "outputs": [
        {
          "output_type": "stream",
          "text": [
            "Requirement already satisfied: impyute in /usr/local/lib/python3.6/dist-packages (0.0.8)\n",
            "Requirement already satisfied: scipy in /usr/local/lib/python3.6/dist-packages (from impyute) (1.4.1)\n",
            "Requirement already satisfied: scikit-learn in /usr/local/lib/python3.6/dist-packages (from impyute) (0.22.2.post1)\n",
            "Requirement already satisfied: numpy in /usr/local/lib/python3.6/dist-packages (from impyute) (1.18.2)\n",
            "Requirement already satisfied: joblib>=0.11 in /usr/local/lib/python3.6/dist-packages (from scikit-learn->impyute) (0.14.1)\n"
          ],
          "name": "stdout"
        }
      ]
    },
    {
      "cell_type": "code",
      "metadata": {
        "id": "pT7Wx8IVB4PT",
        "colab_type": "code",
        "colab": {}
      },
      "source": [
        "# SMOTE for imbalanced dataset\n",
        "from collections import Counter\n",
        "from imblearn.over_sampling import SVMSMOTE\n",
        "from matplotlib import pyplot\n",
        "from numpy import where\n",
        "\n",
        "import seaborn as sns\n",
        "\n",
        "# grid search k value for SMOTE oversampling and undersampling for imbalanced classification\n",
        "from numpy import mean\n",
        "from numpy import std\n",
        "from sklearn import preprocessing\n",
        "from sklearn.model_selection import train_test_split\n",
        "from sklearn.model_selection import cross_val_score\n",
        "from sklearn.model_selection import RepeatedStratifiedKFold\n",
        "from imblearn.pipeline import Pipeline\n",
        "from imblearn.over_sampling import SMOTE\n",
        "from imblearn.over_sampling import BorderlineSMOTE\n",
        "from imblearn.under_sampling import RandomUnderSampler\n",
        "\n",
        "# models\n",
        "from sklearn.linear_model import LogisticRegression\n",
        "from sklearn.tree import DecisionTreeClassifier\n",
        "from sklearn.neighbors import KNeighborsClassifier\n",
        "from sklearn.tree import DecisionTreeClassifier\n",
        "from sklearn.svm import SVC\n",
        "from sklearn.naive_bayes import GaussianNB"
      ],
      "execution_count": 0,
      "outputs": []
    },
    {
      "cell_type": "code",
      "metadata": {
        "colab_type": "code",
        "id": "SseC12qIClKJ",
        "colab": {}
      },
      "source": [
        "# imputation module\n",
        "\n",
        "from impyute.imputation.cs import mice"
      ],
      "execution_count": 0,
      "outputs": []
    },
    {
      "cell_type": "code",
      "metadata": {
        "id": "YjMuYErHC5iT",
        "colab_type": "code",
        "outputId": "7a02ee68-4f5c-4095-fcee-841f46b7b6ca",
        "colab": {
          "base_uri": "https://localhost:8080/",
          "height": 34
        }
      },
      "source": [
        "# create df_num\n",
        "df_num.shape"
      ],
      "execution_count": 222,
      "outputs": [
        {
          "output_type": "execute_result",
          "data": {
            "text/plain": [
              "(404, 5)"
            ]
          },
          "metadata": {
            "tags": []
          },
          "execution_count": 222
        }
      ]
    },
    {
      "cell_type": "code",
      "metadata": {
        "id": "aeVjR30jTmcB",
        "colab_type": "code",
        "colab": {}
      },
      "source": [
        "X_df = df_num.iloc[:,0:4]"
      ],
      "execution_count": 0,
      "outputs": []
    },
    {
      "cell_type": "code",
      "metadata": {
        "id": "Y0oCBCdHaAUr",
        "colab_type": "code",
        "outputId": "0d11fc38-b8ca-49c3-f1fc-9b636db21625",
        "colab": {
          "base_uri": "https://localhost:8080/",
          "height": 34
        }
      },
      "source": [
        "X_df.columns"
      ],
      "execution_count": 224,
      "outputs": [
        {
          "output_type": "execute_result",
          "data": {
            "text/plain": [
              "Index(['viability', 'min_temp', 'max_temp', 'TAT'], dtype='object')"
            ]
          },
          "metadata": {
            "tags": []
          },
          "execution_count": 224
        }
      ]
    },
    {
      "cell_type": "markdown",
      "metadata": {
        "id": "ZevpZ4nvgwiN",
        "colab_type": "text"
      },
      "source": [
        "# Define X and Y"
      ]
    },
    {
      "cell_type": "code",
      "metadata": {
        "id": "ZVUA_n-WCYZi",
        "colab_type": "code",
        "colab": {}
      },
      "source": [
        "# define dataset\n",
        "values = df_num.values\n",
        "X = values[:,0:4]\n",
        "y = values[:,4]"
      ],
      "execution_count": 0,
      "outputs": []
    },
    {
      "cell_type": "markdown",
      "metadata": {
        "id": "31aZ4rMWhBHP",
        "colab_type": "text"
      },
      "source": [
        "# Split train and test sets\n",
        "\n",
        "(only impute after splitting, or else you touch the validation set, and there will be data leakage)"
      ]
    },
    {
      "cell_type": "code",
      "metadata": {
        "id": "0aVUagV5aGkn",
        "colab_type": "code",
        "colab": {}
      },
      "source": [
        "X_train, X_test, y_train, y_test = train_test_split(X, y, test_size=0.25, stratify=y, random_state=123, shuffle=True)"
      ],
      "execution_count": 0,
      "outputs": []
    },
    {
      "cell_type": "markdown",
      "metadata": {
        "id": "ho3pzdKdhRrH",
        "colab_type": "text"
      },
      "source": [
        "# Imputation methods\n",
        "\n",
        "on training data"
      ]
    },
    {
      "cell_type": "code",
      "metadata": {
        "id": "1x2m7IasEjtT",
        "colab_type": "code",
        "colab": {
          "base_uri": "https://localhost:8080/",
          "height": 307
        },
        "outputId": "70e01e25-cc93-47e7-ee7a-e4afb6ad150a"
      },
      "source": [
        "# mice-imputed X\n",
        "X_train = mice(X_train)"
      ],
      "execution_count": 233,
      "outputs": [
        {
          "output_type": "error",
          "ename": "BadInputError",
          "evalue": "ignored",
          "traceback": [
            "\u001b[0;31m---------------------------------------------------------------------------\u001b[0m",
            "\u001b[0;31mBadInputError\u001b[0m                             Traceback (most recent call last)",
            "\u001b[0;32m<ipython-input-233-db21f0f4fb81>\u001b[0m in \u001b[0;36m<module>\u001b[0;34m()\u001b[0m\n\u001b[0;32m----> 1\u001b[0;31m \u001b[0mX_train\u001b[0m \u001b[0;34m=\u001b[0m \u001b[0mmice\u001b[0m\u001b[0;34m(\u001b[0m\u001b[0mX_train\u001b[0m\u001b[0;34m)\u001b[0m\u001b[0;34m\u001b[0m\u001b[0;34m\u001b[0m\u001b[0m\n\u001b[0m",
            "\u001b[0;32m/usr/local/lib/python3.6/dist-packages/impyute/util/preprocess.py\u001b[0m in \u001b[0;36mwrapper\u001b[0;34m(*args, **kwargs)\u001b[0m\n\u001b[1;32m     53\u001b[0m             \u001b[0;32mreturn\u001b[0m \u001b[0mpd_DataFrame\u001b[0m\u001b[0;34m(\u001b[0m\u001b[0mfn\u001b[0m\u001b[0;34m(\u001b[0m\u001b[0;34m*\u001b[0m\u001b[0margs\u001b[0m\u001b[0;34m,\u001b[0m \u001b[0;34m**\u001b[0m\u001b[0mkwargs\u001b[0m\u001b[0;34m)\u001b[0m\u001b[0;34m)\u001b[0m\u001b[0;34m\u001b[0m\u001b[0;34m\u001b[0m\u001b[0m\n\u001b[1;32m     54\u001b[0m         \u001b[0;32melse\u001b[0m\u001b[0;34m:\u001b[0m\u001b[0;34m\u001b[0m\u001b[0;34m\u001b[0m\u001b[0m\n\u001b[0;32m---> 55\u001b[0;31m             \u001b[0;32mreturn\u001b[0m \u001b[0mfn\u001b[0m\u001b[0;34m(\u001b[0m\u001b[0;34m*\u001b[0m\u001b[0margs\u001b[0m\u001b[0;34m,\u001b[0m \u001b[0;34m**\u001b[0m\u001b[0mkwargs\u001b[0m\u001b[0;34m)\u001b[0m\u001b[0;34m\u001b[0m\u001b[0;34m\u001b[0m\u001b[0m\n\u001b[0m\u001b[1;32m     56\u001b[0m \u001b[0;34m\u001b[0m\u001b[0m\n\u001b[1;32m     57\u001b[0m     \u001b[0;32mreturn\u001b[0m \u001b[0mwrapper\u001b[0m\u001b[0;34m\u001b[0m\u001b[0;34m\u001b[0m\u001b[0m\n",
            "\u001b[0;32m/usr/local/lib/python3.6/dist-packages/impyute/util/checks.py\u001b[0m in \u001b[0;36mwrapper\u001b[0;34m(*args, **kwargs)\u001b[0m\n\u001b[1;32m     33\u001b[0m             \u001b[0;32mraise\u001b[0m \u001b[0mBadInputError\u001b[0m\u001b[0;34m(\u001b[0m\u001b[0;34m\"Data is not float.\"\u001b[0m\u001b[0;34m)\u001b[0m\u001b[0;34m\u001b[0m\u001b[0;34m\u001b[0m\u001b[0m\n\u001b[1;32m     34\u001b[0m         \u001b[0;32melif\u001b[0m \u001b[0;32mnot\u001b[0m \u001b[0m_nan_exists\u001b[0m\u001b[0;34m(\u001b[0m\u001b[0mdata\u001b[0m\u001b[0;34m)\u001b[0m\u001b[0;34m:\u001b[0m\u001b[0;34m\u001b[0m\u001b[0;34m\u001b[0m\u001b[0m\n\u001b[0;32m---> 35\u001b[0;31m             \u001b[0;32mraise\u001b[0m \u001b[0mBadInputError\u001b[0m\u001b[0;34m(\u001b[0m\u001b[0;34m\"No NaN's in given data\"\u001b[0m\u001b[0;34m)\u001b[0m\u001b[0;34m\u001b[0m\u001b[0;34m\u001b[0m\u001b[0m\n\u001b[0m\u001b[1;32m     36\u001b[0m         \u001b[0;32mreturn\u001b[0m \u001b[0mfn\u001b[0m\u001b[0;34m(\u001b[0m\u001b[0;34m*\u001b[0m\u001b[0margs\u001b[0m\u001b[0;34m,\u001b[0m \u001b[0;34m**\u001b[0m\u001b[0mkwargs\u001b[0m\u001b[0;34m)\u001b[0m\u001b[0;34m\u001b[0m\u001b[0;34m\u001b[0m\u001b[0m\n\u001b[1;32m     37\u001b[0m     \u001b[0;32mreturn\u001b[0m \u001b[0mwrapper\u001b[0m\u001b[0;34m\u001b[0m\u001b[0;34m\u001b[0m\u001b[0m\n",
            "\u001b[0;31mBadInputError\u001b[0m: No NaN's in given data"
          ]
        }
      ]
    },
    {
      "cell_type": "code",
      "metadata": {
        "id": "CNqoKK9hI1B7",
        "colab_type": "code",
        "colab": {
          "base_uri": "https://localhost:8080/",
          "height": 307
        },
        "outputId": "160761bc-8bd8-4a92-ce66-d13282c2a919"
      },
      "source": [
        "X_test = mice(X_test)"
      ],
      "execution_count": 234,
      "outputs": [
        {
          "output_type": "error",
          "ename": "BadInputError",
          "evalue": "ignored",
          "traceback": [
            "\u001b[0;31m---------------------------------------------------------------------------\u001b[0m",
            "\u001b[0;31mBadInputError\u001b[0m                             Traceback (most recent call last)",
            "\u001b[0;32m<ipython-input-234-532d5660312a>\u001b[0m in \u001b[0;36m<module>\u001b[0;34m()\u001b[0m\n\u001b[0;32m----> 1\u001b[0;31m \u001b[0mX_test\u001b[0m \u001b[0;34m=\u001b[0m \u001b[0mmice\u001b[0m\u001b[0;34m(\u001b[0m\u001b[0mX_test\u001b[0m\u001b[0;34m)\u001b[0m\u001b[0;34m\u001b[0m\u001b[0;34m\u001b[0m\u001b[0m\n\u001b[0m",
            "\u001b[0;32m/usr/local/lib/python3.6/dist-packages/impyute/util/preprocess.py\u001b[0m in \u001b[0;36mwrapper\u001b[0;34m(*args, **kwargs)\u001b[0m\n\u001b[1;32m     53\u001b[0m             \u001b[0;32mreturn\u001b[0m \u001b[0mpd_DataFrame\u001b[0m\u001b[0;34m(\u001b[0m\u001b[0mfn\u001b[0m\u001b[0;34m(\u001b[0m\u001b[0;34m*\u001b[0m\u001b[0margs\u001b[0m\u001b[0;34m,\u001b[0m \u001b[0;34m**\u001b[0m\u001b[0mkwargs\u001b[0m\u001b[0;34m)\u001b[0m\u001b[0;34m)\u001b[0m\u001b[0;34m\u001b[0m\u001b[0;34m\u001b[0m\u001b[0m\n\u001b[1;32m     54\u001b[0m         \u001b[0;32melse\u001b[0m\u001b[0;34m:\u001b[0m\u001b[0;34m\u001b[0m\u001b[0;34m\u001b[0m\u001b[0m\n\u001b[0;32m---> 55\u001b[0;31m             \u001b[0;32mreturn\u001b[0m \u001b[0mfn\u001b[0m\u001b[0;34m(\u001b[0m\u001b[0;34m*\u001b[0m\u001b[0margs\u001b[0m\u001b[0;34m,\u001b[0m \u001b[0;34m**\u001b[0m\u001b[0mkwargs\u001b[0m\u001b[0;34m)\u001b[0m\u001b[0;34m\u001b[0m\u001b[0;34m\u001b[0m\u001b[0m\n\u001b[0m\u001b[1;32m     56\u001b[0m \u001b[0;34m\u001b[0m\u001b[0m\n\u001b[1;32m     57\u001b[0m     \u001b[0;32mreturn\u001b[0m \u001b[0mwrapper\u001b[0m\u001b[0;34m\u001b[0m\u001b[0;34m\u001b[0m\u001b[0m\n",
            "\u001b[0;32m/usr/local/lib/python3.6/dist-packages/impyute/util/checks.py\u001b[0m in \u001b[0;36mwrapper\u001b[0;34m(*args, **kwargs)\u001b[0m\n\u001b[1;32m     33\u001b[0m             \u001b[0;32mraise\u001b[0m \u001b[0mBadInputError\u001b[0m\u001b[0;34m(\u001b[0m\u001b[0;34m\"Data is not float.\"\u001b[0m\u001b[0;34m)\u001b[0m\u001b[0;34m\u001b[0m\u001b[0;34m\u001b[0m\u001b[0m\n\u001b[1;32m     34\u001b[0m         \u001b[0;32melif\u001b[0m \u001b[0;32mnot\u001b[0m \u001b[0m_nan_exists\u001b[0m\u001b[0;34m(\u001b[0m\u001b[0mdata\u001b[0m\u001b[0;34m)\u001b[0m\u001b[0;34m:\u001b[0m\u001b[0;34m\u001b[0m\u001b[0;34m\u001b[0m\u001b[0m\n\u001b[0;32m---> 35\u001b[0;31m             \u001b[0;32mraise\u001b[0m \u001b[0mBadInputError\u001b[0m\u001b[0;34m(\u001b[0m\u001b[0;34m\"No NaN's in given data\"\u001b[0m\u001b[0;34m)\u001b[0m\u001b[0;34m\u001b[0m\u001b[0;34m\u001b[0m\u001b[0m\n\u001b[0m\u001b[1;32m     36\u001b[0m         \u001b[0;32mreturn\u001b[0m \u001b[0mfn\u001b[0m\u001b[0;34m(\u001b[0m\u001b[0;34m*\u001b[0m\u001b[0margs\u001b[0m\u001b[0;34m,\u001b[0m \u001b[0;34m**\u001b[0m\u001b[0mkwargs\u001b[0m\u001b[0;34m)\u001b[0m\u001b[0;34m\u001b[0m\u001b[0;34m\u001b[0m\u001b[0m\n\u001b[1;32m     37\u001b[0m     \u001b[0;32mreturn\u001b[0m \u001b[0mwrapper\u001b[0m\u001b[0;34m\u001b[0m\u001b[0;34m\u001b[0m\u001b[0m\n",
            "\u001b[0;31mBadInputError\u001b[0m: No NaN's in given data"
          ]
        }
      ]
    },
    {
      "cell_type": "code",
      "metadata": {
        "id": "OOqiqfZuhcUH",
        "colab_type": "code",
        "outputId": "c5139c73-a174-4409-f751-ee98c84e3eb8",
        "colab": {
          "base_uri": "https://localhost:8080/",
          "height": 34
        }
      },
      "source": [
        "# check for missing values\n",
        "\n",
        "np.isnan(np.min(X_train))"
      ],
      "execution_count": 235,
      "outputs": [
        {
          "output_type": "execute_result",
          "data": {
            "text/plain": [
              "False"
            ]
          },
          "metadata": {
            "tags": []
          },
          "execution_count": 235
        }
      ]
    },
    {
      "cell_type": "code",
      "metadata": {
        "id": "pOy-htZckkIC",
        "colab_type": "code",
        "colab": {
          "base_uri": "https://localhost:8080/",
          "height": 295
        },
        "outputId": "1468f5ff-43ea-4c46-831e-3d5646828ab6"
      },
      "source": [
        "# transform the dataset\n",
        "\n",
        "# for reproducibility\n",
        "seed = 100\n",
        "# SMOTE number of neighbors\n",
        "k =1 \n",
        "\n",
        "oversample = BorderlineSMOTE(k_neighbors= k, random_state=seed)\n",
        "X_train, y_train = oversample.fit_resample(X_train, y_train)\n",
        "\n",
        "plt.title('Dataset balanced with synthetic or SMOTE')\n",
        "plt.xlabel('x')\n",
        "plt.ylabel('y')\n",
        "plt.scatter(X_res[:, 0], X_res[:, 1], marker='o', c=y_res,\n",
        "           s=25, edgecolor='k', cmap=plt.cm.coolwarm)\n",
        "plt.show()"
      ],
      "execution_count": 240,
      "outputs": [
        {
          "output_type": "display_data",
          "data": {
            "image/png": "[encoded data removed]",
            "text/plain": [
              "<Figure size 432x288 with 1 Axes>"
            ]
          },
          "metadata": {
            "tags": [],
            "needs_background": "light"
          }
        }
      ]
    },
    {
      "cell_type": "code",
      "metadata": {
        "id": "O4ysTo4UtzKW",
        "colab_type": "code",
        "colab": {
          "base_uri": "https://localhost:8080/",
          "height": 34
        },
        "outputId": "1215b2c1-a5c2-49e2-ed24-ea9fa0591bc6"
      },
      "source": [
        "Counter(y_res)"
      ],
      "execution_count": 241,
      "outputs": [
        {
          "output_type": "execute_result",
          "data": {
            "text/plain": [
              "Counter({0.0: 17, 1.0: 286})"
            ]
          },
          "metadata": {
            "tags": []
          },
          "execution_count": 241
        }
      ]
    },
    {
      "cell_type": "code",
      "metadata": {
        "id": "JP9vta2qIuT3",
        "colab_type": "code",
        "colab": {}
      },
      "source": [
        "# transform the dataset\n",
        "\n",
        "# for reproducibility\n",
        "seed = 100\n",
        "# SMOTE number of neighbors\n",
        "k =1 \n",
        "\n",
        "oversample = BorderlineSMOTE(k_neighbors= k, random_state=seed)\n",
        "X_test, y_test = oversample.fit_resample(X_test, y_test)"
      ],
      "execution_count": 0,
      "outputs": []
    },
    {
      "cell_type": "markdown",
      "metadata": {
        "id": "A2DJzAKolTPR",
        "colab_type": "text"
      },
      "source": [
        "# Scaling/Normalization/Standardization\n",
        "\n",
        "Presumably, if you really need to center & scale the data, that should be done after imputation, as the imputation could influence on the correct center and scale to use!\n",
        "\n",
        "Generally, the imputation should be the very first step in any analysis you do.\n",
        "\n",
        "However, depending on the imputation method used, for example if we Impute using distance based measure (eg. KNN), then it is recommended to first standardize the data and then Impute. That is because lower magnitude values converge faster.\n",
        "\n",
        "Use MinMax scaler unless you have a theoretical need for \"stronger medicine.\""
      ]
    },
    {
      "cell_type": "markdown",
      "metadata": {
        "id": "CVoV9nSVFCFc",
        "colab_type": "text"
      },
      "source": [
        "Tip: Which Method To Use\n",
        "It is hard to know whether rescaling your data will improve the performance of your algorithms before you apply them. If often can, but not always.\n",
        "\n",
        "A good tip is to create rescaled copies of your dataset and race them against each other using your test harness and a handful of algorithms you want to spot check. This can quickly highlight the benefits (or lack there of) of rescaling your data with given models, and which rescaling method may be worthy of further investigation. - from Machine Learning Mastery. Accessed 4/9/2020 (https://machinelearningmastery.com/rescaling-data-for-machine-learning-in-python-with-scikit-learn/)"
      ]
    },
    {
      "cell_type": "code",
      "metadata": {
        "id": "FSq0GGHnFPDl",
        "colab_type": "code",
        "colab": {}
      },
      "source": [
        "def sci_minmax(X):\n",
        "    minmax_scale = preprocessing.MinMaxScaler(feature_range=(0, 1), copy=True)\n",
        "    return minmax_scale.fit_transform(X)"
      ],
      "execution_count": 0,
      "outputs": []
    },
    {
      "cell_type": "code",
      "metadata": {
        "id": "SpfM6asmbgpd",
        "colab_type": "code",
        "colab": {}
      },
      "source": [
        "# scaler.fit(X_train)\n",
        "# X_train = scaler.transform(X_train)\n",
        "# X_test = scaler.transform(X_test)"
      ],
      "execution_count": 0,
      "outputs": []
    },
    {
      "cell_type": "code",
      "metadata": {
        "id": "fRaU8JGzH2XQ",
        "colab_type": "code",
        "colab": {}
      },
      "source": [
        "X_train = sci_minmax(X_train)"
      ],
      "execution_count": 0,
      "outputs": []
    },
    {
      "cell_type": "code",
      "metadata": {
        "id": "eF66v0bkIJp5",
        "colab_type": "code",
        "colab": {}
      },
      "source": [
        "X_test = sci_minmax(X_test)"
      ],
      "execution_count": 0,
      "outputs": []
    },
    {
      "cell_type": "code",
      "metadata": {
        "id": "uVO1S4JmNFJQ",
        "colab_type": "code",
        "colab": {}
      },
      "source": [
        "# get a list of models to evaluate\n",
        "def get_models():\n",
        "\tmodels = dict()\n",
        "\tmodels['lr'] = LogisticRegression()\n",
        "\tmodels['knn'] = KNeighborsClassifier()\n",
        "\tmodels['cart'] = DecisionTreeClassifier()\n",
        "\tmodels['svm'] = SVC()\n",
        "\tmodels['bayes'] = GaussianNB()\n",
        "\treturn models"
      ],
      "execution_count": 0,
      "outputs": []
    },
    {
      "cell_type": "markdown",
      "metadata": {
        "id": "BUL0bd4wY1SW",
        "colab_type": "text"
      },
      "source": [
        "# Scaled and Imputed Data Has Been Created!"
      ]
    },
    {
      "cell_type": "code",
      "metadata": {
        "id": "demhc7v7ZADa",
        "colab_type": "code",
        "outputId": "ac29cf3f-5966-4749-c779-f0e78c6fbae4",
        "colab": {
          "base_uri": "https://localhost:8080/",
          "height": 747
        }
      },
      "source": [
        "# pairplot of scaled and mice-imputed test data \n",
        "\n",
        "sns.pairplot(pd.DataFrame(X_train, columns=X_df.columns));"
      ],
      "execution_count": 116,
      "outputs": [
        {
          "output_type": "display_data",
          "data": {
            "image/png": "[encoded data removed]",
            "text/plain": [
              "<Figure size 720x720 with 20 Axes>"
            ]
          },
          "metadata": {
            "tags": [],
            "needs_background": "light"
          }
        }
      ]
    },
    {
      "cell_type": "markdown",
      "metadata": {
        "id": "aSfwb6evYwVv",
        "colab_type": "text"
      },
      "source": [
        "# Evaluate Models"
      ]
    },
    {
      "cell_type": "code",
      "metadata": {
        "id": "hADh6DRmNGdu",
        "colab_type": "code",
        "colab": {}
      },
      "source": [
        "# evaluate a given model using cross-validation\n",
        "def evaluate_model(model):\n",
        "  cv = RepeatedStratifiedKFold(n_splits=10, n_repeats=3, random_state=1)# transform the dataset\n",
        "  scores = cross_val_score(model, X_train, y_train, scoring='accuracy', cv=cv, n_jobs=-1, error_score='raise')\n",
        "  return scores"
      ],
      "execution_count": 0,
      "outputs": []
    },
    {
      "cell_type": "code",
      "metadata": {
        "id": "MIFJ_KZeNLIn",
        "colab_type": "code",
        "outputId": "02013850-1293-4d46-f985-e1c5087cc668",
        "colab": {
          "base_uri": "https://localhost:8080/",
          "height": 350
        }
      },
      "source": [
        "# get the models to evaluate\n",
        "models = get_models()\n",
        "\n",
        "\n",
        "# evaluate the models and store results\n",
        "results, names = list(), list()\n",
        "for name, model in models.items():\n",
        "\n",
        "  scores = evaluate_model(model)\n",
        "  results.append(scores)\n",
        "  names.append(name)\n",
        "  print('>%s %.3f (%.3f)' % (name, mean(scores), std(scores)))\n",
        "# plot model performance for comparison\n",
        "pyplot.boxplot(results, labels=names, showmeans=True)\n",
        "pyplot.show()"
      ],
      "execution_count": 118,
      "outputs": [
        {
          "output_type": "stream",
          "text": [
            ">lr 0.944 (0.015)\n",
            ">knn 0.993 (0.013)\n",
            ">cart 0.993 (0.013)\n",
            ">svm 0.944 (0.015)\n",
            ">bayes 0.911 (0.059)\n"
          ],
          "name": "stdout"
        },
        {
          "output_type": "display_data",
          "data": {
            "image/png": "[encoded data removed]",
            "text/plain": [
              "<Figure size 432x288 with 1 Axes>"
            ]
          },
          "metadata": {
            "tags": [],
            "needs_background": "light"
          }
        }
      ]
    },
    {
      "cell_type": "code",
      "metadata": {
        "id": "rm-u7G0nc0Et",
        "colab_type": "code",
        "outputId": "d9b1bb02-fe97-41fa-8ad7-7a440bc24f19",
        "colab": {
          "base_uri": "https://localhost:8080/",
          "height": 561
        }
      },
      "source": [
        "from sklearn.ensemble import StackingClassifier\n",
        "from imblearn.over_sampling import BorderlineSMOTE\n",
        "\n",
        "\n",
        "# define the base models\n",
        "level0 = list()\n",
        "level0.append(('lr', LogisticRegression()))\n",
        "level0.append(('knn', KNeighborsClassifier()))\n",
        "level0.append(('cart', DecisionTreeClassifier()))\n",
        "level0.append(('svm', SVC()))\n",
        "level0.append(('bayes', GaussianNB()))\n",
        "# define meta learner model\n",
        "level1 = LogisticRegression()\n",
        "# define the stacking ensemble\n",
        "model = StackingClassifier(estimators=level0, final_estimator=level1, cv=5)\n",
        "# fit the model on all available data\n",
        "# transform the dataset\n",
        "oversample = BorderlineSMOTE()\n",
        "X, y = oversample.fit_resample(X_train, y_train)\n",
        "model.fit(X, y)\n"
      ],
      "execution_count": 119,
      "outputs": [
        {
          "output_type": "execute_result",
          "data": {
            "text/plain": [
              "StackingClassifier(cv=5,\n",
              "                   estimators=[('lr',\n",
              "                                LogisticRegression(C=1.0, class_weight=None,\n",
              "                                                   dual=False,\n",
              "                                                   fit_intercept=True,\n",
              "                                                   intercept_scaling=1,\n",
              "                                                   l1_ratio=None, max_iter=100,\n",
              "                                                   multi_class='auto',\n",
              "                                                   n_jobs=None, penalty='l2',\n",
              "                                                   random_state=None,\n",
              "                                                   solver='lbfgs', tol=0.0001,\n",
              "                                                   verbose=0,\n",
              "                                                   warm_start=False)),\n",
              "                               ('knn',\n",
              "                                KNeighborsClassifier(algorithm='auto',\n",
              "                                                     leaf_size=30,\n",
              "                                                     metric='minko...\n",
              "                                GaussianNB(priors=None, var_smoothing=1e-09))],\n",
              "                   final_estimator=LogisticRegression(C=1.0, class_weight=None,\n",
              "                                                      dual=False,\n",
              "                                                      fit_intercept=True,\n",
              "                                                      intercept_scaling=1,\n",
              "                                                      l1_ratio=None,\n",
              "                                                      max_iter=100,\n",
              "                                                      multi_class='auto',\n",
              "                                                      n_jobs=None, penalty='l2',\n",
              "                                                      random_state=None,\n",
              "                                                      solver='lbfgs',\n",
              "                                                      tol=0.0001, verbose=0,\n",
              "                                                      warm_start=False),\n",
              "                   n_jobs=None, passthrough=False, stack_method='auto',\n",
              "                   verbose=0)"
            ]
          },
          "metadata": {
            "tags": []
          },
          "execution_count": 119
        }
      ]
    },
    {
      "cell_type": "code",
      "metadata": {
        "id": "3yvKyn_LpP2r",
        "colab_type": "code",
        "colab": {
          "base_uri": "https://localhost:8080/",
          "height": 561
        },
        "outputId": "98622a67-8b33-4c98-d8b5-a22bb40af90d"
      },
      "source": [
        "print(model)"
      ],
      "execution_count": 120,
      "outputs": [
        {
          "output_type": "stream",
          "text": [
            "StackingClassifier(cv=5,\n",
            "                   estimators=[('lr',\n",
            "                                LogisticRegression(C=1.0, class_weight=None,\n",
            "                                                   dual=False,\n",
            "                                                   fit_intercept=True,\n",
            "                                                   intercept_scaling=1,\n",
            "                                                   l1_ratio=None, max_iter=100,\n",
            "                                                   multi_class='auto',\n",
            "                                                   n_jobs=None, penalty='l2',\n",
            "                                                   random_state=None,\n",
            "                                                   solver='lbfgs', tol=0.0001,\n",
            "                                                   verbose=0,\n",
            "                                                   warm_start=False)),\n",
            "                               ('knn',\n",
            "                                KNeighborsClassifier(algorithm='auto',\n",
            "                                                     leaf_size=30,\n",
            "                                                     metric='minko...\n",
            "                                GaussianNB(priors=None, var_smoothing=1e-09))],\n",
            "                   final_estimator=LogisticRegression(C=1.0, class_weight=None,\n",
            "                                                      dual=False,\n",
            "                                                      fit_intercept=True,\n",
            "                                                      intercept_scaling=1,\n",
            "                                                      l1_ratio=None,\n",
            "                                                      max_iter=100,\n",
            "                                                      multi_class='auto',\n",
            "                                                      n_jobs=None, penalty='l2',\n",
            "                                                      random_state=None,\n",
            "                                                      solver='lbfgs',\n",
            "                                                      tol=0.0001, verbose=0,\n",
            "                                                      warm_start=False),\n",
            "                   n_jobs=None, passthrough=False, stack_method='auto',\n",
            "                   verbose=0)\n"
          ],
          "name": "stdout"
        }
      ]
    },
    {
      "cell_type": "code",
      "metadata": {
        "id": "FHGPRepDQjOh",
        "colab_type": "code",
        "outputId": "0752ce6f-9c3c-41a5-905e-ce7f6b7ccb7e",
        "colab": {
          "base_uri": "https://localhost:8080/",
          "height": 34
        }
      },
      "source": [
        "data = [[90, 10,35, 24]]\n",
        "yhat = model.predict(data)\n",
        "print('Predicted Class: %d' % (yhat))"
      ],
      "execution_count": 121,
      "outputs": [
        {
          "output_type": "stream",
          "text": [
            "Predicted Class: 1\n"
          ],
          "name": "stdout"
        }
      ]
    },
    {
      "cell_type": "code",
      "metadata": {
        "id": "PuoF51FZjlJU",
        "colab_type": "code",
        "colab": {}
      },
      "source": [
        ""
      ],
      "execution_count": 0,
      "outputs": []
    }
  ]
}